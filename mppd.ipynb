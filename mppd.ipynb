{
  "cells": [
    {
      "cell_type": "code",
      "execution_count": 1,
      "metadata": {
        "colab": {
          "base_uri": "https://localhost:8080/"
        },
        "id": "aeWEr7SVACGP",
        "outputId": "14c82a0e-c365-4710-ab98-a099687bb1a3"
      },
      "outputs": [
        {
          "output_type": "stream",
          "name": "stdout",
          "text": [
            "Requirement already satisfied: trimesh in /usr/local/lib/python3.7/dist-packages (3.9.36)\n",
            "Requirement already satisfied: numpy in /usr/local/lib/python3.7/dist-packages (from trimesh) (1.19.5)\n",
            "Requirement already satisfied: setuptools in /usr/local/lib/python3.7/dist-packages (from trimesh) (57.4.0)\n"
          ]
        }
      ],
      "source": [
        "pip install trimesh"
      ]
    },
    {
      "cell_type": "code",
      "execution_count": 2,
      "metadata": {
        "id": "lzg3HwMO_5vD"
      },
      "outputs": [],
      "source": [
        "import os\n",
        "import random\n",
        "import glob\n",
        "import trimesh\n",
        "import numpy as np\n",
        "import tensorflow as tf\n",
        "from matplotlib import pyplot as plt\n",
        "import scipy \n",
        "from tensorflow import keras\n",
        "from tensorflow.keras import layers\n",
        "from tensorflow.keras import optimizers\n",
        "from tensorflow.keras.layers import Conv3D, Dense ,Dropout, Flatten, Activation, MaxPooling3D, Input\n",
        "from tensorflow.keras.layers import Convolution2D,Conv2D, Dense,Dropout, Flatten, Activation, MaxPooling2D, Input, Conv1D, GlobalAveragePooling1D, TimeDistributed, GRU, LSTM\n",
        "\n",
        "\n",
        "from sklearn.model_selection import train_test_split, KFold,StratifiedKFold\n",
        "\n",
        "from mpl_toolkits.mplot3d import Axes3D\n",
        "import numpy as np\n",
        "import matplotlib.pyplot as plt\n"
      ]
    },
    {
      "cell_type": "code",
      "execution_count": 3,
      "metadata": {
        "colab": {
          "base_uri": "https://localhost:8080/"
        },
        "id": "nrAEYus-AVcE",
        "outputId": "b7e0daf2-0d23-4e24-fa4d-d95c3ca76318"
      },
      "outputs": [
        {
          "output_type": "stream",
          "name": "stdout",
          "text": [
            "Drive already mounted at /content/drive; to attempt to forcibly remount, call drive.mount(\"/content/drive\", force_remount=True).\n",
            "reading from cloud...\n"
          ]
        }
      ],
      "source": [
        "try:\n",
        "    from google.colab import drive\n",
        "    drive.mount('/content/drive')\n",
        "\n",
        "    print(\"reading from cloud...\")\n",
        "    path = \"/content/drive/MyDrive/Colab Notebooks/MPPE/data_70p_overhang/stls_opt/\"\n",
        "    path_vox = \"/content/drive/MyDrive/Colab Notebooks/MPPE/data_70p_overhang/voxelsFloat/\"\n",
        "    \n",
        "except:\n",
        "    import pathlib\n",
        "    print(\"reading from disk\")\n",
        "    path = str(pathlib.Path().resolve())+\"/dataset/stls_opt/\"\n",
        "    path_vox = str(pathlib.Path().resolve())+\"/dataset/voxels/\"\n",
        "\n",
        "\n",
        "mesh = trimesh.load(path+\"63_8475_10313_17790_28845.stl\")"
      ]
    },
    {
      "cell_type": "code",
      "source": [
        "def calculate_cost(filename):\n",
        "  #params\n",
        "  #time - parts usally need 15 minutes for preparation\n",
        "  #1h - 10eur\n",
        "  price_per_h = 2\n",
        "  price_per_meter = 0.17#0.1133 #150 meters costs 17e \n",
        "  filament_diameter = 2.85 #mm\n",
        "  filament_phi = np.power(filament_diameter/2,2)*np.pi #mm^2\n",
        "  \n",
        "  support_removal_multiplier= 2\n",
        "  support_removal_multiplier_time = 1.5\n",
        "  profit_margin = 0.1\n",
        "  #larger parts need longer time + 5 minutes slice time. \n",
        "  \n",
        "  #get data from filename\n",
        "  data = filename.replace(\".\",\"_\").split(\"_\")\n",
        "  data = [int(x) for x in data[:-1]]\n",
        "\n",
        "  #calculate cost from filament lenght\n",
        "\n",
        "  #calulate cost no support \n",
        "  cost_filament = ((data[2]/(filament_phi*1000)))*price_per_meter\n",
        "\n",
        "  #calulcate cost of printing supports only \n",
        "  cost_supports = (abs(data[2]-data[4])/(filament_phi*1000))*price_per_meter\n",
        "  cost_supports_removal = support_removal_multiplier*cost_supports\n",
        "\n",
        "  #calulate timewise cost in hours\n",
        "  print_time = data[1]\n",
        "  print_time_supports = data[3]\n",
        "\n",
        "  #convert to horus and include time for removing supports \n",
        "  print_time= (((print_time + 2*abs(print_time-print_time_supports))*support_removal_multiplier_time)/3600)\n",
        "  print_time_cost = print_time * price_per_h\n",
        "\n",
        "  #cena\n",
        "  cost = (cost_filament+cost_supports+cost_supports_removal+print_time_cost)\n",
        "  cost = (cost*profit_margin)+cost\n",
        "\n",
        "  return cost\n",
        "\n",
        "#cost = calculate_cost(\"89_88123_134991_106833_152824.stl\")\n",
        "#cost = calculate_cost(\"62_1605_2129_2398_3618.stl\")\n",
        "cost = calculate_cost(\"108_31956_48635_34435_50936.stl\")\n",
        "print(cost)"
      ],
      "metadata": {
        "colab": {
          "base_uri": "https://localhost:8080/"
        },
        "id": "_HKy6ANOZvOG",
        "outputId": "5e3cb78c-1ce5-4af8-9c47-c1410543be5e"
      },
      "execution_count": 4,
      "outputs": [
        {
          "output_type": "stream",
          "name": "stdout",
          "text": [
            "35.46582523917991\n"
          ]
        }
      ]
    },
    {
      "cell_type": "code",
      "source": [
        "X = np.zeros([0,100,100,100])\n",
        "X_volume = np.zeros([0,1])\n",
        "X_area = np.zeros([0,1])\n",
        "\n",
        "y = np.zeros(0)\n",
        "count = 0\n",
        "for filename in os.listdir(path_vox):\n",
        "    if filename.endswith(\".npy\"):\n",
        "        count = count +1\n",
        "        #print(\"appending\", filename.split(\".\")[0])\n",
        "        img = np.load(path_vox+filename)\n",
        "\n",
        "        img =(img -(np.min(img)))\n",
        "        img = img/np.max(img)\n",
        "        cost = calculate_cost(filename)\n",
        "        \n",
        "        img = np.swapaxes(img,0,-1)\n",
        "\n",
        "        X = np.append(X,img[np.newaxis,...],axis=0)\n",
        "        y = np.append(y,cost)\n",
        "        \n",
        "        mesh = trimesh.load(path+filename.split(\".\")[0]+\".stl\")\n",
        "        \n",
        "        mv = np.array(abs(mesh.volume))\n",
        "        X_volume = np.append(X_volume,mv[np.newaxis,...])\n",
        "\n",
        "        ma = np.array(abs(mesh.area))\n",
        "        X_area = np.append(X_area,ma[np.newaxis,...])\n",
        "\n",
        "print(count)\n",
        "X_area = X_area[...,np.newaxis]\n",
        "X_volume = X_volume[...,np.newaxis]\n",
        "X = X[...,np.newaxis]"
      ],
      "metadata": {
        "id": "s7xD2c4KsFHj",
        "colab": {
          "base_uri": "https://localhost:8080/"
        },
        "outputId": "721ef259-3c35-4683-c9b9-ceabd4506c00"
      },
      "execution_count": 15,
      "outputs": [
        {
          "output_type": "stream",
          "name": "stdout",
          "text": [
            "194\n"
          ]
        }
      ]
    },
    {
      "cell_type": "code",
      "source": [
        "n_samples = X.shape[0]\n",
        "train_ind, test_ind  = train_test_split(range(n_samples), test_size=0.2, random_state=36)\n",
        "\n",
        "X_train = X[train_ind]\n",
        "X_train_volume = X_volume[train_ind]\n",
        "X_train_area = X_area[train_ind]\n",
        "y_train = y[train_ind]\n",
        "\n",
        "X_test = X[test_ind]\n",
        "X_test_volume = X_volume[test_ind]\n",
        "X_test_area = X_area[test_ind]\n",
        "y_test = y[test_ind]\n",
        "\n",
        "print(\"train\",X_train.shape,X_train_volume.shape,X_train_area.shape)\n",
        "print(\"test\",X_test.shape,X_test_volume.shape,X_test_area.shape)"
      ],
      "metadata": {
        "colab": {
          "base_uri": "https://localhost:8080/"
        },
        "id": "TvrJA9v_deq8",
        "outputId": "ea73fdfe-eec5-492c-fe14-9d756dc8217e"
      },
      "execution_count": 16,
      "outputs": [
        {
          "output_type": "stream",
          "name": "stdout",
          "text": [
            "train (155, 100, 100, 100, 1) (155, 1) (155, 1)\n",
            "test (39, 100, 100, 100, 1) (39, 1) (39, 1)\n"
          ]
        }
      ]
    },
    {
      "cell_type": "code",
      "source": [
        "def augment(img,angle):\n",
        "\n",
        "  img = scipy.ndimage.rotate(img,angle,axes=(0,1),order=3)\n",
        "  n = 100\n",
        "  desiredshape = np.array([n,n,n])\n",
        "  zoomArray = desiredshape.astype(np.float32) / img.shape\n",
        "  img = scipy.ndimage.interpolation.zoom(img, zoomArray).astype(np.float32)\n",
        "  \n",
        "  img =(img -(np.min(img)))\n",
        "\n",
        "  img = img/np.max(img)\n",
        "  return img"
      ],
      "metadata": {
        "id": "kEodXrjKt37C"
      },
      "execution_count": 22,
      "outputs": []
    },
    {
      "cell_type": "code",
      "source": [
        "X_train_2 = np.zeros([0,100,100,100])\n",
        "X_train_volume_2 = np.zeros([0,1])\n",
        "X_train_area_2 = np.zeros([0,1])\n",
        "y_train_2 = np.zeros(0)\n",
        "\n",
        "for i,img in enumerate(X_train):\n",
        "  for angle in range(0,330,30):\n",
        "    img_aug = augment(img[:,:,:,0],angle)\n",
        "\n",
        "    X_train_2 = np.append(X_train_2,img_aug[np.newaxis,...],axis=0)\n",
        "    X_train_volume_2 = np.append(X_train_volume_2,X_train_volume[i])\n",
        "    X_train_area_2 = np.append(X_train_area_2,X_train_area[i])\n",
        "\n",
        "    y_train_2 = np.append(y_train_2,y_train[i])\n",
        "  \n",
        "X_train_area_2 = X_train_area_2[...,np.newaxis]\n",
        "X_train_volume_2 = X_train_volume_2[...,np.newaxis]\n",
        "X_train_2 = X_train_2[...,np.newaxis]"
      ],
      "metadata": {
        "colab": {
          "base_uri": "https://localhost:8080/",
          "height": 426
        },
        "id": "RgJvpdbRvJlv",
        "outputId": "e38ac1fc-d692-426f-8515-457b49e0ce5d"
      },
      "execution_count": 23,
      "outputs": [
        {
          "output_type": "error",
          "ename": "KeyboardInterrupt",
          "evalue": "ignored",
          "traceback": [
            "\u001b[0;31m---------------------------------------------------------------------------\u001b[0m",
            "\u001b[0;31mKeyboardInterrupt\u001b[0m                         Traceback (most recent call last)",
            "\u001b[0;32m<ipython-input-23-b81b44b0a8a0>\u001b[0m in \u001b[0;36m<module>\u001b[0;34m()\u001b[0m\n\u001b[1;32m      8\u001b[0m     \u001b[0mimg_aug\u001b[0m \u001b[0;34m=\u001b[0m \u001b[0maugment\u001b[0m\u001b[0;34m(\u001b[0m\u001b[0mimg\u001b[0m\u001b[0;34m[\u001b[0m\u001b[0;34m:\u001b[0m\u001b[0;34m,\u001b[0m\u001b[0;34m:\u001b[0m\u001b[0;34m,\u001b[0m\u001b[0;34m:\u001b[0m\u001b[0;34m,\u001b[0m\u001b[0;36m0\u001b[0m\u001b[0;34m]\u001b[0m\u001b[0;34m,\u001b[0m\u001b[0mangle\u001b[0m\u001b[0;34m)\u001b[0m\u001b[0;34m\u001b[0m\u001b[0;34m\u001b[0m\u001b[0m\n\u001b[1;32m      9\u001b[0m \u001b[0;34m\u001b[0m\u001b[0m\n\u001b[0;32m---> 10\u001b[0;31m     \u001b[0mX_train_2\u001b[0m \u001b[0;34m=\u001b[0m \u001b[0mnp\u001b[0m\u001b[0;34m.\u001b[0m\u001b[0mappend\u001b[0m\u001b[0;34m(\u001b[0m\u001b[0mX_train_2\u001b[0m\u001b[0;34m,\u001b[0m\u001b[0mimg_aug\u001b[0m\u001b[0;34m[\u001b[0m\u001b[0mnp\u001b[0m\u001b[0;34m.\u001b[0m\u001b[0mnewaxis\u001b[0m\u001b[0;34m,\u001b[0m\u001b[0;34m...\u001b[0m\u001b[0;34m]\u001b[0m\u001b[0;34m,\u001b[0m\u001b[0maxis\u001b[0m\u001b[0;34m=\u001b[0m\u001b[0;36m0\u001b[0m\u001b[0;34m)\u001b[0m\u001b[0;34m\u001b[0m\u001b[0;34m\u001b[0m\u001b[0m\n\u001b[0m\u001b[1;32m     11\u001b[0m     \u001b[0mX_train_volume_2\u001b[0m \u001b[0;34m=\u001b[0m \u001b[0mnp\u001b[0m\u001b[0;34m.\u001b[0m\u001b[0mappend\u001b[0m\u001b[0;34m(\u001b[0m\u001b[0mX_train_volume_2\u001b[0m\u001b[0;34m,\u001b[0m\u001b[0mX_train_volume\u001b[0m\u001b[0;34m[\u001b[0m\u001b[0mi\u001b[0m\u001b[0;34m]\u001b[0m\u001b[0;34m)\u001b[0m\u001b[0;34m\u001b[0m\u001b[0;34m\u001b[0m\u001b[0m\n\u001b[1;32m     12\u001b[0m     \u001b[0mX_train_area_2\u001b[0m \u001b[0;34m=\u001b[0m \u001b[0mnp\u001b[0m\u001b[0;34m.\u001b[0m\u001b[0mappend\u001b[0m\u001b[0;34m(\u001b[0m\u001b[0mX_train_area_2\u001b[0m\u001b[0;34m,\u001b[0m\u001b[0mX_train_area\u001b[0m\u001b[0;34m[\u001b[0m\u001b[0mi\u001b[0m\u001b[0;34m]\u001b[0m\u001b[0;34m)\u001b[0m\u001b[0;34m\u001b[0m\u001b[0;34m\u001b[0m\u001b[0m\n",
            "\u001b[0;32m<__array_function__ internals>\u001b[0m in \u001b[0;36mappend\u001b[0;34m(*args, **kwargs)\u001b[0m\n",
            "\u001b[0;32m/usr/local/lib/python3.7/dist-packages/numpy/lib/function_base.py\u001b[0m in \u001b[0;36mappend\u001b[0;34m(arr, values, axis)\u001b[0m\n\u001b[1;32m   4669\u001b[0m         \u001b[0mvalues\u001b[0m \u001b[0;34m=\u001b[0m \u001b[0mravel\u001b[0m\u001b[0;34m(\u001b[0m\u001b[0mvalues\u001b[0m\u001b[0;34m)\u001b[0m\u001b[0;34m\u001b[0m\u001b[0;34m\u001b[0m\u001b[0m\n\u001b[1;32m   4670\u001b[0m         \u001b[0maxis\u001b[0m \u001b[0;34m=\u001b[0m \u001b[0marr\u001b[0m\u001b[0;34m.\u001b[0m\u001b[0mndim\u001b[0m\u001b[0;34m-\u001b[0m\u001b[0;36m1\u001b[0m\u001b[0;34m\u001b[0m\u001b[0;34m\u001b[0m\u001b[0m\n\u001b[0;32m-> 4671\u001b[0;31m     \u001b[0;32mreturn\u001b[0m \u001b[0mconcatenate\u001b[0m\u001b[0;34m(\u001b[0m\u001b[0;34m(\u001b[0m\u001b[0marr\u001b[0m\u001b[0;34m,\u001b[0m \u001b[0mvalues\u001b[0m\u001b[0;34m)\u001b[0m\u001b[0;34m,\u001b[0m \u001b[0maxis\u001b[0m\u001b[0;34m=\u001b[0m\u001b[0maxis\u001b[0m\u001b[0;34m)\u001b[0m\u001b[0;34m\u001b[0m\u001b[0;34m\u001b[0m\u001b[0m\n\u001b[0m\u001b[1;32m   4672\u001b[0m \u001b[0;34m\u001b[0m\u001b[0m\n\u001b[1;32m   4673\u001b[0m \u001b[0;34m\u001b[0m\u001b[0m\n",
            "\u001b[0;32m<__array_function__ internals>\u001b[0m in \u001b[0;36mconcatenate\u001b[0;34m(*args, **kwargs)\u001b[0m\n",
            "\u001b[0;31mKeyboardInterrupt\u001b[0m: "
          ]
        }
      ]
    },
    {
      "cell_type": "code",
      "source": [
        "X_train = X_train_2\n",
        "X_trian_volume = X_train_2\n",
        "X_train_area_2 = X_train_area\n",
        "y_train = y_train_2"
      ],
      "metadata": {
        "id": "3GQ8VtdUmUGX"
      },
      "execution_count": null,
      "outputs": []
    },
    {
      "cell_type": "code",
      "execution_count": 87,
      "metadata": {
        "id": "d45eX3H0lw12"
      },
      "outputs": [],
      "source": [
        "\n",
        "#my net\n",
        "input1 = keras.Input(shape=(X_train.shape[1:]))\n",
        "input2 = keras.Input(shape=(X_train_volume.shape[1:]))\n",
        "input3 = keras.Input(shape=(X_train_area.shape[1:]))\n",
        "\n",
        "#y = Dense(1)(input2)\n",
        "activ = \"relu\"\n",
        "# x = Conv3D(63,(3,3,3),strides = (2,2,2), activation=activ, padding = 'same')(input1)\n",
        "# x = Conv3D(64,(3,3,3),strides = (2,2,2), activation=activ, padding = 'same')(x)\n",
        "# x = MaxPooling3D(pool_size=(2, 2, 2))(x)\n",
        "#x = layers.Dropout(0.3)(x)\n",
        "n=3\n",
        "x = Conv3D(16,(n,n,n),strides = (2,2,2), activation=activ, padding = 'same')(input1)\n",
        "x = Conv3D(16,(n,n,n),strides = (2,2,2), activation=activ, padding = 'same')(x)\n",
        "x = MaxPooling3D(pool_size=(2, 2, 2))(x)\n",
        "#x = layers.Dropout(0.3)(x)\n",
        "x = Conv3D(8,(n,n,n),strides = (2,2,2), activation=activ, padding = 'same')(x)\n",
        "x = Conv3D(8,(n,n,n),strides = (2,2,2), activation=activ, padding = 'same')(x)\n",
        "x = MaxPooling3D(pool_size=(2, 2, 2))(x)\n",
        "\n",
        "# x = Conv3D(8,(n,n,n),strides = (2,2,2), activation=activ, padding = 'same')(x)\n",
        "# x = Conv3D(8,(n,n,n),strides = (2,2,2), activation=activ, padding = 'same')(x)\n",
        "# x = MaxPooling3D(pool_size=(1, 1, 1))(x)\n",
        "\n",
        "x = Activation('relu')(x)\n",
        "\n",
        "x = layers.Dropout(0.3)(x)\n",
        "\n",
        "x = Flatten()(x)\n",
        "\n",
        "x = layers.Concatenate(axis=1)([x,input2])\n",
        "x = layers.Concatenate(axis=1)([x,input2*2])\n",
        "x = layers.Concatenate(axis=1)([x,input2*3])\n",
        "x = layers.Concatenate(axis=1)([x,input2*4])\n",
        "x = layers.Concatenate(axis=1)([x,input2*5])\n",
        "x = layers.Concatenate(axis=1)([x,input2*6])\n",
        "x = layers.Concatenate(axis=1)([x,input2*7])\n",
        "\n",
        "#x = Dense(4, activation = 'relu')(x)\n",
        "x = layers.Concatenate(axis=1)([x,input3])\n",
        "\n",
        "dense = Dense(2000, activation = activ)(x)\n",
        "dense = Dense(300, activation = activ)(dense)\n",
        "dense = Dense(150, activation = activ)(dense)\n",
        "dense = Dense(20, activation = activ)(dense)\n",
        "dense = Dense(16, activation = activ)(dense)\n",
        "    # final layer with 10 neurons to classify the instances\n",
        "output = Dense(1, activation = 'linear')(dense)\n",
        "    \n",
        "#outputs = layers.Dense(NUM_CLASSES, activation=\"softmax\")(x)\n",
        "\n",
        "model = keras.Model(inputs=[input1,input2,input3], outputs=output, name=\"jjnet\")"
      ]
    },
    {
      "cell_type": "code",
      "source": [
        "input1 = keras.Input(shape=(X_train.shape[1:]))\n",
        "input2 = keras.Input(shape=(X_train_volume.shape[1:]))\n",
        "input3 = keras.Input(shape=(X_train_area.shape[1:]))\n",
        "\n",
        "activ = \"relu\"\n",
        "\n",
        "x = TimeDistributed(Convolution2D(32, (7, 7), activation='relu', padding='same'))(input1)\n",
        "x = TimeDistributed(Convolution2D(32, (7, 7), activation='relu', padding='same'))(x)\n",
        "x = TimeDistributed(MaxPooling2D(pool_size=(2, 2), padding='same'))(x)\n",
        "\n",
        "x = TimeDistributed(Convolution2D(8, (3, 3), activation='relu', padding='same'))(x)\n",
        "x = TimeDistributed(Convolution2D(8, (3, 3), activation='relu', padding='same'))(x)\n",
        "x = TimeDistributed(MaxPooling2D(pool_size=(2, 2), padding='same'))(x)\n",
        "x = TimeDistributed(Convolution2D(4, (3, 3), activation='relu', padding='same'))(x)\n",
        "x = TimeDistributed(Convolution2D(4, (3, 3), activation='relu', padding='same'))(x)\n",
        "x = TimeDistributed(MaxPooling2D(pool_size=(2, 2), padding='same'))(x)\n",
        "x = Dropout(0.30)(x)\n",
        "\n",
        "x = TimeDistributed(Convolution2D(4, (3, 3), activation='relu', padding='same'))(x)\n",
        "x = TimeDistributed(Convolution2D(4, (3, 3), activation='relu', padding='same'))(x)\n",
        "x = TimeDistributed(MaxPooling2D(pool_size=(2, 2), padding='same'))(x)\n",
        "x = Dropout(0.60)(x)\n",
        "x = TimeDistributed(Flatten())(x)\n",
        "x = LSTM(8, return_sequences=True, unroll=False, dropout=0.3)(x)  # dropout=0.6\n",
        "x = LSTM(8, return_sequences=False, unroll=False, dropout=0.3)(x)\n",
        "\n",
        "\n",
        "x = layers.Concatenate(axis=1)([x,input2])\n",
        "\n",
        "#x = Dense(4, activation = 'relu')(x)\n",
        "x = layers.Concatenate(axis=1)([x,input3])\n",
        "\n",
        "dense = Dense(2000, activation = activ)(x)\n",
        "dense = Dense(300, activation = activ)(dense)\n",
        "dense = Dense(150, activation = activ)(dense)\n",
        "dense = Dense(20, activation = activ)(dense)\n",
        "dense = Dense(16, activation = activ)(dense)\n",
        "    # final layer with 10 neurons to classify the instances\n",
        "output = Dense(1, activation = 'linear')(dense)\n",
        "    \n",
        "\n",
        "model = keras.Model(inputs=[input1,input2,input3], outputs=output, name=\"jjlstmnet\")\n"
      ],
      "metadata": {
        "id": "ofDFz7RL-14E"
      },
      "execution_count": 23,
      "outputs": []
    },
    {
      "cell_type": "code",
      "source": [
        "#@title Default title text\n",
        "#paper net \n",
        "input1 = keras.Input(shape=(X_train.shape[1:]))\n",
        "input2 = keras.Input(shape=(X_train_volume.shape[1:]))\n",
        "input3 = keras.Input(shape=(X_train_area.shape[1:]))\n",
        "\n",
        "\n",
        "\n",
        "x = Conv3D(16,(3,3,3), activation='LeakyReLU', padding = 'same')(input1)\n",
        "x = Conv3D(16,(3,3,3), activation='LeakyReLU', padding = 'same')(x)\n",
        "x = MaxPooling3D(pool_size=(2, 2, 2))(x)\n",
        "x = layers.Dropout(0.3)(x)\n",
        "\n",
        "x = Conv3D(32,(3,3,3), activation='LeakyReLU', padding = 'same')(x)\n",
        "x = Conv3D(32,(3,3,3), activation='LeakyReLU', padding = 'same')(x)\n",
        "x = MaxPooling3D(pool_size=(2, 2, 2))(x)\n",
        "x = layers.Dropout(0.3)(x)\n",
        "\n",
        "x = Conv3D(8,(3,3,3), activation='LeakyReLU', padding = 'same')(x)\n",
        "\n",
        "x = layers.Dropout(0.8)(x)\n",
        "\n",
        "x = Flatten()(x)\n",
        "\n",
        "x = layers.Concatenate(axis=1)([x,input2])\n",
        "x = Dense(8, activation = 'LeakyReLU')(x)\n",
        "dense = Dense(2000, activation = 'LeakyReLU')(x)\n",
        "dense = Dense(300, activation = 'LeakyReLU')(dense)\n",
        "dense = Dense(150, activation = 'LeakyReLU')(dense)\n",
        "dense = Dense(20, activation = 'LeakyReLU')(dense)\n",
        "dense = Dense(16, activation = 'LeakyReLU')(dense)\n",
        "    # final layer with 10 neurons to classify the instances\n",
        "output = Dense(1, activation = 'linear')(dense)\n",
        "    \n",
        "#outputs = layers.Dense(NUM_CLASSES, activation=\"softmax\")(x)\n",
        "\n",
        "model = keras.Model(inputs=[input1,input2], outputs=output, name=\"papernet\")"
      ],
      "metadata": {
        "id": "5NctJfQTgfIE",
        "cellView": "form"
      },
      "execution_count": null,
      "outputs": []
    },
    {
      "cell_type": "code",
      "execution_count": null,
      "metadata": {
        "id": "765aPkAD_5vR",
        "outputId": "74a7146e-8f69-4c97-86f3-08cff7c2ec16",
        "colab": {
          "base_uri": "https://localhost:8080/"
        }
      },
      "outputs": [
        {
          "output_type": "stream",
          "name": "stdout",
          "text": [
            "Epoch 1/100\n",
            "16/16 [==============================] - 63s 3s/step - loss: 2.6567 - MAPE: 99.9337 - val_loss: 2.4298 - val_MAPE: 99.8492\n",
            "Epoch 2/100\n",
            "16/16 [==============================] - 23s 1s/step - loss: 2.6511 - MAPE: 99.9022 - val_loss: 2.4279 - val_MAPE: 99.6209\n",
            "Epoch 3/100\n",
            "16/16 [==============================] - 23s 1s/step - loss: 2.6498 - MAPE: 99.7361 - val_loss: 2.4265 - val_MAPE: 99.4465\n",
            "Epoch 4/100\n",
            "16/16 [==============================] - 23s 1s/step - loss: 2.6486 - MAPE: 99.6593 - val_loss: 2.4251 - val_MAPE: 99.2597\n",
            "Epoch 5/100\n",
            "16/16 [==============================] - 24s 1s/step - loss: 2.6473 - MAPE: 99.5151 - val_loss: 2.4236 - val_MAPE: 99.0731\n",
            "Epoch 6/100\n",
            "16/16 [==============================] - 23s 1s/step - loss: 2.6460 - MAPE: 99.4910 - val_loss: 2.4221 - val_MAPE: 98.8857\n",
            "Epoch 7/100\n",
            "16/16 [==============================] - 23s 1s/step - loss: 2.6448 - MAPE: 99.3941 - val_loss: 2.4204 - val_MAPE: 98.6770\n",
            "Epoch 8/100\n",
            "16/16 [==============================] - 23s 1s/step - loss: 2.6432 - MAPE: 99.2195 - val_loss: 2.4182 - val_MAPE: 98.4118\n",
            "Epoch 9/100\n",
            "16/16 [==============================] - 23s 1s/step - loss: 2.5858 - MAPE: 101.2703 - val_loss: 2.0767 - val_MAPE: 111.8542\n",
            "Epoch 10/100\n",
            "16/16 [==============================] - 23s 1s/step - loss: 1.9813 - MAPE: 133.0079 - val_loss: 1.2169 - val_MAPE: 198.6232\n",
            "Epoch 11/100\n",
            "16/16 [==============================] - 23s 1s/step - loss: 1.0376 - MAPE: 253.2314 - val_loss: 1.0404 - val_MAPE: 372.1440\n",
            "Epoch 12/100\n",
            "16/16 [==============================] - 23s 1s/step - loss: 0.9868 - MAPE: 261.5413 - val_loss: 0.8932 - val_MAPE: 295.2431\n",
            "Epoch 13/100\n",
            "14/16 [=========================>....] - ETA: 2s - loss: 0.9505 - MAPE: 271.4139"
          ]
        }
      ],
      "source": [
        "model.compile(\n",
        "    loss=\"MAE\",\n",
        "    optimizer=keras.optimizers.Adam(learning_rate=0.0001),\n",
        "    metrics=[\"MAPE\"],\n",
        ")\n",
        "\n",
        "model.fit([X_train,np.log(X_train_volume), np.log(X_train_area)], np.log(y_train),validation_split = 0.2, batch_size = 8, epochs = 100, verbose = 1)\n"
      ]
    },
    {
      "cell_type": "code",
      "source": [
        ""
      ],
      "metadata": {
        "id": "AVdZ5NrAMZGn"
      },
      "execution_count": null,
      "outputs": []
    },
    {
      "cell_type": "code",
      "execution_count": 19,
      "metadata": {
        "id": "2SBZORUO_5vT"
      },
      "outputs": [],
      "source": [
        "preds = model.predict([X_test, np.log(X_test_volume),np.log(X_test_area)])#*y_train_max"
      ]
    },
    {
      "cell_type": "code",
      "source": [
        "np.sum(abs(np.exp(preds)-(y_test)))/len(preds)"
      ],
      "metadata": {
        "id": "BfttA-O3EyJH",
        "outputId": "71b54386-2498-459c-c1fe-afb778e162f7",
        "colab": {
          "base_uri": "https://localhost:8080/"
        }
      },
      "execution_count": 20,
      "outputs": [
        {
          "output_type": "execute_result",
          "data": {
            "text/plain": [
              "1011.7132990542905"
            ]
          },
          "metadata": {},
          "execution_count": 20
        }
      ]
    },
    {
      "cell_type": "code",
      "source": [
        "np.sum(abs(((preds)-(np.log(y_train)))))/len(preds)"
      ],
      "metadata": {
        "id": "Gp9BDJ66212y",
        "outputId": "80619abf-e086-4dfb-d65b-3de14b7bd3ab",
        "colab": {
          "base_uri": "https://localhost:8080/"
        }
      },
      "execution_count": 21,
      "outputs": [
        {
          "output_type": "execute_result",
          "data": {
            "text/plain": [
              "257.2425374265802"
            ]
          },
          "metadata": {},
          "execution_count": 21
        }
      ]
    },
    {
      "cell_type": "code",
      "source": [
        "for e,i in zip(np.exp(preds),y_test):\n",
        "  print(\"preds\",e,\"truth\",i)"
      ],
      "metadata": {
        "id": "fO-njwLL3Vpl",
        "outputId": "0392d2aa-7569-4df7-fded-37824659cee5",
        "colab": {
          "base_uri": "https://localhost:8080/"
        }
      },
      "execution_count": 22,
      "outputs": [
        {
          "output_type": "stream",
          "name": "stdout",
          "text": [
            "preds [3.0069158] truth 10.550534009106135\n",
            "preds [0.6692073] truth 0.876478508911503\n",
            "preds [39.306473] truth 37.825807515098546\n",
            "preds [9.647889] truth 9.558691957739363\n",
            "preds [13.491415] truth 11.33614703354167\n",
            "preds [14.118501] truth 8.992949423767875\n",
            "preds [18.467197] truth 20.493242586901623\n",
            "preds [32.80975] truth 35.213371954371155\n",
            "preds [11.938978] truth 12.580058141191824\n",
            "preds [35.716927] truth 58.71086767322592\n",
            "preds [19.612278] truth 21.25672382982824\n",
            "preds [7.2866697] truth 7.066464057833883\n",
            "preds [0.3931976] truth 0.44681441525626825\n",
            "preds [21.417421] truth 17.574702523759765\n",
            "preds [19.408482] truth 34.64826596893068\n",
            "preds [17.866121] truth 17.66062723045227\n",
            "preds [35.60497] truth 38.39619630567291\n",
            "preds [35.086918] truth 54.11466815745594\n",
            "preds [12.491224] truth 11.67592801267331\n",
            "preds [4.248855] truth 4.492337961336459\n",
            "preds [2.21563] truth 2.7159952669707823\n",
            "preds [6.667821] truth 5.85850763700873\n",
            "preds [5.529442] truth 5.384281793110762\n",
            "preds [1.4333287] truth 1.6424507347978434\n",
            "preds [33.509953] truth 34.56376749795774\n",
            "preds [19.175653] truth 22.492555256149572\n",
            "preds [46.88562] truth 61.50892551642673\n",
            "preds [78.91422] truth 63.847974188694295\n",
            "preds [0.6993365] truth 0.8197888351532744\n",
            "preds [24.824429] truth 18.861525632017315\n",
            "preds [4.872401] truth 5.127406270610664\n",
            "preds [3.4566972] truth 3.6059298867082497\n",
            "preds [70.39188] truth 108.79986700316321\n",
            "preds [39.5949] truth 69.81681981105584\n",
            "preds [101.46678] truth 132.819567184751\n",
            "preds [18.460442] truth 13.690612505399978\n",
            "preds [46.21209] truth 46.65956068510782\n",
            "preds [13.140616] truth 11.014982664895943\n",
            "preds [12.623726] truth 15.757150765540109\n"
          ]
        }
      ]
    },
    {
      "cell_type": "code",
      "source": [
        "from keras.utils.vis_utils import plot_model\n",
        "\n",
        "plot_model(model,\n",
        "    to_file=\"model.png\",\n",
        "    show_shapes=False,\n",
        "    show_dtype=False,\n",
        "    show_layer_names=True,\n",
        "    rankdir=\"TB\",\n",
        "    expand_nested=False,\n",
        "    dpi=96,\n",
        "    layer_range=None,\n",
        "    show_layer_activations=False)"
      ],
      "metadata": {
        "id": "NpPJ9gHDYs6A",
        "outputId": "b5b99a93-3d9e-4649-b6d9-d4f63781b93b",
        "colab": {
          "base_uri": "https://localhost:8080/",
          "height": 1000
        }
      },
      "execution_count": 35,
      "outputs": [
        {
          "output_type": "execute_result",
          "data": {
            "image/png": "[encoded data removed]",
            "text/plain": [
              "<IPython.core.display.Image object>"
            ]
          },
          "metadata": {},
          "execution_count": 35
        }
      ]
    }
  ],
  "metadata": {
    "accelerator": "GPU",
    "colab": {
      "name": "mppd.ipynb",
      "provenance": []
    },
    "interpreter": {
      "hash": "50ffb7d2e1c20b3fce74969edadf992c5e2c62f97786e5c092ebf6cc72a542c6"
    },
    "kernelspec": {
      "display_name": "Python 3.8.3 64-bit ('MPPE': conda)",
      "name": "python3"
    },
    "language_info": {
      "codemirror_mode": {
        "name": "ipython",
        "version": 3
      },
      "file_extension": ".py",
      "mimetype": "text/x-python",
      "name": "python",
      "nbconvert_exporter": "python",
      "pygments_lexer": "ipython3",
      "version": "3.8.3"
    },
    "orig_nbformat": 4
  },
  "nbformat": 4,
  "nbformat_minor": 0
}