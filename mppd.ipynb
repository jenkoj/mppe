{
  "cells": [
    {
      "cell_type": "code",
      "execution_count": 7,
      "metadata": {
        "colab": {
          "base_uri": "https://localhost:8080/"
        },
        "id": "aeWEr7SVACGP",
        "outputId": "01ae565f-e52c-4ff9-c3a3-22edd6d794eb"
      },
      "outputs": [
        {
          "output_type": "stream",
          "name": "stdout",
          "text": [
            "Requirement already satisfied: trimesh in /usr/local/lib/python3.7/dist-packages (3.9.36)\n",
            "Requirement already satisfied: setuptools in /usr/local/lib/python3.7/dist-packages (from trimesh) (57.4.0)\n",
            "Requirement already satisfied: numpy in /usr/local/lib/python3.7/dist-packages (from trimesh) (1.19.5)\n"
          ]
        }
      ],
      "source": [
        "pip install trimesh"
      ]
    },
    {
      "cell_type": "code",
      "execution_count": 8,
      "metadata": {
        "id": "lzg3HwMO_5vD"
      },
      "outputs": [],
      "source": [
        "import os\n",
        "import random\n",
        "import glob\n",
        "import trimesh\n",
        "import numpy as np\n",
        "import tensorflow as tf\n",
        "from matplotlib import pyplot as plt\n",
        "import scipy \n",
        "from tensorflow import keras\n",
        "from tensorflow.keras import layers\n",
        "from tensorflow.keras import optimizers\n",
        "from tensorflow.keras.layers import Conv3D, Dense ,Dropout, Flatten, Activation, MaxPooling3D, Input\n",
        "\n",
        "from sklearn.model_selection import train_test_split, KFold,StratifiedKFold\n",
        "\n",
        "from mpl_toolkits.mplot3d import Axes3D\n",
        "import numpy as np\n",
        "import matplotlib.pyplot as plt\n"
      ]
    },
    {
      "cell_type": "code",
      "execution_count": 9,
      "metadata": {
        "colab": {
          "base_uri": "https://localhost:8080/"
        },
        "id": "nrAEYus-AVcE",
        "outputId": "00ff7d46-109a-4e0c-dbde-e2a08fe7ac0a"
      },
      "outputs": [
        {
          "output_type": "stream",
          "name": "stdout",
          "text": [
            "Drive already mounted at /content/drive; to attempt to forcibly remount, call drive.mount(\"/content/drive\", force_remount=True).\n",
            "reading from cloud...\n"
          ]
        }
      ],
      "source": [
        "try:\n",
        "    from google.colab import drive\n",
        "    drive.mount('/content/drive')\n",
        "\n",
        "    print(\"reading from cloud...\")\n",
        "    path = \"/content/drive/MyDrive/Colab Notebooks/MPPE/data_70p_overhang/stls_opt/\"\n",
        "    path_vox = \"/content/drive/MyDrive/Colab Notebooks/MPPE/data_70p_overhang/voxelsFloat/\"\n",
        "    \n",
        "except:\n",
        "    import pathlib\n",
        "    print(\"reading from disk\")\n",
        "    path = str(pathlib.Path().resolve())+\"/dataset/stls_opt/\"\n",
        "    path_vox = str(pathlib.Path().resolve())+\"/dataset/voxels/\"\n",
        "\n",
        "\n",
        "mesh = trimesh.load(path+\"63_8475_10313_17790_28845.stl\")"
      ]
    },
    {
      "cell_type": "code",
      "source": [
        "def calculate_cost(filename):\n",
        "  #params\n",
        "  #time - parts usally need 15 minutes for preparation\n",
        "  #1h - 10eur\n",
        "  price_per_h = 2\n",
        "  price_per_meter = 0.17#0.1133 #150 meters costs 17e \n",
        "  filament_diameter = 2.85 #mm\n",
        "  filament_phi = np.power(filament_diameter/2,2)*np.pi #mm^2\n",
        "  \n",
        "  support_removal_multiplier= 2\n",
        "  support_removal_multiplier_time = 1.5\n",
        "  profit_margin = 0.1\n",
        "  #larger parts need longer time + 5 minutes slice time. \n",
        "  \n",
        "  #get data from filename\n",
        "  data = filename.replace(\".\",\"_\").split(\"_\")\n",
        "  data = [int(x) for x in data[:-1]]\n",
        "\n",
        "  #calculate cost from filament lenght\n",
        "\n",
        "  #calulate cost no support \n",
        "  cost_filament = ((data[2]/(filament_phi*1000)))*price_per_meter\n",
        "\n",
        "  #calulcate cost of printing supports only \n",
        "  cost_supports = (abs(data[2]-data[4])/(filament_phi*1000))*price_per_meter\n",
        "  cost_supports_removal = support_removal_multiplier*cost_supports\n",
        "\n",
        "  #calulate timewise cost in hours\n",
        "  print_time = data[1]\n",
        "  print_time_supports = data[3]\n",
        "\n",
        "  #convert to horus and include time for removing supports \n",
        "  print_time= (((print_time + 2*abs(print_time-print_time_supports))*support_removal_multiplier_time)/3600)\n",
        "  print_time_cost = print_time * price_per_h\n",
        "\n",
        "  #cena\n",
        "  cost = (cost_filament+cost_supports+cost_supports_removal+print_time_cost)\n",
        "  cost = (cost*profit_margin)+cost\n",
        "\n",
        "  return cost\n",
        "\n",
        "#cost = calculate_cost(\"89_88123_134991_106833_152824.stl\")\n",
        "#cost = calculate_cost(\"62_1605_2129_2398_3618.stl\")\n",
        "cost = calculate_cost(\"108_31956_48635_34435_50936.stl\")\n",
        "print(cost)"
      ],
      "metadata": {
        "colab": {
          "base_uri": "https://localhost:8080/"
        },
        "id": "_HKy6ANOZvOG",
        "outputId": "8e83ecea-fcdd-45b1-da91-2193fed9749d"
      },
      "execution_count": 10,
      "outputs": [
        {
          "output_type": "stream",
          "name": "stdout",
          "text": [
            "35.46582523917991\n"
          ]
        }
      ]
    },
    {
      "cell_type": "code",
      "source": [
        "X = np.zeros([0,100,100,100])\n",
        "X_volume = np.zeros([0,1])\n",
        "X_area = np.zeros([0,1])\n",
        "\n",
        "y = np.zeros(0)\n",
        "count = 0\n",
        "for filename in os.listdir(path_vox):\n",
        "    if filename.endswith(\".npy\"):\n",
        "        count = count +1\n",
        "        #print(\"appending\", filename.split(\".\")[0])\n",
        "        img = np.load(path_vox+filename)\n",
        "\n",
        "        img =(img -(np.min(img)))\n",
        "        img = img/np.max(img)\n",
        "\n",
        "        X = np.append(X,img[np.newaxis,...],axis=0)\n",
        "        y = np.append(y,calculate_cost(filename))\n",
        "        \n",
        "        mesh = trimesh.load(path+filename.split(\".\")[0]+\".stl\")\n",
        "        \n",
        "        mv = np.array(abs(mesh.volume))\n",
        "        X_volume = np.append(X_volume,mv[np.newaxis,...])\n",
        "\n",
        "        ma = np.array(abs(mesh.area))\n",
        "        X_area = np.append(X_area,ma[np.newaxis,...])\n",
        "\n",
        "print(count)\n",
        "X_area = X_area[...,np.newaxis]\n",
        "X_volume = X_volume[...,np.newaxis]\n",
        "X = X[...,np.newaxis]"
      ],
      "metadata": {
        "id": "s7xD2c4KsFHj",
        "outputId": "dfdb585e-575e-4d9a-998e-4fdaa2817c15",
        "colab": {
          "base_uri": "https://localhost:8080/"
        }
      },
      "execution_count": 11,
      "outputs": [
        {
          "output_type": "stream",
          "name": "stdout",
          "text": [
            "194\n"
          ]
        }
      ]
    },
    {
      "cell_type": "code",
      "source": [
        "n_samples = X.shape[0]\n",
        "train_ind, test_ind  = train_test_split(range(n_samples), test_size=0.2, random_state=36)\n",
        "\n",
        "X_train = X[train_ind]\n",
        "X_train_volume = X_volume[train_ind]\n",
        "X_train_area = X_area[train_ind]\n",
        "y_train = y[train_ind]\n",
        "\n",
        "X_test = X[test_ind]\n",
        "X_test_volume = X_volume[test_ind]\n",
        "X_test_area = X_area[test_ind]\n",
        "y_test = y[test_ind]\n",
        "\n",
        "print(\"train\",X_train.shape,X_train_volume.shape,X_train_area.shape)\n",
        "print(\"test\",X_test.shape,X_test_volume.shape,X_test_area.shape)"
      ],
      "metadata": {
        "id": "TvrJA9v_deq8",
        "outputId": "74074a1f-0d21-476b-fd50-252422e086b9",
        "colab": {
          "base_uri": "https://localhost:8080/"
        }
      },
      "execution_count": 12,
      "outputs": [
        {
          "output_type": "stream",
          "name": "stdout",
          "text": [
            "train (155, 100, 100, 100, 1) (155, 1) (155, 1)\n",
            "test (39, 100, 100, 100, 1) (39, 1) (39, 1)\n"
          ]
        }
      ]
    },
    {
      "cell_type": "code",
      "source": [
        "def augment(img,angle):\n",
        "\n",
        "  img = scipy.ndimage.rotate(img,angle,axes=(0,1),order=3)\n",
        "  n = 100\n",
        "  desiredshape = np.array([n,n,n])\n",
        "  zoomArray = desiredshape.astype(np.float32) / img.shape\n",
        "  img = scipy.ndimage.interpolation.zoom(img, zoomArray).astype(np.float32)\n",
        "  \n",
        "  img =(img -(np.min(img)))\n",
        "\n",
        "  img = img/np.max(img)\n",
        "  return img"
      ],
      "metadata": {
        "id": "kEodXrjKt37C"
      },
      "execution_count": 22,
      "outputs": []
    },
    {
      "cell_type": "code",
      "source": [
        "X_train_2 = np.zeros([0,100,100,100])\n",
        "X_train_volume_2 = np.zeros([0,1])\n",
        "X_train_area_2 = np.zeros([0,1])\n",
        "y_train_2 = np.zeros(0)\n",
        "\n",
        "for i,img in enumerate(X_train):\n",
        "  for angle in range(0,330,30):\n",
        "    img_aug = augment(img[:,:,:,0],angle)\n",
        "\n",
        "    X_train_2 = np.append(X_train_2,img_aug[np.newaxis,...],axis=0)\n",
        "    X_train_volume_2 = np.append(X_train_volume_2,X_train_volume[i])\n",
        "    X_train_area_2 = np.append(X_train_area_2,X_train_area[i])\n",
        "\n",
        "    y_train_2 = np.append(y_train_2,y_train[i])\n",
        "  \n",
        "X_train_area_2 = X_train_area_2[...,np.newaxis]\n",
        "X_train_volume_2 = X_train_volume_2[...,np.newaxis]\n",
        "X_train_2 = X_train_2[...,np.newaxis]"
      ],
      "metadata": {
        "id": "RgJvpdbRvJlv",
        "outputId": "e38ac1fc-d692-426f-8515-457b49e0ce5d",
        "colab": {
          "base_uri": "https://localhost:8080/",
          "height": 426
        }
      },
      "execution_count": 23,
      "outputs": [
        {
          "output_type": "error",
          "ename": "KeyboardInterrupt",
          "evalue": "ignored",
          "traceback": [
            "\u001b[0;31m---------------------------------------------------------------------------\u001b[0m",
            "\u001b[0;31mKeyboardInterrupt\u001b[0m                         Traceback (most recent call last)",
            "\u001b[0;32m<ipython-input-23-b81b44b0a8a0>\u001b[0m in \u001b[0;36m<module>\u001b[0;34m()\u001b[0m\n\u001b[1;32m      8\u001b[0m     \u001b[0mimg_aug\u001b[0m \u001b[0;34m=\u001b[0m \u001b[0maugment\u001b[0m\u001b[0;34m(\u001b[0m\u001b[0mimg\u001b[0m\u001b[0;34m[\u001b[0m\u001b[0;34m:\u001b[0m\u001b[0;34m,\u001b[0m\u001b[0;34m:\u001b[0m\u001b[0;34m,\u001b[0m\u001b[0;34m:\u001b[0m\u001b[0;34m,\u001b[0m\u001b[0;36m0\u001b[0m\u001b[0;34m]\u001b[0m\u001b[0;34m,\u001b[0m\u001b[0mangle\u001b[0m\u001b[0;34m)\u001b[0m\u001b[0;34m\u001b[0m\u001b[0;34m\u001b[0m\u001b[0m\n\u001b[1;32m      9\u001b[0m \u001b[0;34m\u001b[0m\u001b[0m\n\u001b[0;32m---> 10\u001b[0;31m     \u001b[0mX_train_2\u001b[0m \u001b[0;34m=\u001b[0m \u001b[0mnp\u001b[0m\u001b[0;34m.\u001b[0m\u001b[0mappend\u001b[0m\u001b[0;34m(\u001b[0m\u001b[0mX_train_2\u001b[0m\u001b[0;34m,\u001b[0m\u001b[0mimg_aug\u001b[0m\u001b[0;34m[\u001b[0m\u001b[0mnp\u001b[0m\u001b[0;34m.\u001b[0m\u001b[0mnewaxis\u001b[0m\u001b[0;34m,\u001b[0m\u001b[0;34m...\u001b[0m\u001b[0;34m]\u001b[0m\u001b[0;34m,\u001b[0m\u001b[0maxis\u001b[0m\u001b[0;34m=\u001b[0m\u001b[0;36m0\u001b[0m\u001b[0;34m)\u001b[0m\u001b[0;34m\u001b[0m\u001b[0;34m\u001b[0m\u001b[0m\n\u001b[0m\u001b[1;32m     11\u001b[0m     \u001b[0mX_train_volume_2\u001b[0m \u001b[0;34m=\u001b[0m \u001b[0mnp\u001b[0m\u001b[0;34m.\u001b[0m\u001b[0mappend\u001b[0m\u001b[0;34m(\u001b[0m\u001b[0mX_train_volume_2\u001b[0m\u001b[0;34m,\u001b[0m\u001b[0mX_train_volume\u001b[0m\u001b[0;34m[\u001b[0m\u001b[0mi\u001b[0m\u001b[0;34m]\u001b[0m\u001b[0;34m)\u001b[0m\u001b[0;34m\u001b[0m\u001b[0;34m\u001b[0m\u001b[0m\n\u001b[1;32m     12\u001b[0m     \u001b[0mX_train_area_2\u001b[0m \u001b[0;34m=\u001b[0m \u001b[0mnp\u001b[0m\u001b[0;34m.\u001b[0m\u001b[0mappend\u001b[0m\u001b[0;34m(\u001b[0m\u001b[0mX_train_area_2\u001b[0m\u001b[0;34m,\u001b[0m\u001b[0mX_train_area\u001b[0m\u001b[0;34m[\u001b[0m\u001b[0mi\u001b[0m\u001b[0;34m]\u001b[0m\u001b[0;34m)\u001b[0m\u001b[0;34m\u001b[0m\u001b[0;34m\u001b[0m\u001b[0m\n",
            "\u001b[0;32m<__array_function__ internals>\u001b[0m in \u001b[0;36mappend\u001b[0;34m(*args, **kwargs)\u001b[0m\n",
            "\u001b[0;32m/usr/local/lib/python3.7/dist-packages/numpy/lib/function_base.py\u001b[0m in \u001b[0;36mappend\u001b[0;34m(arr, values, axis)\u001b[0m\n\u001b[1;32m   4669\u001b[0m         \u001b[0mvalues\u001b[0m \u001b[0;34m=\u001b[0m \u001b[0mravel\u001b[0m\u001b[0;34m(\u001b[0m\u001b[0mvalues\u001b[0m\u001b[0;34m)\u001b[0m\u001b[0;34m\u001b[0m\u001b[0;34m\u001b[0m\u001b[0m\n\u001b[1;32m   4670\u001b[0m         \u001b[0maxis\u001b[0m \u001b[0;34m=\u001b[0m \u001b[0marr\u001b[0m\u001b[0;34m.\u001b[0m\u001b[0mndim\u001b[0m\u001b[0;34m-\u001b[0m\u001b[0;36m1\u001b[0m\u001b[0;34m\u001b[0m\u001b[0;34m\u001b[0m\u001b[0m\n\u001b[0;32m-> 4671\u001b[0;31m     \u001b[0;32mreturn\u001b[0m \u001b[0mconcatenate\u001b[0m\u001b[0;34m(\u001b[0m\u001b[0;34m(\u001b[0m\u001b[0marr\u001b[0m\u001b[0;34m,\u001b[0m \u001b[0mvalues\u001b[0m\u001b[0;34m)\u001b[0m\u001b[0;34m,\u001b[0m \u001b[0maxis\u001b[0m\u001b[0;34m=\u001b[0m\u001b[0maxis\u001b[0m\u001b[0;34m)\u001b[0m\u001b[0;34m\u001b[0m\u001b[0;34m\u001b[0m\u001b[0m\n\u001b[0m\u001b[1;32m   4672\u001b[0m \u001b[0;34m\u001b[0m\u001b[0m\n\u001b[1;32m   4673\u001b[0m \u001b[0;34m\u001b[0m\u001b[0m\n",
            "\u001b[0;32m<__array_function__ internals>\u001b[0m in \u001b[0;36mconcatenate\u001b[0;34m(*args, **kwargs)\u001b[0m\n",
            "\u001b[0;31mKeyboardInterrupt\u001b[0m: "
          ]
        }
      ]
    },
    {
      "cell_type": "code",
      "source": [
        "X_train = X_train_2\n",
        "X_trian_volume = X_train_2\n",
        "X_train_area_2 = X_train_area\n",
        "y_train = y_train_2"
      ],
      "metadata": {
        "id": "3GQ8VtdUmUGX"
      },
      "execution_count": null,
      "outputs": []
    },
    {
      "cell_type": "code",
      "execution_count": 13,
      "metadata": {
        "id": "d45eX3H0lw12"
      },
      "outputs": [],
      "source": [
        "#my net\n",
        "input1 = keras.Input(shape=(X_train.shape[1:]))\n",
        "input2 = keras.Input(shape=(X_train_volume.shape[1:]))\n",
        "input3 = keras.Input(shape=(X_train_area.shape[1:]))\n",
        "\n",
        "#y = Dense(1)(input2)\n",
        "activ = \"relu\"\n",
        "# x = Conv3D(63,(3,3,3),strides = (2,2,2), activation=activ, padding = 'same')(input1)\n",
        "# x = Conv3D(64,(3,3,3),strides = (2,2,2), activation=activ, padding = 'same')(x)\n",
        "#x = MaxPooling3D(pool_size=(2, 2, 2))(x)\n",
        "#x = layers.Dropout(0.3)(x)\n",
        "x = Conv3D(32,(3,3,3),strides = (2,2,2), activation=activ, padding = 'same')(input1)\n",
        "x = Conv3D(32,(3,3,3),strides = (2,2,2), activation=activ, padding = 'same')(x)\n",
        "x = MaxPooling3D(pool_size=(2, 2, 2))(x)\n",
        "#x = layers.Dropout(0.3)(x)\n",
        "x = Conv3D(16,(3,3,3),strides = (2,2,2), activation=activ, padding = 'same')(x)\n",
        "x = Conv3D(16,(3,3,3),strides = (2,2,2), activation=activ, padding = 'same')(x)\n",
        "x = MaxPooling3D(pool_size=(2, 2, 2))(x)\n",
        "\n",
        "x = Conv3D(8,(3,3,3),strides = (2,2,2), activation=activ, padding = 'same')(x)\n",
        "x = Conv3D(8,(3,3,3),strides = (2,2,2), activation=activ, padding = 'same')(x)\n",
        "x = MaxPooling3D(pool_size=(1, 1, 1))(x)\n",
        "\n",
        "x = Activation('relu')(x)\n",
        "\n",
        "x = layers.Dropout(0.3)(x)\n",
        "\n",
        "x = Flatten()(x)\n",
        "\n",
        "x = layers.Concatenate(axis=1)([x,input2])\n",
        "\n",
        "#x = Dense(4, activation = 'relu')(x)\n",
        "x = layers.Concatenate(axis=1)([x,input3])\n",
        "\n",
        "dense = Dense(2000, activation = activ)(x)\n",
        "dense = Dense(300, activation = activ)(dense)\n",
        "dense = Dense(150, activation = activ)(dense)\n",
        "dense = Dense(20, activation = activ)(dense)\n",
        "dense = Dense(16, activation = activ)(dense)\n",
        "    # final layer with 10 neurons to classify the instances\n",
        "output = Dense(1, activation = 'linear')(dense)\n",
        "    \n",
        "#outputs = layers.Dense(NUM_CLASSES, activation=\"softmax\")(x)\n",
        "\n",
        "model = keras.Model(inputs=[input1,input2,input3], outputs=output, name=\"jjnet\")"
      ]
    },
    {
      "cell_type": "code",
      "source": [
        "#@title Default title text\n",
        "#paper net \n",
        "input1 = keras.Input(shape=(X_train.shape[1:]))\n",
        "input2 = keras.Input(shape=(X_train_volume.shape[1:]))\n",
        "input3 = keras.Input(shape=(X_train_area.shape[1:]))\n",
        "\n",
        "\n",
        "\n",
        "x = Conv3D(16,(3,3,3), activation='LeakyReLU', padding = 'same')(input1)\n",
        "x = Conv3D(16,(3,3,3), activation='LeakyReLU', padding = 'same')(x)\n",
        "x = MaxPooling3D(pool_size=(2, 2, 2))(x)\n",
        "x = layers.Dropout(0.3)(x)\n",
        "\n",
        "x = Conv3D(32,(3,3,3), activation='LeakyReLU', padding = 'same')(x)\n",
        "x = Conv3D(32,(3,3,3), activation='LeakyReLU', padding = 'same')(x)\n",
        "x = MaxPooling3D(pool_size=(2, 2, 2))(x)\n",
        "x = layers.Dropout(0.3)(x)\n",
        "\n",
        "x = Conv3D(8,(3,3,3), activation='LeakyReLU', padding = 'same')(x)\n",
        "\n",
        "x = layers.Dropout(0.8)(x)\n",
        "\n",
        "x = Flatten()(x)\n",
        "\n",
        "x = layers.Concatenate(axis=1)([x,input2])\n",
        "x = Dense(8, activation = 'LeakyReLU')(x)\n",
        "dense = Dense(2000, activation = 'LeakyReLU')(x)\n",
        "dense = Dense(300, activation = 'LeakyReLU')(dense)\n",
        "dense = Dense(150, activation = 'LeakyReLU')(dense)\n",
        "dense = Dense(20, activation = 'LeakyReLU')(dense)\n",
        "dense = Dense(16, activation = 'LeakyReLU')(dense)\n",
        "    # final layer with 10 neurons to classify the instances\n",
        "output = Dense(1, activation = 'linear')(dense)\n",
        "    \n",
        "#outputs = layers.Dense(NUM_CLASSES, activation=\"softmax\")(x)\n",
        "\n",
        "model = keras.Model(inputs=[input1,input2], outputs=output, name=\"papernet\")"
      ],
      "metadata": {
        "id": "5NctJfQTgfIE",
        "cellView": "form"
      },
      "execution_count": null,
      "outputs": []
    },
    {
      "cell_type": "code",
      "execution_count": 14,
      "metadata": {
        "id": "765aPkAD_5vR",
        "outputId": "590ad776-118e-484a-d4c8-2e1cca7b87d5",
        "colab": {
          "base_uri": "https://localhost:8080/"
        }
      },
      "outputs": [
        {
          "output_type": "stream",
          "name": "stdout",
          "text": [
            "Epoch 1/100\n",
            "20/20 [==============================] - 15s 147ms/step - loss: 2.5125 - MAPE: 98.5721 - val_loss: 26.3737 - val_MAPE: 95.9763\n",
            "Epoch 2/100\n",
            "20/20 [==============================] - 2s 114ms/step - loss: 2.3296 - MAPE: 107.6855 - val_loss: 26.2187 - val_MAPE: 93.2831\n",
            "Epoch 3/100\n",
            "20/20 [==============================] - 2s 111ms/step - loss: 2.2039 - MAPE: 115.3557 - val_loss: 26.0665 - val_MAPE: 90.8007\n",
            "Epoch 4/100\n",
            "20/20 [==============================] - 2s 111ms/step - loss: 2.0723 - MAPE: 123.8600 - val_loss: 25.8888 - val_MAPE: 88.2302\n",
            "Epoch 5/100\n",
            "20/20 [==============================] - 2s 112ms/step - loss: 1.9322 - MAPE: 128.0267 - val_loss: 25.7299 - val_MAPE: 86.7700\n",
            "Epoch 6/100\n",
            "20/20 [==============================] - 2s 113ms/step - loss: 1.8084 - MAPE: 142.5538 - val_loss: 25.5642 - val_MAPE: 85.2534\n",
            "Epoch 7/100\n",
            "20/20 [==============================] - 2s 113ms/step - loss: 1.6818 - MAPE: 152.2628 - val_loss: 25.4093 - val_MAPE: 84.2726\n",
            "Epoch 8/100\n",
            "20/20 [==============================] - 2s 112ms/step - loss: 1.5550 - MAPE: 159.8100 - val_loss: 25.2388 - val_MAPE: 84.2170\n",
            "Epoch 9/100\n",
            "20/20 [==============================] - 2s 112ms/step - loss: 1.4156 - MAPE: 174.2164 - val_loss: 25.0597 - val_MAPE: 84.1682\n",
            "Epoch 10/100\n",
            "20/20 [==============================] - 2s 115ms/step - loss: 1.2810 - MAPE: 181.6406 - val_loss: 24.8684 - val_MAPE: 84.1270\n",
            "Epoch 11/100\n",
            "20/20 [==============================] - 2s 113ms/step - loss: 1.1520 - MAPE: 196.5515 - val_loss: 24.6849 - val_MAPE: 84.1312\n",
            "Epoch 12/100\n",
            "20/20 [==============================] - 2s 114ms/step - loss: 1.0604 - MAPE: 209.8862 - val_loss: 24.5225 - val_MAPE: 84.5533\n",
            "Epoch 13/100\n",
            "20/20 [==============================] - 2s 112ms/step - loss: 1.0045 - MAPE: 225.7129 - val_loss: 24.4032 - val_MAPE: 84.7774\n",
            "Epoch 14/100\n",
            "20/20 [==============================] - 2s 114ms/step - loss: 0.9736 - MAPE: 238.7440 - val_loss: 24.3068 - val_MAPE: 85.0254\n",
            "Epoch 15/100\n",
            "20/20 [==============================] - 2s 112ms/step - loss: 0.9578 - MAPE: 246.8940 - val_loss: 24.2444 - val_MAPE: 85.1287\n",
            "Epoch 16/100\n",
            "20/20 [==============================] - 2s 111ms/step - loss: 0.9513 - MAPE: 253.4684 - val_loss: 24.2029 - val_MAPE: 85.1975\n",
            "Epoch 17/100\n",
            "20/20 [==============================] - 2s 111ms/step - loss: 0.9493 - MAPE: 254.1546 - val_loss: 24.1823 - val_MAPE: 85.2238\n",
            "Epoch 18/100\n",
            "20/20 [==============================] - 2s 113ms/step - loss: 0.9513 - MAPE: 255.3959 - val_loss: 24.1888 - val_MAPE: 85.1630\n",
            "Epoch 19/100\n",
            "20/20 [==============================] - 2s 112ms/step - loss: 0.9487 - MAPE: 254.9848 - val_loss: 24.1801 - val_MAPE: 85.1578\n",
            "Epoch 20/100\n",
            "20/20 [==============================] - 2s 111ms/step - loss: 0.9503 - MAPE: 260.7642 - val_loss: 24.1342 - val_MAPE: 85.2921\n",
            "Epoch 21/100\n",
            "20/20 [==============================] - 2s 111ms/step - loss: 0.9469 - MAPE: 258.4666 - val_loss: 24.1646 - val_MAPE: 85.1480\n",
            "Epoch 22/100\n",
            "20/20 [==============================] - 2s 115ms/step - loss: 0.9465 - MAPE: 258.0488 - val_loss: 24.1551 - val_MAPE: 85.1437\n",
            "Epoch 23/100\n",
            "20/20 [==============================] - 2s 119ms/step - loss: 0.9456 - MAPE: 257.1596 - val_loss: 24.1723 - val_MAPE: 85.0697\n",
            "Epoch 24/100\n",
            "20/20 [==============================] - 2s 113ms/step - loss: 0.9447 - MAPE: 256.8010 - val_loss: 24.1453 - val_MAPE: 85.1127\n",
            "Epoch 25/100\n",
            "20/20 [==============================] - 2s 118ms/step - loss: 0.9439 - MAPE: 258.1123 - val_loss: 24.1514 - val_MAPE: 85.0715\n",
            "Epoch 26/100\n",
            "20/20 [==============================] - 2s 114ms/step - loss: 0.9439 - MAPE: 257.0246 - val_loss: 24.1618 - val_MAPE: 85.0129\n",
            "Epoch 27/100\n",
            "20/20 [==============================] - 2s 114ms/step - loss: 0.9439 - MAPE: 257.7815 - val_loss: 24.1532 - val_MAPE: 85.0084\n",
            "Epoch 28/100\n",
            "20/20 [==============================] - 2s 113ms/step - loss: 0.9433 - MAPE: 255.9691 - val_loss: 24.1752 - val_MAPE: 84.9213\n",
            "Epoch 29/100\n",
            "20/20 [==============================] - 2s 113ms/step - loss: 0.9433 - MAPE: 251.9809 - val_loss: 24.1952 - val_MAPE: 84.8367\n",
            "Epoch 30/100\n",
            "20/20 [==============================] - 2s 115ms/step - loss: 0.9420 - MAPE: 254.7518 - val_loss: 24.1575 - val_MAPE: 84.9065\n",
            "Epoch 31/100\n",
            "20/20 [==============================] - 2s 120ms/step - loss: 0.9460 - MAPE: 254.0793 - val_loss: 24.1766 - val_MAPE: 84.8251\n",
            "Epoch 32/100\n",
            "20/20 [==============================] - 2s 110ms/step - loss: 0.9420 - MAPE: 259.2320 - val_loss: 24.1223 - val_MAPE: 84.9509\n",
            "Epoch 33/100\n",
            "20/20 [==============================] - 2s 112ms/step - loss: 0.9402 - MAPE: 258.5345 - val_loss: 24.1493 - val_MAPE: 84.8511\n",
            "Epoch 34/100\n",
            "20/20 [==============================] - 2s 114ms/step - loss: 0.9391 - MAPE: 254.9785 - val_loss: 24.1679 - val_MAPE: 84.7759\n",
            "Epoch 35/100\n",
            "20/20 [==============================] - 2s 114ms/step - loss: 0.9386 - MAPE: 256.2239 - val_loss: 24.1489 - val_MAPE: 84.7993\n",
            "Epoch 36/100\n",
            "20/20 [==============================] - 2s 118ms/step - loss: 0.9384 - MAPE: 256.8492 - val_loss: 24.1578 - val_MAPE: 84.7480\n",
            "Epoch 37/100\n",
            "20/20 [==============================] - 2s 119ms/step - loss: 0.9374 - MAPE: 256.4092 - val_loss: 24.1437 - val_MAPE: 84.7567\n",
            "Epoch 38/100\n",
            "20/20 [==============================] - 2s 117ms/step - loss: 0.9389 - MAPE: 252.8936 - val_loss: 24.1714 - val_MAPE: 84.6537\n",
            "Epoch 39/100\n",
            "20/20 [==============================] - 2s 113ms/step - loss: 0.9370 - MAPE: 254.0671 - val_loss: 24.1667 - val_MAPE: 84.6398\n",
            "Epoch 40/100\n",
            "20/20 [==============================] - 2s 113ms/step - loss: 0.9357 - MAPE: 253.6070 - val_loss: 24.1633 - val_MAPE: 84.6206\n",
            "Epoch 41/100\n",
            "20/20 [==============================] - 2s 112ms/step - loss: 0.9370 - MAPE: 257.4651 - val_loss: 24.1419 - val_MAPE: 84.6498\n",
            "Epoch 42/100\n",
            "20/20 [==============================] - 2s 115ms/step - loss: 0.9343 - MAPE: 253.1490 - val_loss: 24.1945 - val_MAPE: 84.4835\n",
            "Epoch 43/100\n",
            "20/20 [==============================] - 2s 113ms/step - loss: 0.9348 - MAPE: 251.4733 - val_loss: 24.1555 - val_MAPE: 84.5557\n",
            "Epoch 44/100\n",
            "20/20 [==============================] - 2s 111ms/step - loss: 0.9349 - MAPE: 257.8001 - val_loss: 24.1266 - val_MAPE: 84.6061\n",
            "Epoch 45/100\n",
            "20/20 [==============================] - 2s 111ms/step - loss: 0.9332 - MAPE: 255.5255 - val_loss: 24.1464 - val_MAPE: 84.5212\n",
            "Epoch 46/100\n",
            "20/20 [==============================] - 2s 114ms/step - loss: 0.9332 - MAPE: 255.0167 - val_loss: 24.1384 - val_MAPE: 84.5076\n",
            "Epoch 47/100\n",
            "20/20 [==============================] - 2s 111ms/step - loss: 0.9319 - MAPE: 255.8505 - val_loss: 24.1268 - val_MAPE: 84.4874\n",
            "Epoch 48/100\n",
            "20/20 [==============================] - 2s 111ms/step - loss: 0.9307 - MAPE: 257.1345 - val_loss: 24.1498 - val_MAPE: 84.3813\n",
            "Epoch 49/100\n",
            "20/20 [==============================] - 2s 111ms/step - loss: 0.9286 - MAPE: 252.0096 - val_loss: 24.1743 - val_MAPE: 84.2707\n",
            "Epoch 50/100\n",
            "20/20 [==============================] - 2s 114ms/step - loss: 0.9291 - MAPE: 251.5189 - val_loss: 24.1891 - val_MAPE: 84.1941\n",
            "Epoch 51/100\n",
            "20/20 [==============================] - 2s 117ms/step - loss: 0.9272 - MAPE: 249.0564 - val_loss: 24.1743 - val_MAPE: 84.1866\n",
            "Epoch 52/100\n",
            "20/20 [==============================] - 2s 110ms/step - loss: 0.9261 - MAPE: 252.3511 - val_loss: 24.1495 - val_MAPE: 84.2019\n",
            "Epoch 53/100\n",
            "20/20 [==============================] - 2s 110ms/step - loss: 0.9257 - MAPE: 248.1246 - val_loss: 24.1690 - val_MAPE: 84.0769\n",
            "Epoch 54/100\n",
            "20/20 [==============================] - 2s 113ms/step - loss: 0.9220 - MAPE: 249.7984 - val_loss: 24.1785 - val_MAPE: 83.9740\n",
            "Epoch 55/100\n",
            "20/20 [==============================] - 2s 114ms/step - loss: 0.9203 - MAPE: 245.5274 - val_loss: 24.1470 - val_MAPE: 83.9691\n",
            "Epoch 56/100\n",
            "20/20 [==============================] - 2s 119ms/step - loss: 0.9171 - MAPE: 248.2240 - val_loss: 24.1358 - val_MAPE: 83.8937\n",
            "Epoch 57/100\n",
            "20/20 [==============================] - 2s 113ms/step - loss: 0.9091 - MAPE: 248.2412 - val_loss: 24.1476 - val_MAPE: 83.7116\n",
            "Epoch 58/100\n",
            "20/20 [==============================] - 2s 112ms/step - loss: 0.9046 - MAPE: 246.0876 - val_loss: 24.1464 - val_MAPE: 83.5469\n",
            "Epoch 59/100\n",
            "20/20 [==============================] - 2s 112ms/step - loss: 0.9017 - MAPE: 243.1585 - val_loss: 24.1604 - val_MAPE: 83.3216\n",
            "Epoch 60/100\n",
            "20/20 [==============================] - 2s 111ms/step - loss: 0.8946 - MAPE: 235.6417 - val_loss: 24.1338 - val_MAPE: 83.1886\n",
            "Epoch 61/100\n",
            "20/20 [==============================] - 2s 112ms/step - loss: 0.8936 - MAPE: 235.4059 - val_loss: 24.1378 - val_MAPE: 82.9723\n",
            "Epoch 62/100\n",
            "20/20 [==============================] - 2s 115ms/step - loss: 0.8762 - MAPE: 230.6211 - val_loss: 24.1557 - val_MAPE: 82.6624\n",
            "Epoch 63/100\n",
            "20/20 [==============================] - 2s 111ms/step - loss: 0.8727 - MAPE: 231.6242 - val_loss: 24.1744 - val_MAPE: 82.2768\n",
            "Epoch 64/100\n",
            "20/20 [==============================] - 3s 131ms/step - loss: 0.8747 - MAPE: 233.8356 - val_loss: 24.1259 - val_MAPE: 82.1281\n",
            "Epoch 65/100\n",
            "20/20 [==============================] - 2s 112ms/step - loss: 0.8540 - MAPE: 207.2091 - val_loss: 24.2345 - val_MAPE: 81.3638\n",
            "Epoch 66/100\n",
            "20/20 [==============================] - 2s 121ms/step - loss: 0.8618 - MAPE: 225.5412 - val_loss: 24.1336 - val_MAPE: 81.3594\n",
            "Epoch 67/100\n",
            "20/20 [==============================] - 2s 111ms/step - loss: 0.8597 - MAPE: 220.6820 - val_loss: 24.1460 - val_MAPE: 80.9222\n",
            "Epoch 68/100\n",
            "20/20 [==============================] - 2s 112ms/step - loss: 0.8496 - MAPE: 222.9169 - val_loss: 24.1033 - val_MAPE: 80.8341\n",
            "Epoch 69/100\n",
            "20/20 [==============================] - 2s 111ms/step - loss: 0.8139 - MAPE: 204.0354 - val_loss: 24.1424 - val_MAPE: 80.1963\n",
            "Epoch 70/100\n",
            "20/20 [==============================] - 2s 114ms/step - loss: 0.7919 - MAPE: 175.6350 - val_loss: 24.0980 - val_MAPE: 79.7343\n",
            "Epoch 71/100\n",
            "20/20 [==============================] - 2s 114ms/step - loss: 0.8104 - MAPE: 222.9747 - val_loss: 24.0942 - val_MAPE: 79.1562\n",
            "Epoch 72/100\n",
            "20/20 [==============================] - 2s 112ms/step - loss: 0.7676 - MAPE: 194.3695 - val_loss: 24.0640 - val_MAPE: 78.5425\n",
            "Epoch 73/100\n",
            "20/20 [==============================] - 2s 117ms/step - loss: 0.7619 - MAPE: 215.8452 - val_loss: 24.0515 - val_MAPE: 78.0410\n",
            "Epoch 74/100\n",
            "20/20 [==============================] - 2s 114ms/step - loss: 0.7768 - MAPE: 145.9502 - val_loss: 24.0475 - val_MAPE: 77.3947\n",
            "Epoch 75/100\n",
            "20/20 [==============================] - 2s 112ms/step - loss: 0.7488 - MAPE: 185.1628 - val_loss: 24.0038 - val_MAPE: 77.1304\n",
            "Epoch 76/100\n",
            "20/20 [==============================] - 2s 111ms/step - loss: 0.7363 - MAPE: 116.1763 - val_loss: 24.1174 - val_MAPE: 76.1708\n",
            "Epoch 77/100\n",
            "20/20 [==============================] - 2s 112ms/step - loss: 0.7301 - MAPE: 145.3950 - val_loss: 24.0336 - val_MAPE: 75.8991\n",
            "Epoch 78/100\n",
            "20/20 [==============================] - 2s 114ms/step - loss: 0.7389 - MAPE: 141.3399 - val_loss: 24.0170 - val_MAPE: 75.6697\n",
            "Epoch 79/100\n",
            "20/20 [==============================] - 2s 113ms/step - loss: 0.6972 - MAPE: 145.6197 - val_loss: 23.9664 - val_MAPE: 75.4512\n",
            "Epoch 80/100\n",
            "20/20 [==============================] - 2s 114ms/step - loss: 0.6917 - MAPE: 160.5146 - val_loss: 23.9621 - val_MAPE: 75.3538\n",
            "Epoch 81/100\n",
            "20/20 [==============================] - 2s 117ms/step - loss: 0.7269 - MAPE: 161.7962 - val_loss: 24.0886 - val_MAPE: 75.5268\n",
            "Epoch 82/100\n",
            "20/20 [==============================] - 2s 114ms/step - loss: 0.7331 - MAPE: 129.1785 - val_loss: 23.9302 - val_MAPE: 75.1593\n",
            "Epoch 83/100\n",
            "20/20 [==============================] - 2s 113ms/step - loss: 0.6887 - MAPE: 97.2757 - val_loss: 23.9725 - val_MAPE: 75.1431\n",
            "Epoch 84/100\n",
            "20/20 [==============================] - 2s 112ms/step - loss: 0.6371 - MAPE: 81.3287 - val_loss: 23.8972 - val_MAPE: 74.8651\n",
            "Epoch 85/100\n",
            "20/20 [==============================] - 2s 113ms/step - loss: 0.7089 - MAPE: 123.0179 - val_loss: 24.0005 - val_MAPE: 74.9963\n",
            "Epoch 86/100\n",
            "20/20 [==============================] - 2s 113ms/step - loss: 0.7130 - MAPE: 102.2020 - val_loss: 23.9368 - val_MAPE: 74.8348\n",
            "Epoch 87/100\n",
            "20/20 [==============================] - 2s 113ms/step - loss: 0.7033 - MAPE: 142.9248 - val_loss: 23.9049 - val_MAPE: 74.7587\n",
            "Epoch 88/100\n",
            "20/20 [==============================] - 2s 114ms/step - loss: 0.6423 - MAPE: 134.3939 - val_loss: 23.9682 - val_MAPE: 74.7617\n",
            "Epoch 89/100\n",
            "20/20 [==============================] - 2s 113ms/step - loss: 0.6104 - MAPE: 132.7976 - val_loss: 24.0881 - val_MAPE: 75.0694\n",
            "Epoch 90/100\n",
            "20/20 [==============================] - 2s 114ms/step - loss: 0.5936 - MAPE: 96.7827 - val_loss: 23.8302 - val_MAPE: 74.3309\n",
            "Epoch 91/100\n",
            "20/20 [==============================] - 2s 113ms/step - loss: 0.6821 - MAPE: 198.2368 - val_loss: 23.9172 - val_MAPE: 74.4092\n",
            "Epoch 92/100\n",
            "20/20 [==============================] - 2s 113ms/step - loss: 0.6848 - MAPE: 84.2273 - val_loss: 24.0134 - val_MAPE: 74.5160\n",
            "Epoch 93/100\n",
            "20/20 [==============================] - 2s 112ms/step - loss: 0.6708 - MAPE: 102.7332 - val_loss: 23.9382 - val_MAPE: 74.2670\n",
            "Epoch 94/100\n",
            "20/20 [==============================] - 2s 113ms/step - loss: 0.6839 - MAPE: 136.6103 - val_loss: 23.8711 - val_MAPE: 74.1019\n",
            "Epoch 95/100\n",
            "20/20 [==============================] - 2s 112ms/step - loss: 0.6629 - MAPE: 157.1479 - val_loss: 24.0246 - val_MAPE: 74.3664\n",
            "Epoch 96/100\n",
            "20/20 [==============================] - 2s 113ms/step - loss: 0.6508 - MAPE: 67.6857 - val_loss: 24.0396 - val_MAPE: 74.3081\n",
            "Epoch 97/100\n",
            "20/20 [==============================] - 2s 113ms/step - loss: 0.6417 - MAPE: 94.5845 - val_loss: 23.9884 - val_MAPE: 74.0997\n",
            "Epoch 98/100\n",
            "20/20 [==============================] - 2s 113ms/step - loss: 0.6535 - MAPE: 132.5180 - val_loss: 23.8145 - val_MAPE: 73.6618\n",
            "Epoch 99/100\n",
            "20/20 [==============================] - 2s 111ms/step - loss: 0.6665 - MAPE: 148.0632 - val_loss: 23.9045 - val_MAPE: 73.7532\n",
            "Epoch 100/100\n",
            "20/20 [==============================] - 2s 111ms/step - loss: 0.6613 - MAPE: 86.2327 - val_loss: 23.8949 - val_MAPE: 73.6568\n"
          ]
        },
        {
          "output_type": "execute_result",
          "data": {
            "text/plain": [
              "<keras.callbacks.History at 0x7f3ba04b2a10>"
            ]
          },
          "metadata": {},
          "execution_count": 14
        }
      ],
      "source": [
        "y_train_max = y_train.max()\n",
        "\n",
        "X_train_volume_max = X_train_volume.max()\n",
        "\n",
        "model.compile(\n",
        "    loss=\"MAE\",\n",
        "    optimizer=keras.optimizers.Adam(learning_rate=0.00001),\n",
        "    metrics=[\"MAPE\"],\n",
        ")\n",
        "\n",
        "model.fit([X_train,np.log(X_train_volume), np.log(X_train_area)], np.log(y_train),validation_data = ([X_test,np.log(X_test_volume),np.log(X_test_area)],y_test), batch_size = 8, epochs = 100, verbose = 1)\n"
      ]
    },
    {
      "cell_type": "code",
      "execution_count": 15,
      "metadata": {
        "id": "2SBZORUO_5vT"
      },
      "outputs": [],
      "source": [
        "y_train_max = y_train.max()\n",
        "preds = model.predict([X_test, np.log(X_test_volume),np.log(X_test_area)])#*y_train_max"
      ]
    },
    {
      "cell_type": "code",
      "source": [
        "np.sum(((preds)-(np.log(y_test))))/len(preds)"
      ],
      "metadata": {
        "id": "Gp9BDJ66212y",
        "outputId": "51000cb3-749f-49c3-de56-1d2eceb1c638",
        "colab": {
          "base_uri": "https://localhost:8080/"
        }
      },
      "execution_count": 18,
      "outputs": [
        {
          "output_type": "execute_result",
          "data": {
            "text/plain": [
              "5.201200635092709"
            ]
          },
          "metadata": {},
          "execution_count": 18
        }
      ]
    },
    {
      "cell_type": "code",
      "source": [
        "for e,i in zip(np.exp(preds),y_train):\n",
        "  print(\"preds\",e,\"truth\",i)"
      ],
      "metadata": {
        "id": "fO-njwLL3Vpl",
        "outputId": "74003b7c-34d0-46c5-d88f-a96494e7dbf2",
        "colab": {
          "base_uri": "https://localhost:8080/"
        }
      },
      "execution_count": 19,
      "outputs": [
        {
          "output_type": "stream",
          "name": "stdout",
          "text": [
            "preds [5.840907] truth 44.139400793438085\n",
            "preds [1.8039908] truth 2.5995062020154145\n",
            "preds [40.645615] truth 5.754845714363635\n",
            "preds [15.810597] truth 23.984738485878957\n",
            "preds [13.847299] truth 35.33793741462762\n",
            "preds [15.432901] truth 308.1255287978894\n",
            "preds [23.719334] truth 0.16621017683993575\n",
            "preds [34.044037] truth 41.26037494139206\n",
            "preds [10.6041975] truth 38.63736618631828\n",
            "preds [34.80188] truth 1.0134805649190142\n",
            "preds [27.365366] truth 34.1665999012935\n",
            "preds [8.479455] truth 30.83907842221318\n",
            "preds [1.6437978] truth 0.16715615662385272\n",
            "preds [23.813326] truth 9.504685065708175\n",
            "preds [19.133078] truth 18.833951718741364\n",
            "preds [23.416723] truth 0.41671098084251973\n",
            "preds [33.0016] truth 18.291609771384866\n",
            "preds [31.628645] truth 0.562620939482206\n",
            "preds [28.740927] truth 29.221974055770225\n",
            "preds [8.696074] truth 6.152599447377891\n",
            "preds [4.9074836] truth 7.415828151285955\n",
            "preds [7.870447] truth 0.8954621638458699\n",
            "preds [8.050213] truth 19.68306807520568\n",
            "preds [5.832057] truth 62.18354353788962\n",
            "preds [34.245014] truth 0.6253650354578096\n",
            "preds [23.990679] truth 38.21605418306976\n",
            "preds [37.301807] truth 27.717599349280885\n",
            "preds [31.941572] truth 2.656544727169499\n",
            "preds [2.6219177] truth 1.992626498498716\n",
            "preds [20.5954] truth 7.88173968393793\n",
            "preds [8.104187] truth 12.15892883967642\n",
            "preds [5.726147] truth 5.850661071625641\n",
            "preds [62.55663] truth 0.9501744656948942\n",
            "preds [48.371662] truth 1.4450742702920072\n",
            "preds [59.099876] truth 5.661137616531737\n",
            "preds [18.07804] truth 60.69607820809773\n",
            "preds [30.500061] truth 9.741498412963724\n",
            "preds [13.59837] truth 14.891948583740778\n",
            "preds [13.049536] truth 3.907463690841289\n"
          ]
        }
      ]
    }
  ],
  "metadata": {
    "accelerator": "GPU",
    "colab": {
      "name": "mppd.ipynb",
      "provenance": []
    },
    "interpreter": {
      "hash": "50ffb7d2e1c20b3fce74969edadf992c5e2c62f97786e5c092ebf6cc72a542c6"
    },
    "kernelspec": {
      "display_name": "Python 3.8.3 64-bit ('MPPE': conda)",
      "name": "python3"
    },
    "language_info": {
      "codemirror_mode": {
        "name": "ipython",
        "version": 3
      },
      "file_extension": ".py",
      "mimetype": "text/x-python",
      "name": "python",
      "nbconvert_exporter": "python",
      "pygments_lexer": "ipython3",
      "version": "3.8.3"
    },
    "orig_nbformat": 4
  },
  "nbformat": 4,
  "nbformat_minor": 0
}