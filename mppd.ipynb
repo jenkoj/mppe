{
  "cells": [
    {
      "cell_type": "code",
      "execution_count": 1,
      "metadata": {
        "colab": {
          "base_uri": "https://localhost:8080/"
        },
        "id": "aeWEr7SVACGP",
        "outputId": "5da44c5b-31a1-41c6-a3e2-7b889a41368b"
      },
      "outputs": [
        {
          "output_type": "stream",
          "name": "stdout",
          "text": [
            "Requirement already satisfied: trimesh in /usr/local/lib/python3.7/dist-packages (3.9.36)\n",
            "Requirement already satisfied: numpy in /usr/local/lib/python3.7/dist-packages (from trimesh) (1.19.5)\n",
            "Requirement already satisfied: setuptools in /usr/local/lib/python3.7/dist-packages (from trimesh) (57.4.0)\n"
          ]
        }
      ],
      "source": [
        "pip install trimesh"
      ]
    },
    {
      "cell_type": "code",
      "execution_count": 2,
      "metadata": {
        "id": "lzg3HwMO_5vD"
      },
      "outputs": [],
      "source": [
        "import os\n",
        "import random\n",
        "import glob\n",
        "import trimesh\n",
        "import numpy as np\n",
        "import tensorflow as tf\n",
        "from matplotlib import pyplot as plt\n",
        "import scipy \n",
        "from tensorflow import keras\n",
        "from tensorflow.keras import layers\n",
        "from tensorflow.keras import optimizers\n",
        "from tensorflow.keras.layers import Conv3D, Dense ,Dropout, Flatten, Activation, MaxPooling3D, Input\n"
      ]
    },
    {
      "cell_type": "code",
      "execution_count": 3,
      "metadata": {
        "colab": {
          "base_uri": "https://localhost:8080/"
        },
        "id": "nrAEYus-AVcE",
        "outputId": "ed988884-d8a1-4418-b11e-bf267715ee46"
      },
      "outputs": [
        {
          "output_type": "stream",
          "name": "stdout",
          "text": [
            "Drive already mounted at /content/drive; to attempt to forcibly remount, call drive.mount(\"/content/drive\", force_remount=True).\n",
            "reading from cloud...\n"
          ]
        }
      ],
      "source": [
        "try:\n",
        "    from google.colab import drive\n",
        "    drive.mount('/content/drive')\n",
        "\n",
        "    print(\"reading from cloud...\")\n",
        "    path = \"/content/drive/MyDrive/Colab Notebooks/MPPE/data_70p_overhang/stls_opt/\"\n",
        "    path_vox = \"/content/drive/MyDrive/Colab Notebooks/MPPE/data_70p_overhang/voxels/\"\n",
        "    \n",
        "except:\n",
        "    import pathlib\n",
        "    print(\"reading from disk\")\n",
        "    path = str(pathlib.Path().resolve())+\"/dataset/stls_opt/\"\n",
        "    path_vox = str(pathlib.Path().resolve())+\"/dataset/voxels/\""
      ]
    },
    {
      "cell_type": "code",
      "execution_count": null,
      "metadata": {
        "id": "_-ueyYuw_5vI"
      },
      "outputs": [],
      "source": [
        "mesh = trimesh.load(path+\"63_8475_10313_17790_28845.stl\")"
      ]
    },
    {
      "cell_type": "code",
      "source": [
        "def calculate_cost(filename):\n",
        "  #params\n",
        "  #time - parts usally need 15 minutes for preparation\n",
        "  #1h - 10eur\n",
        "  price_per_h = 2\n",
        "  price_per_meter = 0.17#0.1133 #150 meters costs 17e \n",
        "  filament_diameter = 2.85 #mm\n",
        "  filament_phi = np.power(filament_diameter/2,2)*np.pi #mm^2\n",
        "  \n",
        "  support_removal_multiplier= 2\n",
        "  support_removal_multiplier_time = 1.5\n",
        "  profit_margin = 0.1\n",
        "  #larger parts need longer time + 5 minutes slice time. \n",
        "  \n",
        "  #get data from filename\n",
        "  data = filename.replace(\".\",\"_\").split(\"_\")\n",
        "  data = [int(x) for x in data[:-1]]\n",
        "\n",
        "  #calculate cost from filament lenght\n",
        "\n",
        "  #calulate cost no support \n",
        "  cost_filament = ((data[2]/(filament_phi*1000)))*price_per_meter\n",
        "\n",
        "  #calulcate cost of printing supports only \n",
        "  cost_supports = (abs(data[2]-data[4])/(filament_phi*1000))*price_per_meter\n",
        "  cost_supports_removal = support_removal_multiplier*cost_supports\n",
        "\n",
        "  #calulate timewise cost in hours\n",
        "  print_time = data[1]\n",
        "  print_time_supports = data[3]\n",
        "\n",
        "  #convert to horus and include time for removing supports \n",
        "  print_time= (((print_time + 2*abs(print_time-print_time_supports))*support_removal_multiplier_time)/3600)\n",
        "  print_time_cost = print_time * price_per_h\n",
        "\n",
        "  #cena\n",
        "  cost = (cost_filament+cost_supports+cost_supports_removal+print_time_cost)\n",
        "  cost = (cost*profit_margin)+cost\n",
        "\n",
        "  return cost\n",
        "\n",
        "#cost = calculate_cost(\"89_88123_134991_106833_152824.stl\")\n",
        "#cost = calculate_cost(\"62_1605_2129_2398_3618.stl\")\n",
        "cost = calculate_cost(\"108_31956_48635_34435_50936.stl\")\n",
        "print(cost)"
      ],
      "metadata": {
        "colab": {
          "base_uri": "https://localhost:8080/"
        },
        "id": "_HKy6ANOZvOG",
        "outputId": "aa511b24-43e7-434e-a043-d45b369302dd"
      },
      "execution_count": 4,
      "outputs": [
        {
          "output_type": "stream",
          "name": "stdout",
          "text": [
            "35.46582523917991\n"
          ]
        }
      ]
    },
    {
      "cell_type": "code",
      "source": [
        "X_train = np.zeros([0,100,100,100])\n",
        "X_train_volume = np.zeros([0,1])\n",
        "X_train_area = np.zeros([0,1])\n",
        "\n",
        "y_train = np.zeros(0)\n",
        "for filename in os.listdir(path_vox):\n",
        "    if filename.endswith(\".npy\"):\n",
        "        #print(\"appending\", filename.split(\".\")[0])\n",
        "        vox = np.load(path_vox+filename)\n",
        "        X_train = np.append(X_train,vox[np.newaxis,...],axis=0)\n",
        "        y_train = np.append(y_train,calculate_cost(filename))\n",
        "        \n",
        "        mesh = trimesh.load(path+filename.split(\".\")[0]+\".stl\")\n",
        "        \n",
        "        mv = np.array(abs(mesh.volume))\n",
        "        X_train_volume = np.append(X_train_volume,mv[np.newaxis,...])\n",
        "\n",
        "        ma = np.array(abs(mesh.area))\n",
        "        X_train_area = np.append(X_train_area,ma[np.newaxis,...])\n",
        "\n",
        "X_train_area = X_train_area[...,np.newaxis]\n",
        "X_train_volume = X_train_volume[...,np.newaxis]\n",
        "X_train = X_train[...,np.newaxis]"
      ],
      "metadata": {
        "id": "s7xD2c4KsFHj"
      },
      "execution_count": 5,
      "outputs": []
    },
    {
      "cell_type": "code",
      "execution_count": 6,
      "metadata": {
        "id": "d45eX3H0lw12"
      },
      "outputs": [],
      "source": [
        "#my net\n",
        "input1 = keras.Input(shape=(X_train.shape[1:]))\n",
        "input2 = keras.Input(shape=(X_train_volume.shape[1:]))\n",
        "\n",
        "y = Dense(1)(input2)\n",
        "\n",
        "x = Conv3D(32,(3,3,3),strides = (2,2,2), activation='relu', padding = 'same')(input1)\n",
        "x = Conv3D(32,(3,3,3),strides = (2,2,2), activation='relu', padding = 'same')(x)\n",
        "x = MaxPooling3D(pool_size=(2, 2, 2))(x)\n",
        "x = Conv3D(16,(3,3,3),strides = (2,2,2), activation='relu', padding = 'same')(x)\n",
        "x = Conv3D(16,(3,3,3),strides = (2,2,2), activation='relu', padding = 'same')(x)\n",
        "x = MaxPooling3D(pool_size=(2, 2, 2))(x)\n",
        "x = Conv3D(8,(3,3,3),strides = (2,2,2), activation='relu', padding = 'same')(x)\n",
        "x = Conv3D(8,(3,3,3),strides = (2,2,2), activation='relu', padding = 'same')(x)\n",
        "\n",
        "x = MaxPooling3D(pool_size=(1, 1, 1))(x)\n",
        "\n",
        "x = Activation('relu')(x)\n",
        "\n",
        "x = layers.Dropout(0.8)(x)\n",
        "\n",
        "x = Flatten()(x)\n",
        "\n",
        "x = layers.Concatenate(axis=1)([x,input2])\n",
        "\n",
        "dense = Dense(2000, activation = 'relu')(x)\n",
        "dense = Dense(300, activation = 'relu')(dense)\n",
        "dense = Dense(150, activation = 'relu')(dense)\n",
        "dense = Dense(20, activation = 'relu')(dense)\n",
        "dense = Dense(16, activation = 'relu')(dense)\n",
        "    # final layer with 10 neurons to classify the instances\n",
        "output = Dense(1, activation = 'linear')(dense)\n",
        "    \n",
        "#outputs = layers.Dense(NUM_CLASSES, activation=\"softmax\")(x)\n",
        "\n",
        "model = keras.Model(inputs=[input1,input2], outputs=output, name=\"jjnet\")"
      ]
    },
    {
      "cell_type": "code",
      "source": [
        "#paper net \n",
        "input1 = keras.Input(shape=(X_train.shape[1:]))\n",
        "input2 = keras.Input(shape=(X_train_volume.shape[1:]))\n",
        "\n",
        "\n",
        "x = Conv3D(16,(3,3,3), activation='LeakyReLU', padding = 'same')(input1)\n",
        "x = Conv3D(16,(3,3,3), activation='LeakyReLU', padding = 'same')(x)\n",
        "x = MaxPooling3D(pool_size=(2, 2, 2))(x)\n",
        "x = layers.Dropout(0.3)(x)\n",
        "\n",
        "x = Conv3D(32,(3,3,3), activation='LeakyReLU', padding = 'same')(x)\n",
        "x = Conv3D(32,(3,3,3), activation='LeakyReLU', padding = 'same')(x)\n",
        "x = MaxPooling3D(pool_size=(2, 2, 2))(x)\n",
        "x = layers.Dropout(0.3)(x)\n",
        "\n",
        "x = Conv3D(64,(3,3,3), activation='LeakyReLU', padding = 'same')(x)\n",
        "\n",
        "x = layers.Dropout(0.3)(x)\n",
        "\n",
        "x = Flatten()(x)\n",
        "\n",
        "x = layers.Concatenate(axis=1)([x,input2])\n",
        "x = Dense(16, activation = 'LeakyReLU')(x)\n",
        "dense = Dense(2000, activation = 'LeakyReLU')(x)\n",
        "dense = Dense(300, activation = 'LeakyReLU')(dense)\n",
        "dense = Dense(150, activation = 'LeakyReLU')(dense)\n",
        "dense = Dense(20, activation = 'LeakyReLU')(dense)\n",
        "dense = Dense(16, activation = 'LeakyReLU')(dense)\n",
        "    # final layer with 10 neurons to classify the instances\n",
        "output = Dense(1, activation = 'linear')(dense)\n",
        "    \n",
        "#outputs = layers.Dense(NUM_CLASSES, activation=\"softmax\")(x)\n",
        "\n",
        "model = keras.Model(inputs=[input1,input2], outputs=output, name=\"papernet\")"
      ],
      "metadata": {
        "id": "5NctJfQTgfIE"
      },
      "execution_count": 57,
      "outputs": []
    },
    {
      "cell_type": "code",
      "execution_count": null,
      "metadata": {
        "id": "765aPkAD_5vR"
      },
      "outputs": [],
      "source": [
        "y_train_max = y_train.max()\n",
        "\n",
        "X_train_volume_max = X_train_volume.max()\n",
        "\n",
        "model.compile(\n",
        "    loss=\"MSLE\",\n",
        "    optimizer=keras.optimizers.Adam(learning_rate=0.00001),\n",
        "    metrics=[\"MAPE\"],\n",
        ")\n",
        "\n",
        "model.fit([X_train, np.log(X_train_volume)], np.log(y_train), batch_size = 8, epochs = 100, verbose = 1,validation_split=0.2)\n"
      ]
    },
    {
      "cell_type": "code",
      "execution_count": 18,
      "metadata": {
        "id": "2SBZORUO_5vT"
      },
      "outputs": [],
      "source": [
        "y_train_max = y_train.max()\n",
        "preds = model.predict([X_train, np.log(X_train_volume)])#*y_train_max"
      ]
    },
    {
      "cell_type": "code",
      "source": [
        "np.sum(((preds)-(np.log(y_train))))/len(preds)"
      ],
      "metadata": {
        "id": "Gp9BDJ66212y",
        "outputId": "46a6dd65-24ad-4db9-cebb-72cf914b4392",
        "colab": {
          "base_uri": "https://localhost:8080/"
        }
      },
      "execution_count": 19,
      "outputs": [
        {
          "output_type": "execute_result",
          "data": {
            "text/plain": [
              "7.143898013759278"
            ]
          },
          "metadata": {},
          "execution_count": 19
        }
      ]
    },
    {
      "cell_type": "code",
      "source": [
        "for e,i in zip(np.exp(preds),y_train):\n",
        "  print(\"preds\",e,\"truth\",i)"
      ],
      "metadata": {
        "id": "fO-njwLL3Vpl",
        "outputId": "13c1a5c5-0e98-4a48-ea80-7c1a2028d3f1",
        "colab": {
          "base_uri": "https://localhost:8080/"
        }
      },
      "execution_count": 20,
      "outputs": [
        {
          "output_type": "stream",
          "name": "stdout",
          "text": [
            "preds [12.332699] truth 26.77824824484932\n",
            "preds [17.49057] truth 81.16618971043529\n",
            "preds [22.242516] truth 51.93106089008093\n",
            "preds [11.121869] truth 10.495122867463099\n",
            "preds [10.88331] truth 6.806431057703429\n",
            "preds [8.378992] truth 5.150449286780538\n",
            "preds [17.719917] truth 38.24498913580695\n",
            "preds [10.198847] truth 5.754845714363635\n",
            "preds [27.183073] truth 108.79986700316321\n",
            "preds [7.8453016] truth 2.656544727169499\n",
            "preds [8.656029] truth 5.788570329257202\n",
            "preds [10.442072] truth 6.800669008657024\n",
            "preds [16.352049] truth 36.266246189857625\n",
            "preds [14.025045] truth 14.696273923049322\n",
            "preds [14.091952] truth 11.33614703354167\n",
            "preds [10.226888] truth 7.426233928909042\n",
            "preds [5.696895] truth 1.3101400525558313\n",
            "preds [25.557772] truth 70.797070671036\n",
            "preds [11.428423] truth 11.014982664895943\n",
            "preds [8.856059] truth 3.41721456384545\n",
            "preds [19.52783] truth 46.65956068510782\n",
            "preds [16.626514] truth 18.833951718741364\n",
            "preds [2.458115] truth 0.16715615662385272\n",
            "preds [14.23568] truth 7.759467847841546\n",
            "preds [9.470336] truth 3.907463690841289\n",
            "preds [10.763923] truth 7.282875222477445\n",
            "preds [8.90773] truth 6.7067336079174975\n",
            "preds [12.087365] truth 9.16678745512173\n",
            "preds [23.97691] truth 63.847974188694295\n",
            "preds [21.233809] truth 65.15373053970522\n",
            "preds [12.378813] truth 12.580058141191824\n",
            "preds [10.574048] truth 4.210997988977724\n",
            "preds [11.704392] truth 9.558691957739363\n",
            "preds [6.961249] truth 1.8937798871145768\n",
            "preds [12.809797] truth 11.019640165526825\n",
            "preds [12.934388] truth 12.15892883967642\n",
            "preds [13.655511] truth 16.089411287591094\n",
            "preds [10.351298] truth 5.127406270610664\n",
            "preds [20.33351] truth 40.568101198283664\n",
            "preds [14.080108] truth 13.619712413804201\n",
            "preds [12.173063] truth 9.040230597896077\n",
            "preds [8.851429] truth 3.3485694342683323\n",
            "preds [25.448112] truth 61.9555727750762\n",
            "preds [13.867509] truth 18.861525632017315\n",
            "preds [15.385608] truth 14.891948583740778\n",
            "preds [19.215979] truth 35.213371954371155\n",
            "preds [5.112953] truth 1.2434043186134274\n",
            "preds [14.170277] truth 53.01374567673534\n",
            "preds [3.4081311] truth 0.6253650354578096\n",
            "preds [45.01538] truth 269.3613078170788\n",
            "preds [9.845333] truth 4.049481195909746\n",
            "preds [15.251303] truth 11.67592801267331\n",
            "preds [14.405955] truth 19.350962079788673\n",
            "preds [23.1657] truth 69.81681981105584\n",
            "preds [4.857147] truth 0.9032058808207072\n",
            "preds [27.217213] truth 90.16842014631186\n",
            "preds [24.830835] truth 87.22833368407285\n",
            "preds [11.687992] truth 5.753233113914103\n",
            "preds [13.46466] truth 15.757150765540109\n",
            "preds [3.0412989] truth 0.33677966911749074\n",
            "preds [20.533222] truth 54.11466815745594\n",
            "preds [15.425537] truth 13.690612505399978\n",
            "preds [5.1396737] truth 1.0134805649190142\n",
            "preds [10.97333] truth 7.88173968393793\n",
            "preds [12.590974] truth 12.481391072523866\n",
            "preds [28.102152] truth 160.80177706055247\n",
            "preds [10.551607] truth 7.066464057833883\n",
            "preds [4.845813] truth 0.8954621638458699\n",
            "preds [11.298475] truth 8.316002019982998\n",
            "preds [12.436763] truth 10.47667379766383\n",
            "preds [12.021239] truth 9.467420891652683\n",
            "preds [10.508694] truth 5.33787015746433\n",
            "preds [41.33232] truth 308.1255287978894\n",
            "preds [17.695225] truth 29.221974055770225\n",
            "preds [30.634623] truth 126.64274145443352\n",
            "preds [23.269926] truth 181.63272065317915\n",
            "preds [4.516147] truth 0.876478508911503\n",
            "preds [3.6077352] truth 0.5878399493582106\n",
            "preds [25.058552] truth 263.72020140645486\n",
            "preds [16.95112] truth 38.21605418306976\n",
            "preds [28.476076] truth 90.09981671189813\n",
            "preds [3.930224] truth 0.4383299103182659\n",
            "preds [13.872704] truth 27.717599349280885\n",
            "preds [4.6831055] truth 0.8197888351532744\n",
            "preds [7.869334] truth 2.5995062020154145\n",
            "preds [7.8691263] truth 3.6059298867082497\n",
            "preds [14.93192] truth 12.321032653090935\n",
            "preds [11.8729925] truth 8.123355833397511\n",
            "preds [19.361834] truth 33.01876720892744\n",
            "preds [18.881891] truth 34.1665999012935\n",
            "preds [44.312393] truth 252.6831637945744\n",
            "preds [10.498098] truth 7.415828151285955\n",
            "preds [14.624071] truth 18.85878384607082\n",
            "preds [7.9387517] truth 5.663466492842161\n",
            "preds [28.307585] truth 171.1847128030708\n",
            "preds [10.513017] truth 12.44013500749579\n",
            "preds [9.336526] truth 5.85850763700873\n",
            "preds [32.791695] truth 117.49023467149168\n",
            "preds [12.981654] truth 14.487403052568695\n",
            "preds [13.148824] truth 12.185185053700005\n",
            "preds [15.907674] truth 21.12040696755552\n",
            "preds [19.161482] truth 34.56376749795774\n",
            "preds [10.000382] truth 6.152599447377891\n",
            "preds [4.1274533] truth 0.562620939482206\n",
            "preds [15.476333] truth 13.951891818517227\n",
            "preds [20.19535] truth 58.71086767322592\n",
            "preds [8.39201] truth 12.718294508156596\n",
            "preds [12.945076] truth 11.716010795009844\n",
            "preds [11.83735] truth 9.741498412963724\n",
            "preds [24.94234] truth 62.18354353788962\n",
            "preds [32.784588] truth 117.13142644725848\n",
            "preds [9.045216] truth 5.299043038154583\n",
            "preds [20.936037] truth 57.86778994592596\n",
            "preds [6.673784] truth 1.992626498498716\n",
            "preds [19.240028] truth 30.780739379852008\n",
            "preds [13.572003] truth 8.992949423767875\n",
            "preds [16.644455] truth 41.26037494139206\n",
            "preds [17.008213] truth 32.59906186811118\n",
            "preds [10.129188] truth 8.822928794691187\n",
            "preds [9.245918] truth 5.172223120875211\n",
            "preds [15.092312] truth 17.66062723045227\n",
            "preds [16.719501] truth 17.72227132602155\n",
            "preds [21.472795] truth 37.825807515098546\n",
            "preds [31.783117] truth 121.38832915583511\n",
            "preds [7.555692] truth 2.3606926137622555\n",
            "preds [11.604927] truth 15.158760242997225\n",
            "preds [24.87298] truth 263.8912674527169\n",
            "preds [15.194513] truth 19.68306807520568\n",
            "preds [20.49164] truth 31.063767003954347\n",
            "preds [10.617271] truth 5.850661071625641\n",
            "preds [15.37179] truth 22.492555256149572\n",
            "preds [4.847149] truth 1.0362133928502715\n",
            "preds [32.37558] truth 132.819567184751\n",
            "preds [17.748629] truth 38.39619630567291\n",
            "preds [10.414659] truth 4.32515463960497\n",
            "preds [19.287035] truth 38.63736618631828\n",
            "preds [19.38297] truth 35.33793741462762\n",
            "preds [3.2503502] truth 0.40188978855769386\n",
            "preds [13.952903] truth 34.64826596893068\n",
            "preds [22.95001] truth 49.054004698854705\n",
            "preds [13.577932] truth 9.504685065708175\n",
            "preds [6.3435936] truth 1.4450742702920072\n",
            "preds [3.9280186] truth 0.44681441525626825\n",
            "preds [7.3716083] truth 2.7159952669707823\n",
            "preds [20.781736] truth 50.210794186983414\n",
            "preds [29.351418] truth 126.50218417220604\n",
            "preds [7.0283766] truth 1.9307237648899307\n",
            "preds [6.8682313] truth 1.3937568570224892\n",
            "preds [11.128922] truth 10.264103662387372\n",
            "preds [14.003032] truth 10.820356200390105\n",
            "preds [10.086193] truth 4.62376395504259\n",
            "preds [7.195268] truth 1.6424507347978434\n",
            "preds [8.165424] truth 10.550534009106135\n",
            "preds [20.993223] truth 35.46582523917991\n",
            "preds [13.746743] truth 7.055682389702287\n",
            "preds [25.196571] truth 66.35644913455594\n",
            "preds [16.069122] truth 23.984738485878957\n",
            "preds [7.4276156] truth 2.1964782559057197\n",
            "preds [9.964933] truth 5.384281793110762\n",
            "preds [5.4462743] truth 0.9501744656948942\n",
            "preds [19.95512] truth 30.83907842221318\n",
            "preds [26.682821] truth 60.69607820809773\n",
            "preds [24.622807] truth 61.50892551642673\n",
            "preds [15.268388] truth 20.493242586901623\n",
            "preds [10.328662] truth 4.492337961336459\n",
            "preds [13.466928] truth 15.746062826188357\n",
            "preds [17.312742] truth 21.25672382982824\n",
            "preds [6.7630887] truth 1.759925200695901\n",
            "preds [12.212298] truth 5.412278726095935\n",
            "preds [7.472278] truth 3.118432654716242\n",
            "preds [16.114382] truth 13.475420614630556\n",
            "preds [24.134382] truth 107.3048419109687\n",
            "preds [13.286951] truth 10.291923957651694\n",
            "preds [10.4839115] truth 6.584735192922141\n",
            "preds [17.99616] truth 32.128582293230586\n",
            "preds [13.834987] truth 14.33294326572188\n",
            "preds [30.011585] truth 120.60631280384038\n",
            "preds [14.035934] truth 10.2313159292277\n",
            "preds [4.5244074] truth 0.8456158394603935\n",
            "preds [23.292099] truth 58.53163628028798\n",
            "preds [24.784575] truth 123.50748484044026\n",
            "preds [14.905911] truth 17.574702523759765\n",
            "preds [11.656953] truth 8.580123947471993\n",
            "preds [15.36812] truth 21.832784202071064\n",
            "preds [3.154964] truth 0.41671098084251973\n",
            "preds [2.6940484] truth 0.16621017683993575\n",
            "preds [20.82824] truth 32.232322425170864\n",
            "preds [14.9014635] truth 18.291609771384866\n"
          ]
        }
      ]
    },
    {
      "cell_type": "code",
      "execution_count": 64,
      "metadata": {
        "id": "Q__hxu6g_5vU",
        "outputId": "584ff0de-9638-4531-afed-9a1deb7836d3",
        "colab": {
          "base_uri": "https://localhost:8080/"
        }
      },
      "outputs": [
        {
          "output_type": "stream",
          "name": "stdout",
          "text": [
            "Model: \"jjnet\"\n",
            "__________________________________________________________________________________________________\n",
            " Layer (type)                   Output Shape         Param #     Connected to                     \n",
            "==================================================================================================\n",
            " input_15 (InputLayer)          [(None, 100, 100, 1  0           []                               \n",
            "                                00, 1)]                                                           \n",
            "                                                                                                  \n",
            " conv3d_35 (Conv3D)             (None, 50, 50, 50,   896         ['input_15[0][0]']               \n",
            "                                32)                                                               \n",
            "                                                                                                  \n",
            " conv3d_36 (Conv3D)             (None, 25, 25, 25,   27680       ['conv3d_35[0][0]']              \n",
            "                                32)                                                               \n",
            "                                                                                                  \n",
            " max_pooling3d_15 (MaxPooling3D  (None, 12, 12, 12,   0          ['conv3d_36[0][0]']              \n",
            " )                              32)                                                               \n",
            "                                                                                                  \n",
            " conv3d_37 (Conv3D)             (None, 6, 6, 6, 16)  13840       ['max_pooling3d_15[0][0]']       \n",
            "                                                                                                  \n",
            " conv3d_38 (Conv3D)             (None, 3, 3, 3, 16)  6928        ['conv3d_37[0][0]']              \n",
            "                                                                                                  \n",
            " max_pooling3d_16 (MaxPooling3D  (None, 1, 1, 1, 16)  0          ['conv3d_38[0][0]']              \n",
            " )                                                                                                \n",
            "                                                                                                  \n",
            " conv3d_39 (Conv3D)             (None, 1, 1, 1, 8)   3464        ['max_pooling3d_16[0][0]']       \n",
            "                                                                                                  \n",
            " conv3d_40 (Conv3D)             (None, 1, 1, 1, 8)   1736        ['conv3d_39[0][0]']              \n",
            "                                                                                                  \n",
            " max_pooling3d_17 (MaxPooling3D  (None, 1, 1, 1, 8)  0           ['conv3d_40[0][0]']              \n",
            " )                                                                                                \n",
            "                                                                                                  \n",
            " activation_1 (Activation)      (None, 1, 1, 1, 8)   0           ['max_pooling3d_17[0][0]']       \n",
            "                                                                                                  \n",
            " dropout_15 (Dropout)           (None, 1, 1, 1, 8)   0           ['activation_1[0][0]']           \n",
            "                                                                                                  \n",
            " flatten_6 (Flatten)            (None, 8)            0           ['dropout_15[0][0]']             \n",
            "                                                                                                  \n",
            " input_16 (InputLayer)          [(None, 1)]          0           []                               \n",
            "                                                                                                  \n",
            " concatenate_6 (Concatenate)    (None, 9)            0           ['flatten_6[0][0]',              \n",
            "                                                                  'input_16[0][0]']               \n",
            "                                                                                                  \n",
            " dense_19 (Dense)               (None, 2000)         20000       ['concatenate_6[0][0]']          \n",
            "                                                                                                  \n",
            " dense_20 (Dense)               (None, 300)          600300      ['dense_19[0][0]']               \n",
            "                                                                                                  \n",
            " dense_21 (Dense)               (None, 150)          45150       ['dense_20[0][0]']               \n",
            "                                                                                                  \n",
            " dense_22 (Dense)               (None, 20)           3020        ['dense_21[0][0]']               \n",
            "                                                                                                  \n",
            " dense_23 (Dense)               (None, 16)           336         ['dense_22[0][0]']               \n",
            "                                                                                                  \n",
            " dense_24 (Dense)               (None, 1)            17          ['dense_23[0][0]']               \n",
            "                                                                                                  \n",
            "==================================================================================================\n",
            "Total params: 723,367\n",
            "Trainable params: 723,367\n",
            "Non-trainable params: 0\n",
            "__________________________________________________________________________________________________\n"
          ]
        }
      ],
      "source": [
        "model.summary()"
      ]
    }
  ],
  "metadata": {
    "accelerator": "GPU",
    "colab": {
      "name": "mppd.ipynb",
      "provenance": []
    },
    "interpreter": {
      "hash": "50ffb7d2e1c20b3fce74969edadf992c5e2c62f97786e5c092ebf6cc72a542c6"
    },
    "kernelspec": {
      "display_name": "Python 3.8.3 64-bit ('MPPE': conda)",
      "name": "python3"
    },
    "language_info": {
      "codemirror_mode": {
        "name": "ipython",
        "version": 3
      },
      "file_extension": ".py",
      "mimetype": "text/x-python",
      "name": "python",
      "nbconvert_exporter": "python",
      "pygments_lexer": "ipython3",
      "version": "3.8.3"
    },
    "orig_nbformat": 4
  },
  "nbformat": 4,
  "nbformat_minor": 0
}