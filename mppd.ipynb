{
  "cells": [
    {
      "cell_type": "code",
      "execution_count": 2,
      "metadata": {
        "colab": {
          "base_uri": "https://localhost:8080/"
        },
        "id": "aeWEr7SVACGP",
        "outputId": "f8a7ed2f-86fd-4ab0-f90c-8b5f314e3917"
      },
      "outputs": [
        {
          "output_type": "stream",
          "name": "stdout",
          "text": [
            "Requirement already satisfied: trimesh in /usr/local/lib/python3.7/dist-packages (3.9.36)\n",
            "Requirement already satisfied: setuptools in /usr/local/lib/python3.7/dist-packages (from trimesh) (57.4.0)\n",
            "Requirement already satisfied: numpy in /usr/local/lib/python3.7/dist-packages (from trimesh) (1.19.5)\n"
          ]
        }
      ],
      "source": [
        "pip install trimesh"
      ]
    },
    {
      "cell_type": "code",
      "execution_count": 3,
      "metadata": {
        "id": "lzg3HwMO_5vD"
      },
      "outputs": [],
      "source": [
        "import os\n",
        "import random\n",
        "import glob\n",
        "import trimesh\n",
        "import numpy as np\n",
        "import tensorflow as tf\n",
        "from matplotlib import pyplot as plt\n",
        "import scipy \n",
        "from tensorflow import keras\n",
        "from tensorflow.keras import layers\n",
        "from tensorflow.keras import optimizers\n",
        "from tensorflow.keras.layers import Conv3D, Dense ,Dropout, Flatten, Activation, MaxPooling3D, Input\n"
      ]
    },
    {
      "cell_type": "code",
      "execution_count": 4,
      "metadata": {
        "colab": {
          "base_uri": "https://localhost:8080/"
        },
        "id": "nrAEYus-AVcE",
        "outputId": "2e593a9f-7847-4dd0-c7c6-10a61fcc8982"
      },
      "outputs": [
        {
          "output_type": "stream",
          "name": "stdout",
          "text": [
            "Drive already mounted at /content/drive; to attempt to forcibly remount, call drive.mount(\"/content/drive\", force_remount=True).\n",
            "reading from cloud...\n"
          ]
        }
      ],
      "source": [
        "try:\n",
        "    from google.colab import drive\n",
        "    drive.mount('/content/drive')\n",
        "\n",
        "    print(\"reading from cloud...\")\n",
        "    path = \"/content/drive/MyDrive/Colab Notebooks/MPPE/data_70p_overhang/stls_opt/\"\n",
        "    path_vox = \"/content/drive/MyDrive/Colab Notebooks/MPPE/data_70p_overhang/voxels/\"\n",
        "    \n",
        "except:\n",
        "    import pathlib\n",
        "    print(\"reading from disk\")\n",
        "    path = str(pathlib.Path().resolve())+\"/dataset/stls_opt/\"\n",
        "    path_vox = str(pathlib.Path().resolve())+\"/dataset/voxels/\""
      ]
    },
    {
      "cell_type": "code",
      "execution_count": 4,
      "metadata": {
        "id": "_-ueyYuw_5vI"
      },
      "outputs": [],
      "source": [
        "mesh = trimesh.load(path+\"63_8475_10313_17790_28845.stl\")"
      ]
    },
    {
      "cell_type": "code",
      "source": [
        "def calculate_cost(filename):\n",
        "  #params\n",
        "  #time - parts usally need 15 minutes for preparation\n",
        "  #1h - 10eur\n",
        "  price_per_h = 2\n",
        "  price_per_meter = 0.17#0.1133 #150 meters costs 17e \n",
        "  filament_diameter = 2.85 #mm\n",
        "  filament_phi = np.power(filament_diameter/2,2)*np.pi #mm^2\n",
        "  \n",
        "  support_removal_multiplier= 2\n",
        "  support_removal_multiplier_time = 1.5\n",
        "  profit_margin = 0.1\n",
        "  #larger parts need longer time + 5 minutes slice time. \n",
        "  \n",
        "  #get data from filename\n",
        "  data = filename.replace(\".\",\"_\").split(\"_\")\n",
        "  data = [int(x) for x in data[:-1]]\n",
        "\n",
        "  #calculate cost from filament lenght\n",
        "\n",
        "  #calulate cost no support \n",
        "  cost_filament = ((data[2]/(filament_phi*1000)))*price_per_meter\n",
        "\n",
        "  #calulcate cost of printing supports only \n",
        "  cost_supports = (abs(data[2]-data[4])/(filament_phi*1000))*price_per_meter\n",
        "  cost_supports_removal = support_removal_multiplier*cost_supports\n",
        "\n",
        "  #calulate timewise cost in hours\n",
        "  print_time = data[1]\n",
        "  print_time_supports = data[3]\n",
        "\n",
        "  #convert to horus and include time for removing supports \n",
        "  print_time= (((print_time + 2*abs(print_time-print_time_supports))*support_removal_multiplier_time)/3600)\n",
        "  print_time_cost = print_time * price_per_h\n",
        "\n",
        "  #cena\n",
        "  cost = (cost_filament+cost_supports+cost_supports_removal+print_time_cost)\n",
        "  cost = (cost*profit_margin)+cost\n",
        "\n",
        "  return cost\n",
        "\n",
        "#cost = calculate_cost(\"89_88123_134991_106833_152824.stl\")\n",
        "#cost = calculate_cost(\"62_1605_2129_2398_3618.stl\")\n",
        "cost = calculate_cost(\"108_31956_48635_34435_50936.stl\")\n",
        "print(cost)"
      ],
      "metadata": {
        "colab": {
          "base_uri": "https://localhost:8080/"
        },
        "id": "_HKy6ANOZvOG",
        "outputId": "1ce4b63b-9cc0-405a-a3d5-d9401293f018"
      },
      "execution_count": 5,
      "outputs": [
        {
          "output_type": "stream",
          "name": "stdout",
          "text": [
            "35.46582523917991\n"
          ]
        }
      ]
    },
    {
      "cell_type": "code",
      "source": [
        "X_train = np.zeros([0,100,100,100])\n",
        "X_train_volume = np.zeros([0,1])\n",
        "X_train_area = np.zeros([0,1])\n",
        "\n",
        "y_train = np.zeros(0)\n",
        "for filename in os.listdir(path_vox):\n",
        "    if filename.endswith(\".npy\"):\n",
        "        #print(\"appending\", filename.split(\".\")[0])\n",
        "        vox = np.load(path_vox+filename)\n",
        "        X_train = np.append(X_train,vox[np.newaxis,...],axis=0)\n",
        "        y_train = np.append(y_train,calculate_cost(filename))\n",
        "        \n",
        "        mesh = trimesh.load(path+filename.split(\".\")[0]+\".stl\")\n",
        "        \n",
        "        mv = np.array(abs(mesh.volume))\n",
        "        X_train_volume = np.append(X_train_volume,mv[np.newaxis,...])\n",
        "\n",
        "        ma = np.array(abs(mesh.area))\n",
        "        X_train_area = np.append(X_train_area,ma[np.newaxis,...])\n",
        "\n",
        "X_train_area = X_train_area[...,np.newaxis]\n",
        "X_train_volume = X_train_volume[...,np.newaxis]\n",
        "X_train = X_train[...,np.newaxis]"
      ],
      "metadata": {
        "id": "s7xD2c4KsFHj"
      },
      "execution_count": 21,
      "outputs": []
    },
    {
      "cell_type": "code",
      "execution_count": 27,
      "metadata": {
        "id": "d45eX3H0lw12"
      },
      "outputs": [],
      "source": [
        "#my net\n",
        "input1 = keras.Input(shape=(X_train.shape[1:]))\n",
        "input2 = keras.Input(shape=(X_train_volume.shape[1:]))\n",
        "input3 = keras.Input(shape=(X_train_area.shape[1:]))\n",
        "\n",
        "#y = Dense(1)(input2)\n",
        "activ = \"LeakyReLU\"\n",
        "x = Conv3D(64,(3,3,3),strides = (2,2,2), activation=activ, padding = 'same')(input1)\n",
        "x = Conv3D(64,(3,3,3),strides = (2,2,2), activation=activ, padding = 'same')(x)\n",
        "x = MaxPooling3D(pool_size=(2, 2, 2))(x)\n",
        "x = layers.Dropout(0.3)(x)\n",
        "x = Conv3D(32,(3,3,3),strides = (2,2,2), activation=activ, padding = 'same')(x)\n",
        "x = Conv3D(32,(3,3,3),strides = (2,2,2), activation=activ, padding = 'same')(x)\n",
        "x = MaxPooling3D(pool_size=(2, 2, 2))(x)\n",
        "x = layers.Dropout(0.3)(x)\n",
        "x = Conv3D(16,(3,3,3),strides = (2,2,2), activation=activ, padding = 'same')(x)\n",
        "x = Conv3D(16,(3,3,3),strides = (2,2,2), activation=activ, padding = 'same')(x)\n",
        "x = MaxPooling3D(pool_size=(1, 1, 1))(x)\n",
        "x = Conv3D(8,(3,3,3),strides = (2,2,2), activation=activ, padding = 'same')(x)\n",
        "x = Conv3D(8,(3,3,3),strides = (2,2,2), activation=activ, padding = 'same')(x)\n",
        "\n",
        "x = Activation('relu')(x)\n",
        "\n",
        "x = layers.Dropout(0.5)(x)\n",
        "\n",
        "x = Flatten()(x)\n",
        "\n",
        "x = layers.Concatenate(axis=1)([x,input2])\n",
        "#x = Dense(4, activation = 'relu')(x)\n",
        "x = layers.Concatenate(axis=1)([x,input3])\n",
        "\n",
        "dense = Dense(2000, activation = activ)(x)\n",
        "dense = Dense(300, activation = activ)(dense)\n",
        "dense = Dense(150, activation = activ)(dense)\n",
        "dense = Dense(20, activation = activ)(dense)\n",
        "dense = Dense(16, activation = activ)(dense)\n",
        "    # final layer with 10 neurons to classify the instances\n",
        "output = Dense(1, activation = 'linear')(dense)\n",
        "    \n",
        "#outputs = layers.Dense(NUM_CLASSES, activation=\"softmax\")(x)\n",
        "\n",
        "model = keras.Model(inputs=[input1,input2,input3], outputs=output, name=\"jjnet\")"
      ]
    },
    {
      "cell_type": "code",
      "source": [
        "#@title Default title text\n",
        "#paper net \n",
        "input1 = keras.Input(shape=(X_train.shape[1:]))\n",
        "input2 = keras.Input(shape=(X_train_volume.shape[1:]))\n",
        "input3 = keras.Input(shape=(X_train_area.shape[1:]))\n",
        "\n",
        "\n",
        "\n",
        "x = Conv3D(16,(3,3,3), activation='LeakyReLU', padding = 'same')(input1)\n",
        "x = Conv3D(16,(3,3,3), activation='LeakyReLU', padding = 'same')(x)\n",
        "x = MaxPooling3D(pool_size=(2, 2, 2))(x)\n",
        "x = layers.Dropout(0.3)(x)\n",
        "\n",
        "x = Conv3D(32,(3,3,3), activation='LeakyReLU', padding = 'same')(x)\n",
        "x = Conv3D(32,(3,3,3), activation='LeakyReLU', padding = 'same')(x)\n",
        "x = MaxPooling3D(pool_size=(2, 2, 2))(x)\n",
        "x = layers.Dropout(0.3)(x)\n",
        "\n",
        "x = Conv3D(8,(3,3,3), activation='LeakyReLU', padding = 'same')(x)\n",
        "\n",
        "x = layers.Dropout(0.8)(x)\n",
        "\n",
        "x = Flatten()(x)\n",
        "\n",
        "x = layers.Concatenate(axis=1)([x,input2])\n",
        "x = Dense(8, activation = 'LeakyReLU')(x)\n",
        "dense = Dense(2000, activation = 'LeakyReLU')(x)\n",
        "dense = Dense(300, activation = 'LeakyReLU')(dense)\n",
        "dense = Dense(150, activation = 'LeakyReLU')(dense)\n",
        "dense = Dense(20, activation = 'LeakyReLU')(dense)\n",
        "dense = Dense(16, activation = 'LeakyReLU')(dense)\n",
        "    # final layer with 10 neurons to classify the instances\n",
        "output = Dense(1, activation = 'linear')(dense)\n",
        "    \n",
        "#outputs = layers.Dense(NUM_CLASSES, activation=\"softmax\")(x)\n",
        "\n",
        "model = keras.Model(inputs=[input1,input2], outputs=output, name=\"papernet\")"
      ],
      "metadata": {
        "id": "5NctJfQTgfIE",
        "cellView": "form"
      },
      "execution_count": 38,
      "outputs": []
    },
    {
      "cell_type": "code",
      "source": [
        "tf.keras.backend.clear_session()"
      ],
      "metadata": {
        "id": "IAVVNEmFfUvu"
      },
      "execution_count": 36,
      "outputs": []
    },
    {
      "cell_type": "code",
      "execution_count": null,
      "metadata": {
        "id": "765aPkAD_5vR",
        "outputId": "b78560dc-c630-4041-f35c-e39ee86ea119",
        "colab": {
          "base_uri": "https://localhost:8080/"
        }
      },
      "outputs": [
        {
          "output_type": "stream",
          "name": "stdout",
          "text": [
            "Epoch 1/100\n",
            "19/19 [==============================] - 6s 264ms/step - loss: 2.8345 - MAPE: 123.3151 - val_loss: 2.4768 - val_MAPE: 101.0383\n",
            "Epoch 2/100\n",
            "19/19 [==============================] - 5s 243ms/step - loss: 2.3649 - MAPE: 109.0808 - val_loss: 2.0527 - val_MAPE: 105.7807\n",
            "Epoch 3/100\n",
            "19/19 [==============================] - 5s 243ms/step - loss: 2.0299 - MAPE: 122.6528 - val_loss: 1.7732 - val_MAPE: 113.5100\n",
            "Epoch 4/100\n",
            "19/19 [==============================] - 5s 243ms/step - loss: 1.7425 - MAPE: 134.8528 - val_loss: 1.5258 - val_MAPE: 124.4967\n",
            "Epoch 5/100\n",
            "19/19 [==============================] - 5s 244ms/step - loss: 1.4727 - MAPE: 157.1283 - val_loss: 1.2519 - val_MAPE: 138.4190\n",
            "Epoch 6/100\n",
            "19/19 [==============================] - 5s 243ms/step - loss: 1.1871 - MAPE: 194.4928 - val_loss: 1.0278 - val_MAPE: 160.0084\n",
            "Epoch 7/100\n",
            "19/19 [==============================] - 5s 244ms/step - loss: 0.9950 - MAPE: 217.4267 - val_loss: 0.9230 - val_MAPE: 180.3267\n",
            "Epoch 8/100\n",
            "19/19 [==============================] - 5s 244ms/step - loss: 0.9366 - MAPE: 237.1241 - val_loss: 0.8918 - val_MAPE: 190.4263\n",
            "Epoch 9/100\n",
            "19/19 [==============================] - 5s 244ms/step - loss: 0.9317 - MAPE: 245.6597 - val_loss: 0.8865 - val_MAPE: 192.8774\n",
            "Epoch 10/100\n",
            "19/19 [==============================] - 5s 243ms/step - loss: 0.9295 - MAPE: 243.0348 - val_loss: 0.8872 - val_MAPE: 192.2063\n",
            "Epoch 11/100\n",
            "19/19 [==============================] - 5s 243ms/step - loss: 0.9259 - MAPE: 245.5938 - val_loss: 0.8843 - val_MAPE: 194.1115\n",
            "Epoch 12/100\n",
            "19/19 [==============================] - 5s 243ms/step - loss: 0.9267 - MAPE: 248.4841 - val_loss: 0.8831 - val_MAPE: 195.8979\n",
            "Epoch 13/100\n",
            "19/19 [==============================] - 5s 243ms/step - loss: 0.9264 - MAPE: 245.7225 - val_loss: 0.8847 - val_MAPE: 192.8568\n",
            "Epoch 14/100\n",
            "19/19 [==============================] - 5s 255ms/step - loss: 0.9310 - MAPE: 248.4797 - val_loss: 0.8821 - val_MAPE: 195.7603\n",
            "Epoch 15/100\n",
            "19/19 [==============================] - 5s 255ms/step - loss: 0.9259 - MAPE: 245.4795 - val_loss: 0.8914 - val_MAPE: 188.8818\n",
            "Epoch 16/100\n",
            "19/19 [==============================] - 5s 242ms/step - loss: 0.9254 - MAPE: 240.3720 - val_loss: 0.8877 - val_MAPE: 190.3121\n",
            "Epoch 17/100\n",
            "19/19 [==============================] - 5s 243ms/step - loss: 0.9257 - MAPE: 243.8830 - val_loss: 0.8842 - val_MAPE: 191.9817\n",
            "Epoch 18/100\n",
            "19/19 [==============================] - 5s 242ms/step - loss: 0.9290 - MAPE: 249.3950 - val_loss: 0.8816 - val_MAPE: 194.7861\n",
            "Epoch 19/100\n",
            "19/19 [==============================] - 5s 242ms/step - loss: 0.9235 - MAPE: 247.4883 - val_loss: 0.8816 - val_MAPE: 193.9492\n",
            "Epoch 20/100\n",
            "19/19 [==============================] - 5s 242ms/step - loss: 0.9247 - MAPE: 243.0002 - val_loss: 0.8855 - val_MAPE: 190.3712\n",
            "Epoch 21/100\n",
            "19/19 [==============================] - 5s 243ms/step - loss: 0.9277 - MAPE: 249.4004 - val_loss: 0.8803 - val_MAPE: 195.7680\n",
            "Epoch 22/100\n",
            "19/19 [==============================] - 5s 241ms/step - loss: 0.9223 - MAPE: 245.3467 - val_loss: 0.8831 - val_MAPE: 191.2029\n",
            "Epoch 23/100\n",
            "19/19 [==============================] - 5s 241ms/step - loss: 0.9227 - MAPE: 242.3336 - val_loss: 0.8845 - val_MAPE: 190.0382\n",
            "Epoch 24/100\n",
            "19/19 [==============================] - 5s 241ms/step - loss: 0.9205 - MAPE: 243.2737 - val_loss: 0.8803 - val_MAPE: 193.3942\n",
            "Epoch 25/100\n",
            "19/19 [==============================] - 5s 242ms/step - loss: 0.9206 - MAPE: 248.1260 - val_loss: 0.8794 - val_MAPE: 194.0033\n",
            "Epoch 26/100\n",
            "12/19 [=================>............] - ETA: 1s - loss: 0.9502 - MAPE: 316.9405"
          ]
        }
      ],
      "source": [
        "y_train_max = y_train.max()\n",
        "\n",
        "X_train_volume_max = X_train_volume.max()\n",
        "\n",
        "model.compile(\n",
        "    loss=\"MAE\",\n",
        "    optimizer=keras.optimizers.Adam(learning_rate=0.00001),\n",
        "    metrics=[\"MAPE\"],\n",
        ")\n",
        "\n",
        "model.fit([X_train,np.log(X_train_volume), np.log(X_train_area)], np.log(y_train), batch_size = 8, epochs = 100, verbose = 1,validation_split=0.2)\n"
      ]
    },
    {
      "cell_type": "code",
      "execution_count": 23,
      "metadata": {
        "id": "2SBZORUO_5vT"
      },
      "outputs": [],
      "source": [
        "y_train_max = y_train.max()\n",
        "preds = model.predict([X_train, np.log(X_train_volume),np.log(X_train_area)])#*y_train_max"
      ]
    },
    {
      "cell_type": "code",
      "source": [
        "np.sum(((preds)-(np.log(y_train))))/len(preds)"
      ],
      "metadata": {
        "id": "Gp9BDJ66212y",
        "outputId": "82209ab4-4008-4c81-e1ae-4d906a89558d",
        "colab": {
          "base_uri": "https://localhost:8080/"
        }
      },
      "execution_count": 24,
      "outputs": [
        {
          "output_type": "execute_result",
          "data": {
            "text/plain": [
              "-18.861018276527652"
            ]
          },
          "metadata": {},
          "execution_count": 24
        }
      ]
    },
    {
      "cell_type": "code",
      "source": [
        "for e,i in zip(np.exp(preds),y_train):\n",
        "  print(\"preds\",e,\"truth\",i)"
      ],
      "metadata": {
        "id": "fO-njwLL3Vpl",
        "outputId": "bf81cdfc-6806-42e7-d48c-100ef86c8f77",
        "colab": {
          "base_uri": "https://localhost:8080/"
        }
      },
      "execution_count": 25,
      "outputs": [
        {
          "output_type": "stream",
          "name": "stdout",
          "text": [
            "preds [16.324484] truth 26.77824824484932\n",
            "preds [17.028578] truth 81.16618971043529\n",
            "preds [43.010803] truth 51.93106089008093\n",
            "preds [11.360003] truth 10.495122867463099\n",
            "preds [11.359909] truth 6.806431057703429\n",
            "preds [4.694588] truth 5.150449286780538\n",
            "preds [29.350004] truth 38.24498913580695\n",
            "preds [5.663525] truth 5.754845714363635\n",
            "preds [62.525017] truth 108.79986700316321\n",
            "preds [3.5530653] truth 2.656544727169499\n",
            "preds [5.3706226] truth 5.788570329257202\n",
            "preds [6.558576] truth 6.800669008657024\n",
            "preds [19.91612] truth 36.266246189857625\n",
            "preds [16.153032] truth 14.696273923049322\n",
            "preds [10.7199745] truth 11.33614703354167\n",
            "preds [3.7820935] truth 7.426233928909042\n",
            "preds [1.9978192] truth 1.3101400525558313\n",
            "preds [51.932774] truth 70.797070671036\n",
            "preds [12.320688] truth 11.014982664895943\n",
            "preds [3.9253225] truth 3.41721456384545\n",
            "preds [17.615437] truth 46.65956068510782\n",
            "preds [19.962296] truth 18.833951718741364\n",
            "preds [0.66393834] truth 0.16715615662385272\n",
            "preds [14.638321] truth 7.759467847841546\n",
            "preds [5.5524373] truth 3.907463690841289\n",
            "preds [9.683133] truth 7.282875222477445\n",
            "preds [6.769116] truth 6.7067336079174975\n",
            "preds [8.687556] truth 9.16678745512173\n",
            "preds [32.75809] truth 63.847974188694295\n",
            "preds [37.758373] truth 65.15373053970522\n",
            "preds [5.4703646] truth 12.580058141191824\n",
            "preds [12.760099] truth 4.210997988977724\n",
            "preds [12.608985] truth 9.558691957739363\n",
            "preds [4.0827713] truth 1.8937798871145768\n",
            "preds [8.04721] truth 11.019640165526825\n",
            "preds [13.678283] truth 12.15892883967642\n",
            "preds [17.001354] truth 16.089411287591094\n",
            "preds [7.3643684] truth 5.127406270610664\n",
            "preds [30.003128] truth 40.568101198283664\n",
            "preds [15.838566] truth 13.619712413804201\n",
            "preds [10.833607] truth 9.040230597896077\n",
            "preds [6.0843353] truth 3.3485694342683323\n",
            "preds [45.007095] truth 61.9555727750762\n",
            "preds [19.700058] truth 18.861525632017315\n",
            "preds [14.140069] truth 14.891948583740778\n",
            "preds [29.539818] truth 35.213371954371155\n",
            "preds [1.5265237] truth 1.2434043186134274\n",
            "preds [17.105625] truth 53.01374567673534\n",
            "preds [0.5956234] truth 0.6253650354578096\n",
            "preds [148.01463] truth 269.3613078170788\n",
            "preds [5.8129396] truth 4.049481195909746\n",
            "preds [27.57179] truth 11.67592801267331\n",
            "preds [17.721878] truth 19.350962079788673\n",
            "preds [45.7342] truth 69.81681981105584\n",
            "preds [1.3815309] truth 0.9032058808207072\n",
            "preds [28.706495] truth 90.16842014631186\n",
            "preds [37.171024] truth 87.22833368407285\n",
            "preds [10.656412] truth 5.753233113914103\n",
            "preds [7.331713] truth 15.757150765540109\n",
            "preds [0.59684044] truth 0.33677966911749074\n",
            "preds [33.491478] truth 54.11466815745594\n",
            "preds [16.4475] truth 13.690612505399978\n",
            "preds [1.5794393] truth 1.0134805649190142\n",
            "preds [13.725051] truth 7.88173968393793\n",
            "preds [14.497924] truth 12.481391072523866\n",
            "preds [35.346355] truth 160.80177706055247\n",
            "preds [6.427994] truth 7.066464057833883\n",
            "preds [1.3478258] truth 0.8954621638458699\n",
            "preds [7.9544244] truth 8.316002019982998\n",
            "preds [8.216918] truth 10.47667379766383\n",
            "preds [11.650545] truth 9.467420891652683\n",
            "preds [6.587032] truth 5.33787015746433\n",
            "preds [80.36135] truth 308.1255287978894\n",
            "preds [35.195225] truth 29.221974055770225\n",
            "preds [25.854305] truth 126.64274145443352\n",
            "preds [24.987715] truth 181.63272065317915\n",
            "preds [1.0958481] truth 0.876478508911503\n",
            "preds [0.9996236] truth 0.5878399493582106\n",
            "preds [34.911263] truth 263.72020140645486\n",
            "preds [21.260555] truth 38.21605418306976\n",
            "preds [26.002855] truth 90.09981671189813\n",
            "preds [1.1769334] truth 0.4383299103182659\n",
            "preds [19.64993] truth 27.717599349280885\n",
            "preds [1.6353512] truth 0.8197888351532744\n",
            "preds [3.6511989] truth 2.5995062020154145\n",
            "preds [2.8521314] truth 3.6059298867082497\n",
            "preds [24.906384] truth 12.321032653090935\n",
            "preds [9.867507] truth 8.123355833397511\n",
            "preds [12.191234] truth 33.01876720892744\n",
            "preds [30.130074] truth 34.1665999012935\n",
            "preds [145.43394] truth 252.6831637945744\n",
            "preds [4.13438] truth 7.415828151285955\n",
            "preds [19.720072] truth 18.85878384607082\n",
            "preds [8.227396] truth 5.663466492842161\n",
            "preds [54.947243] truth 171.1847128030708\n",
            "preds [7.260693] truth 12.44013500749579\n",
            "preds [2.3849366] truth 5.85850763700873\n",
            "preds [80.711426] truth 117.49023467149168\n",
            "preds [14.482464] truth 14.487403052568695\n",
            "preds [13.7486925] truth 12.185185053700005\n",
            "preds [20.146475] truth 21.12040696755552\n",
            "preds [29.978672] truth 34.56376749795774\n",
            "preds [8.203286] truth 6.152599447377891\n",
            "preds [1.3864745] truth 0.562620939482206\n",
            "preds [16.39522] truth 13.951891818517227\n",
            "preds [31.227911] truth 58.71086767322592\n",
            "preds [3.3910031] truth 12.718294508156596\n",
            "preds [10.564845] truth 11.716010795009844\n",
            "preds [11.87391] truth 9.741498412963724\n",
            "preds [30.708994] truth 62.18354353788962\n",
            "preds [79.80139] truth 117.13142644725848\n",
            "preds [3.4361122] truth 5.299043038154583\n",
            "preds [22.891012] truth 57.86778994592596\n",
            "preds [3.3339179] truth 1.992626498498716\n",
            "preds [28.74018] truth 30.780739379852008\n",
            "preds [12.362133] truth 8.992949423767875\n",
            "preds [24.196835] truth 41.26037494139206\n",
            "preds [18.916334] truth 32.59906186811118\n",
            "preds [8.888104] truth 8.822928794691187\n",
            "preds [3.1597908] truth 5.172223120875211\n",
            "preds [18.175629] truth 17.66062723045227\n",
            "preds [19.747911] truth 17.72227132602155\n",
            "preds [36.461067] truth 37.825807515098546\n",
            "preds [66.57782] truth 121.38832915583511\n",
            "preds [2.266699] truth 2.3606926137622555\n",
            "preds [7.5922136] truth 15.158760242997225\n",
            "preds [35.634598] truth 263.8912674527169\n",
            "preds [18.490614] truth 19.68306807520568\n",
            "preds [21.43391] truth 31.063767003954347\n",
            "preds [10.766219] truth 5.850661071625641\n",
            "preds [19.25996] truth 22.492555256149572\n",
            "preds [1.0017041] truth 1.0362133928502715\n",
            "preds [75.717674] truth 132.819567184751\n",
            "preds [29.022388] truth 38.39619630567291\n",
            "preds [8.6076145] truth 4.32515463960497\n",
            "preds [19.23756] truth 38.63736618631828\n",
            "preds [29.485678] truth 35.33793741462762\n",
            "preds [0.6145023] truth 0.40188978855769386\n",
            "preds [16.049568] truth 34.64826596893068\n",
            "preds [40.04463] truth 49.054004698854705\n",
            "preds [16.158966] truth 9.504685065708175\n",
            "preds [2.481238] truth 1.4450742702920072\n",
            "preds [1.1573752] truth 0.44681441525626825\n",
            "preds [3.9115613] truth 2.7159952669707823\n",
            "preds [39.364006] truth 50.210794186983414\n",
            "preds [27.310558] truth 126.50218417220604\n",
            "preds [4.2560973] truth 1.9307237648899307\n",
            "preds [3.3532438] truth 1.3937568570224892\n",
            "preds [8.890268] truth 10.264103662387372\n",
            "preds [16.710629] truth 10.820356200390105\n",
            "preds [7.140245] truth 4.62376395504259\n",
            "preds [2.9102306] truth 1.6424507347978434\n",
            "preds [3.865101] truth 10.550534009106135\n",
            "preds [36.210194] truth 35.46582523917991\n",
            "preds [13.43269] truth 7.055682389702287\n",
            "preds [67.31846] truth 66.35644913455594\n",
            "preds [11.677458] truth 23.984738485878957\n",
            "preds [4.1777577] truth 2.1964782559057197\n",
            "preds [4.3931866] truth 5.384281793110762\n",
            "preds [2.4549875] truth 0.9501744656948942\n",
            "preds [34.49008] truth 30.83907842221318\n",
            "preds [65.75872] truth 60.69607820809773\n",
            "preds [33.149284] truth 61.50892551642673\n",
            "preds [18.68589] truth 20.493242586901623\n",
            "preds [6.7960887] truth 4.492337961336459\n",
            "preds [7.332015] truth 15.746062826188357\n",
            "preds [28.132816] truth 21.25672382982824\n",
            "preds [4.4113526] truth 1.759925200695901\n",
            "preds [13.86945] truth 5.412278726095935\n",
            "preds [7.488131] truth 3.118432654716242\n",
            "preds [17.969543] truth 13.475420614630556\n",
            "preds [52.612793] truth 107.3048419109687\n",
            "preds [6.7277756] truth 10.291923957651694\n",
            "preds [6.7099037] truth 6.584735192922141\n",
            "preds [12.5772] truth 32.128582293230586\n",
            "preds [12.587045] truth 14.33294326572188\n",
            "preds [62.155544] truth 120.60631280384038\n",
            "preds [12.069069] truth 10.2313159292277\n",
            "preds [1.0627953] truth 0.8456158394603935\n",
            "preds [19.66213] truth 58.53163628028798\n",
            "preds [41.423794] truth 123.50748484044026\n",
            "preds [20.68273] truth 17.574702523759765\n",
            "preds [8.939341] truth 8.580123947471993\n",
            "preds [20.22375] truth 21.832784202071064\n",
            "preds [0.66772294] truth 0.41671098084251973\n",
            "preds [0.64758766] truth 0.16621017683993575\n",
            "preds [28.35963] truth 32.232322425170864\n",
            "preds [16.332312] truth 18.291609771384866\n"
          ]
        }
      ]
    },
    {
      "cell_type": "code",
      "execution_count": null,
      "metadata": {
        "id": "Q__hxu6g_5vU",
        "outputId": "584ff0de-9638-4531-afed-9a1deb7836d3",
        "colab": {
          "base_uri": "https://localhost:8080/"
        }
      },
      "outputs": [
        {
          "output_type": "stream",
          "name": "stdout",
          "text": [
            "Model: \"jjnet\"\n",
            "__________________________________________________________________________________________________\n",
            " Layer (type)                   Output Shape         Param #     Connected to                     \n",
            "==================================================================================================\n",
            " input_15 (InputLayer)          [(None, 100, 100, 1  0           []                               \n",
            "                                00, 1)]                                                           \n",
            "                                                                                                  \n",
            " conv3d_35 (Conv3D)             (None, 50, 50, 50,   896         ['input_15[0][0]']               \n",
            "                                32)                                                               \n",
            "                                                                                                  \n",
            " conv3d_36 (Conv3D)             (None, 25, 25, 25,   27680       ['conv3d_35[0][0]']              \n",
            "                                32)                                                               \n",
            "                                                                                                  \n",
            " max_pooling3d_15 (MaxPooling3D  (None, 12, 12, 12,   0          ['conv3d_36[0][0]']              \n",
            " )                              32)                                                               \n",
            "                                                                                                  \n",
            " conv3d_37 (Conv3D)             (None, 6, 6, 6, 16)  13840       ['max_pooling3d_15[0][0]']       \n",
            "                                                                                                  \n",
            " conv3d_38 (Conv3D)             (None, 3, 3, 3, 16)  6928        ['conv3d_37[0][0]']              \n",
            "                                                                                                  \n",
            " max_pooling3d_16 (MaxPooling3D  (None, 1, 1, 1, 16)  0          ['conv3d_38[0][0]']              \n",
            " )                                                                                                \n",
            "                                                                                                  \n",
            " conv3d_39 (Conv3D)             (None, 1, 1, 1, 8)   3464        ['max_pooling3d_16[0][0]']       \n",
            "                                                                                                  \n",
            " conv3d_40 (Conv3D)             (None, 1, 1, 1, 8)   1736        ['conv3d_39[0][0]']              \n",
            "                                                                                                  \n",
            " max_pooling3d_17 (MaxPooling3D  (None, 1, 1, 1, 8)  0           ['conv3d_40[0][0]']              \n",
            " )                                                                                                \n",
            "                                                                                                  \n",
            " activation_1 (Activation)      (None, 1, 1, 1, 8)   0           ['max_pooling3d_17[0][0]']       \n",
            "                                                                                                  \n",
            " dropout_15 (Dropout)           (None, 1, 1, 1, 8)   0           ['activation_1[0][0]']           \n",
            "                                                                                                  \n",
            " flatten_6 (Flatten)            (None, 8)            0           ['dropout_15[0][0]']             \n",
            "                                                                                                  \n",
            " input_16 (InputLayer)          [(None, 1)]          0           []                               \n",
            "                                                                                                  \n",
            " concatenate_6 (Concatenate)    (None, 9)            0           ['flatten_6[0][0]',              \n",
            "                                                                  'input_16[0][0]']               \n",
            "                                                                                                  \n",
            " dense_19 (Dense)               (None, 2000)         20000       ['concatenate_6[0][0]']          \n",
            "                                                                                                  \n",
            " dense_20 (Dense)               (None, 300)          600300      ['dense_19[0][0]']               \n",
            "                                                                                                  \n",
            " dense_21 (Dense)               (None, 150)          45150       ['dense_20[0][0]']               \n",
            "                                                                                                  \n",
            " dense_22 (Dense)               (None, 20)           3020        ['dense_21[0][0]']               \n",
            "                                                                                                  \n",
            " dense_23 (Dense)               (None, 16)           336         ['dense_22[0][0]']               \n",
            "                                                                                                  \n",
            " dense_24 (Dense)               (None, 1)            17          ['dense_23[0][0]']               \n",
            "                                                                                                  \n",
            "==================================================================================================\n",
            "Total params: 723,367\n",
            "Trainable params: 723,367\n",
            "Non-trainable params: 0\n",
            "__________________________________________________________________________________________________\n"
          ]
        }
      ],
      "source": [
        "model.summary()"
      ]
    }
  ],
  "metadata": {
    "accelerator": "GPU",
    "colab": {
      "name": "mppd.ipynb",
      "provenance": []
    },
    "interpreter": {
      "hash": "50ffb7d2e1c20b3fce74969edadf992c5e2c62f97786e5c092ebf6cc72a542c6"
    },
    "kernelspec": {
      "display_name": "Python 3.8.3 64-bit ('MPPE': conda)",
      "name": "python3"
    },
    "language_info": {
      "codemirror_mode": {
        "name": "ipython",
        "version": 3
      },
      "file_extension": ".py",
      "mimetype": "text/x-python",
      "name": "python",
      "nbconvert_exporter": "python",
      "pygments_lexer": "ipython3",
      "version": "3.8.3"
    },
    "orig_nbformat": 4
  },
  "nbformat": 4,
  "nbformat_minor": 0
}