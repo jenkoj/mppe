{
  "cells": [
    {
      "cell_type": "code",
      "execution_count": 3,
      "metadata": {
        "colab": {
          "base_uri": "https://localhost:8080/"
        },
        "id": "aeWEr7SVACGP",
        "outputId": "fcfba459-e311-43ff-88b8-d4032791cfce"
      },
      "outputs": [
        {
          "output_type": "stream",
          "name": "stdout",
          "text": [
            "Collecting trimesh\n",
            "  Downloading trimesh-3.9.36-py3-none-any.whl (639 kB)\n",
            "\u001b[K     |████████████████████████████████| 639 kB 4.8 MB/s \n",
            "\u001b[?25hRequirement already satisfied: setuptools in /usr/local/lib/python3.7/dist-packages (from trimesh) (57.4.0)\n",
            "Requirement already satisfied: numpy in /usr/local/lib/python3.7/dist-packages (from trimesh) (1.19.5)\n",
            "Installing collected packages: trimesh\n",
            "Successfully installed trimesh-3.9.36\n"
          ]
        }
      ],
      "source": [
        "pip install trimesh"
      ]
    },
    {
      "cell_type": "code",
      "execution_count": 4,
      "metadata": {
        "id": "lzg3HwMO_5vD"
      },
      "outputs": [],
      "source": [
        "import os\n",
        "import random\n",
        "import glob\n",
        "import trimesh\n",
        "import numpy as np\n",
        "import tensorflow as tf\n",
        "from matplotlib import pyplot as plt\n",
        "import scipy \n",
        "from tensorflow import keras\n",
        "from tensorflow.keras import layers\n",
        "from tensorflow.keras import optimizers\n",
        "from tensorflow.keras.layers import Conv3D, Dense ,Dropout, Flatten, Activation, MaxPooling3D, Input\n"
      ]
    },
    {
      "cell_type": "code",
      "execution_count": 5,
      "metadata": {
        "colab": {
          "base_uri": "https://localhost:8080/"
        },
        "id": "nrAEYus-AVcE",
        "outputId": "79743c5c-8bb4-4ba4-8e7b-d945a735c6d7"
      },
      "outputs": [
        {
          "output_type": "stream",
          "name": "stdout",
          "text": [
            "Mounted at /content/drive\n",
            "reading from cloud...\n"
          ]
        }
      ],
      "source": [
        "try:\n",
        "    from google.colab import drive\n",
        "    drive.mount('/content/drive')\n",
        "\n",
        "    print(\"reading from cloud...\")\n",
        "    path = \"/content/drive/MyDrive/Colab Notebooks/MPPE/data_70p_overhang/stls_opt/\"\n",
        "    path_vox = \"/content/drive/MyDrive/Colab Notebooks/MPPE/data_70p_overhang/voxels/\"\n",
        "    \n",
        "except:\n",
        "    import pathlib\n",
        "    print(\"reading from disk\")\n",
        "    path = str(pathlib.Path().resolve())+\"/dataset/stls_opt/\"\n",
        "    path_vox = str(pathlib.Path().resolve())+\"/dataset/voxels/\""
      ]
    },
    {
      "cell_type": "code",
      "execution_count": null,
      "metadata": {
        "id": "_-ueyYuw_5vI"
      },
      "outputs": [],
      "source": [
        "mesh = trimesh.load(path+\"63_8475_10313_17790_28845.stl\")"
      ]
    },
    {
      "cell_type": "code",
      "execution_count": null,
      "metadata": {
        "id": "FUaw_pNR_5vJ"
      },
      "outputs": [],
      "source": [
        "def augment(points):\n",
        "    # jitter points\n",
        "    points += tf.random.uniform(points.shape, -0.05, 0.05, dtype=tf.float32)\n",
        "    # shuffle points\n",
        "    points = tf.random.shuffle(points)\n",
        "    return points\n"
      ]
    },
    {
      "cell_type": "code",
      "execution_count": 17,
      "metadata": {
        "id": "xeJ41HQVlw1t",
        "outputId": "6279ff7d-b360-4b58-cc4a-75b48e21e074",
        "colab": {
          "base_uri": "https://localhost:8080/"
        }
      },
      "outputs": [
        {
          "output_type": "execute_result",
          "data": {
            "text/plain": [
              "11098.723915191084"
            ]
          },
          "metadata": {},
          "execution_count": 17
        }
      ],
      "source": [
        "mesh.area"
      ]
    },
    {
      "cell_type": "code",
      "execution_count": null,
      "metadata": {
        "id": "j0_IBKdplw1u"
      },
      "outputs": [],
      "source": [
        "#a = np.zeros(0)\n",
        "a = np.append(a,mesh.volume+mesh.volume*2)\n",
        "print(a)"
      ]
    },
    {
      "cell_type": "code",
      "source": [
        "X_train = np.zeros([0,100,100,100])\n",
        "X_train_volume = np.zeros([0,1])\n",
        "X_train_area = np.zeros([0,1])\n",
        "\n",
        "y_train = np.zeros(0)\n",
        "for filename in os.listdir(path_vox):\n",
        "    if filename.endswith(\".npy\"):\n",
        "        #print(\"appending\", filename.split(\".\")[0])\n",
        "        vox = np.load(path_vox+filename)\n",
        "        X_train = np.append(X_train,vox[np.newaxis,...],axis=0)\n",
        "        y_train = np.append(y_train,filename.split(\"_\")[3])\n",
        "        \n",
        "        mesh = trimesh.load(path+filename.split(\".\")[0]+\".stl\")\n",
        "        \n",
        "        mv = np.array(abs(mesh.volume))\n",
        "        X_train_volume = np.append(X_train_volume,mv[np.newaxis,...])\n",
        "\n",
        "        ma = np.array(abs(mesh.area))\n",
        "        X_train_area = np.append(X_train_area,ma[np.newaxis,...])\n",
        "\n",
        "X_train_area = X_train_area[...,np.newaxis]\n",
        "X_train_volume = X_train_volume[...,np.newaxis]\n",
        "X_train = X_train[...,np.newaxis]\n",
        "\n",
        "       "
      ],
      "metadata": {
        "id": "s7xD2c4KsFHj",
        "outputId": "e6cb1b06-b100-4764-ce2d-66c7192ababe",
        "colab": {
          "base_uri": "https://localhost:8080/",
          "height": 381
        }
      },
      "execution_count": 6,
      "outputs": [
        {
          "output_type": "error",
          "ename": "KeyboardInterrupt",
          "evalue": "ignored",
          "traceback": [
            "\u001b[0;31m---------------------------------------------------------------------------\u001b[0m",
            "\u001b[0;31mKeyboardInterrupt\u001b[0m                         Traceback (most recent call last)",
            "\u001b[0;32m<ipython-input-6-bd838ce93f2d>\u001b[0m in \u001b[0;36m<module>\u001b[0;34m()\u001b[0m\n\u001b[1;32m      5\u001b[0m     \u001b[0;32mif\u001b[0m \u001b[0mfilename\u001b[0m\u001b[0;34m.\u001b[0m\u001b[0mendswith\u001b[0m\u001b[0;34m(\u001b[0m\u001b[0;34m\".npy\"\u001b[0m\u001b[0;34m)\u001b[0m\u001b[0;34m:\u001b[0m\u001b[0;34m\u001b[0m\u001b[0;34m\u001b[0m\u001b[0m\n\u001b[1;32m      6\u001b[0m         \u001b[0;31m#print(\"appending\", filename.split(\".\")[0])\u001b[0m\u001b[0;34m\u001b[0m\u001b[0;34m\u001b[0m\u001b[0;34m\u001b[0m\u001b[0m\n\u001b[0;32m----> 7\u001b[0;31m         \u001b[0mvox\u001b[0m \u001b[0;34m=\u001b[0m \u001b[0mnp\u001b[0m\u001b[0;34m.\u001b[0m\u001b[0mload\u001b[0m\u001b[0;34m(\u001b[0m\u001b[0mpath_vox\u001b[0m\u001b[0;34m+\u001b[0m\u001b[0mfilename\u001b[0m\u001b[0;34m)\u001b[0m\u001b[0;34m\u001b[0m\u001b[0;34m\u001b[0m\u001b[0m\n\u001b[0m\u001b[1;32m      8\u001b[0m         \u001b[0mX_train\u001b[0m \u001b[0;34m=\u001b[0m \u001b[0mnp\u001b[0m\u001b[0;34m.\u001b[0m\u001b[0mappend\u001b[0m\u001b[0;34m(\u001b[0m\u001b[0mX_train\u001b[0m\u001b[0;34m,\u001b[0m\u001b[0mvox\u001b[0m\u001b[0;34m[\u001b[0m\u001b[0mnp\u001b[0m\u001b[0;34m.\u001b[0m\u001b[0mnewaxis\u001b[0m\u001b[0;34m,\u001b[0m\u001b[0;34m...\u001b[0m\u001b[0;34m]\u001b[0m\u001b[0;34m,\u001b[0m\u001b[0maxis\u001b[0m\u001b[0;34m=\u001b[0m\u001b[0;36m0\u001b[0m\u001b[0;34m)\u001b[0m\u001b[0;34m\u001b[0m\u001b[0;34m\u001b[0m\u001b[0m\n\u001b[1;32m      9\u001b[0m         \u001b[0my_train\u001b[0m \u001b[0;34m=\u001b[0m \u001b[0mnp\u001b[0m\u001b[0;34m.\u001b[0m\u001b[0mappend\u001b[0m\u001b[0;34m(\u001b[0m\u001b[0my_train\u001b[0m\u001b[0;34m,\u001b[0m\u001b[0mfilename\u001b[0m\u001b[0;34m.\u001b[0m\u001b[0msplit\u001b[0m\u001b[0;34m(\u001b[0m\u001b[0;34m\"_\"\u001b[0m\u001b[0;34m)\u001b[0m\u001b[0;34m[\u001b[0m\u001b[0;36m3\u001b[0m\u001b[0;34m]\u001b[0m\u001b[0;34m)\u001b[0m\u001b[0;34m\u001b[0m\u001b[0;34m\u001b[0m\u001b[0m\n",
            "\u001b[0;32m/usr/local/lib/python3.7/dist-packages/numpy/lib/npyio.py\u001b[0m in \u001b[0;36mload\u001b[0;34m(file, mmap_mode, allow_pickle, fix_imports, encoding)\u001b[0m\n\u001b[1;32m    438\u001b[0m             \u001b[0;32melse\u001b[0m\u001b[0;34m:\u001b[0m\u001b[0;34m\u001b[0m\u001b[0;34m\u001b[0m\u001b[0m\n\u001b[1;32m    439\u001b[0m                 return format.read_array(fid, allow_pickle=allow_pickle,\n\u001b[0;32m--> 440\u001b[0;31m                                          pickle_kwargs=pickle_kwargs)\n\u001b[0m\u001b[1;32m    441\u001b[0m         \u001b[0;32melse\u001b[0m\u001b[0;34m:\u001b[0m\u001b[0;34m\u001b[0m\u001b[0;34m\u001b[0m\u001b[0m\n\u001b[1;32m    442\u001b[0m             \u001b[0;31m# Try a pickle\u001b[0m\u001b[0;34m\u001b[0m\u001b[0;34m\u001b[0m\u001b[0;34m\u001b[0m\u001b[0m\n",
            "\u001b[0;32m/usr/local/lib/python3.7/dist-packages/numpy/lib/format.py\u001b[0m in \u001b[0;36mread_array\u001b[0;34m(fp, allow_pickle, pickle_kwargs)\u001b[0m\n\u001b[1;32m    739\u001b[0m         \u001b[0;32mif\u001b[0m \u001b[0misfileobj\u001b[0m\u001b[0;34m(\u001b[0m\u001b[0mfp\u001b[0m\u001b[0;34m)\u001b[0m\u001b[0;34m:\u001b[0m\u001b[0;34m\u001b[0m\u001b[0;34m\u001b[0m\u001b[0m\n\u001b[1;32m    740\u001b[0m             \u001b[0;31m# We can use the fast fromfile() function.\u001b[0m\u001b[0;34m\u001b[0m\u001b[0;34m\u001b[0m\u001b[0;34m\u001b[0m\u001b[0m\n\u001b[0;32m--> 741\u001b[0;31m             \u001b[0marray\u001b[0m \u001b[0;34m=\u001b[0m \u001b[0mnumpy\u001b[0m\u001b[0;34m.\u001b[0m\u001b[0mfromfile\u001b[0m\u001b[0;34m(\u001b[0m\u001b[0mfp\u001b[0m\u001b[0;34m,\u001b[0m \u001b[0mdtype\u001b[0m\u001b[0;34m=\u001b[0m\u001b[0mdtype\u001b[0m\u001b[0;34m,\u001b[0m \u001b[0mcount\u001b[0m\u001b[0;34m=\u001b[0m\u001b[0mcount\u001b[0m\u001b[0;34m)\u001b[0m\u001b[0;34m\u001b[0m\u001b[0;34m\u001b[0m\u001b[0m\n\u001b[0m\u001b[1;32m    742\u001b[0m         \u001b[0;32melse\u001b[0m\u001b[0;34m:\u001b[0m\u001b[0;34m\u001b[0m\u001b[0;34m\u001b[0m\u001b[0m\n\u001b[1;32m    743\u001b[0m             \u001b[0;31m# This is not a real file. We have to read it the\u001b[0m\u001b[0;34m\u001b[0m\u001b[0;34m\u001b[0m\u001b[0;34m\u001b[0m\u001b[0m\n",
            "\u001b[0;31mKeyboardInterrupt\u001b[0m: "
          ]
        }
      ]
    },
    {
      "cell_type": "code",
      "execution_count": null,
      "metadata": {
        "id": "SoC-qUC9_5vK"
      },
      "outputs": [],
      "source": [
        "n_samples = 10000\n",
        "n_aug_samples = 1\n",
        "X_train = np.zeros([0,n_samples,3])\n",
        "X_train_volume = np.zeros(0)\n",
        "y_train = np.zeros(0)\n",
        "for filename in os.listdir(path):\n",
        "    if filename.endswith(\".stl\"):\n",
        "        print(\"appending\", filename)\n",
        "        mesh = trimesh.load(path+filename)\n",
        "        points = mesh.sample(n_samples)\n",
        "        \n",
        "        for n in range(n_aug_samples):\n",
        "\n",
        "            mv = mesh.volume\n",
        "            mv = mv + mv*random.randint(-5,5)/10000\n",
        "            X_train_volume = np.append(X_train_volume,mv)\n",
        "\n",
        "            points = augment(points)\n",
        "            X_train = np.append(X_train,points[np.newaxis,...],axis=0)\n",
        "            y_train = np.append(y_train,filename.split(\"_\")[3])\n",
        "    "
      ]
    },
    {
      "cell_type": "code",
      "execution_count": null,
      "metadata": {
        "id": "HPD96k6r_5vM"
      },
      "outputs": [],
      "source": [
        "points = mesh.sample(5000)\n",
        "#points = augment(points)\n",
        "for points in X_train:\n",
        "    fig = plt.figure(figsize=(5, 5))\n",
        "    ax = fig.add_subplot(111,projection=\"3d\")\n",
        "    ax.scatter(points[:, 0], points[:, 2], points[:, 1])\n",
        "    ax.set_axis_off()\n",
        "    plt.show()"
      ]
    },
    {
      "cell_type": "code",
      "execution_count": 29,
      "metadata": {
        "id": "zkpltEAglw1y"
      },
      "outputs": [],
      "source": [
        "X_train_volume = t"
      ]
    },
    {
      "cell_type": "code",
      "execution_count": 33,
      "metadata": {
        "id": "lifZBOwN_5vN",
        "outputId": "1b402b02-4b2a-4839-a434-d475c9268ba5",
        "colab": {
          "base_uri": "https://localhost:8080/"
        }
      },
      "outputs": [
        {
          "output_type": "execute_result",
          "data": {
            "text/plain": [
              "968285.0403605183"
            ]
          },
          "metadata": {},
          "execution_count": 33
        }
      ],
      "source": [
        "X_train_volume.max()"
      ]
    },
    {
      "cell_type": "code",
      "execution_count": null,
      "metadata": {
        "id": "_5awA0CU_5vO"
      },
      "outputs": [],
      "source": [
        "#Load model (LSTM_3D is the one that worked the best), set learning rate and number of classes (final layer length), then train the data (change epoch for more training cycles)\n",
        "#model = CNN_3D_REG(X_train,learning_rate= 0.00002)\n",
        "#print(model.summary())\n",
        "# model.fit(X_train, y_train, batch_size = 8, validation_split = 0.2, epochs = 15, verbose = 2)\n",
        "model.fit(X_train, y_train, batch_size = 8,validation_split = 0.2, epochs = 10, verbose = 2)\n",
        "#esults = model.evaluate(X_test, y_test, verbose = 2)\n",
        "print('Test accuracy: ', results[1])"
      ]
    },
    {
      "cell_type": "code",
      "source": [
        ""
      ],
      "metadata": {
        "id": "5LDOQYKQxcXt"
      },
      "execution_count": 26,
      "outputs": []
    },
    {
      "cell_type": "code",
      "execution_count": 7,
      "metadata": {
        "id": "d45eX3H0lw12"
      },
      "outputs": [],
      "source": [
        "input1 = keras.Input(shape=(X_train.shape[1:]))\n",
        "input2 = keras.Input(shape=(X_train_volume.shape[1:]))\n",
        "\n",
        "\n",
        "y = Dense(1)(input2)\n",
        "\n",
        "x = Conv3D(32,(3,3,3),strides = (2,2,2), activation='relu', padding = 'same')(input1)\n",
        "x = Conv3D(32,(3,3,3),strides = (2,2,2), activation='relu', padding = 'same')(x)\n",
        "x = MaxPooling3D(pool_size=(2, 2, 2))(x)\n",
        "x = Conv3D(16,(3,3,3),strides = (2,2,2), activation='relu', padding = 'same')(x)\n",
        "x = Conv3D(16,(3,3,3),strides = (2,2,2), activation='relu', padding = 'same')(x)\n",
        "x = MaxPooling3D(pool_size=(2, 2, 2))(x)\n",
        "x = Conv3D(8,(3,3,3),strides = (2,2,2), activation='relu', padding = 'same')(x)\n",
        "x = Conv3D(8,(3,3,3),strides = (2,2,2), activation='relu', padding = 'same')(x)\n",
        "\n",
        "x = MaxPooling3D(pool_size=(1, 1, 1))(x)\n",
        "\n",
        "x = Activation('relu')(x)\n",
        "\n",
        "x = layers.Dropout(0.8)(x)\n",
        "\n",
        "x = Flatten()(x)\n",
        "\n",
        "x = layers.Concatenate(axis=1)([x,input2])\n",
        "\n",
        "dense = Dense(2000, activation = 'relu')(x)\n",
        "dense = Dense(300, activation = 'relu')(dense)\n",
        "dense = Dense(150, activation = 'relu')(dense)\n",
        "dense = Dense(20, activation = 'relu')(dense)\n",
        "dense = Dense(16, activation = 'relu')(dense)\n",
        "    # final layer with 10 neurons to classify the instances\n",
        "output = Dense(1, activation = 'linear')(dense)\n",
        "    \n",
        "#outputs = layers.Dense(NUM_CLASSES, activation=\"softmax\")(x)\n",
        "\n",
        "model = keras.Model(inputs=[input1,input2], outputs=output, name=\"pointnet\")"
      ]
    },
    {
      "cell_type": "code",
      "execution_count": null,
      "metadata": {
        "id": "coLrMl7Q_5vP"
      },
      "outputs": [],
      "source": [
        "input1 = keras.Input(shape=(X_train.shape[1:]))\n",
        "input2 = keras.Input(shape=(1))\n",
        "\n",
        "y = Dense(1)(input2)\n",
        "\n",
        "x = tnet(input1, 3)\n",
        "x = conv_bn(x, 32)\n",
        "x = conv_bn(x, 32)\n",
        "x = tnet(x, 32)\n",
        "x = conv_bn(x, 32)\n",
        "x = conv_bn(x, 64)\n",
        "x = conv_bn(x, 512)\n",
        "x = layers.GlobalMaxPooling1D()(x)\n",
        "x = dense_bn(x, 256)\n",
        "x = layers.Dropout(0.3)(x)\n",
        "x = dense_bn(x, 128)\n",
        "#x = layers.Dropout(0.3)(x)\n",
        "\n",
        "x = layers.Concatenate()([x,y])\n",
        "\n",
        "dense = Dense(2000, activation = 'relu')(x)\n",
        "dense = Dense(300, activation = 'relu')(dense)\n",
        "dense = Dense(150, activation = 'relu')(dense)\n",
        "dense = Dense(20, activation = 'relu')(dense)\n",
        "dense = Dense(16, activation = 'relu')(dense)\n",
        "    # final layer with 10 neurons to classify the instances\n",
        "output = Dense(1, activation = 'linear')(dense)\n",
        "    \n",
        "#outputs = layers.Dense(NUM_CLASSES, activation=\"softmax\")(x)\n",
        "\n",
        "model = keras.Model(inputs=[input1,input2], outputs=output, name=\"pointnet\")\n",
        "#model.summary()"
      ]
    },
    {
      "cell_type": "code",
      "execution_count": null,
      "metadata": {
        "id": "PCCIm-ql_5vR"
      },
      "outputs": [],
      "source": [
        "def augment(points):\n",
        "    # jitter points\n",
        "    points += tf.random.uniform(points.shape, -0.005, 0.005, dtype=tf.float64)\n",
        "    # shuffle points\n",
        "    points = tf.random.shuffle(points)\n",
        "    return points\n",
        "\n",
        "#fuctions to build models \n",
        "def conv_bn(x, filters):\n",
        "    x = layers.Conv1D(filters, kernel_size=1, padding=\"valid\")(x)\n",
        "    x = layers.BatchNormalization(momentum=0.0)(x)\n",
        "    return layers.Activation(\"relu\")(x)\n",
        "\n",
        "\n",
        "def dense_bn(x, filters):\n",
        "    x = layers.Dense(filters)(x)\n",
        "    x = layers.BatchNormalization(momentum=0.0)(x)\n",
        "    return layers.Activation(\"relu\")(x)\n",
        "\n",
        "class OrthogonalRegularizer(keras.regularizers.Regularizer):\n",
        "    def __init__(self, num_features, l2reg=0.001):\n",
        "        self.num_features = num_features\n",
        "        self.l2reg = l2reg\n",
        "        self.eye = tf.eye(num_features)\n",
        "\n",
        "    def __call__(self, x):\n",
        "        x = tf.reshape(x, (-1, self.num_features, self.num_features))\n",
        "        xxt = tf.tensordot(x, x, axes=(2, 2))\n",
        "        xxt = tf.reshape(xxt, (-1, self.num_features, self.num_features))\n",
        "        return tf.reduce_sum(self.l2reg * tf.square(xxt - self.eye))\n",
        "\n",
        "#function to create T-net layers\n",
        "def tnet(inputs, num_features):\n",
        "\n",
        "    # Initalise bias as the indentity matrix\n",
        "    bias = keras.initializers.Constant(np.eye(num_features).flatten())\n",
        "    reg = OrthogonalRegularizer(num_features)\n",
        "\n",
        "    x = conv_bn(inputs, 32)\n",
        "    x = conv_bn(x, 64)\n",
        "    x = conv_bn(x, 512)\n",
        "    x = layers.GlobalMaxPooling1D()(x)\n",
        "    x = dense_bn(x, 256)\n",
        "    x = dense_bn(x, 128)\n",
        "    x = layers.Dense(\n",
        "        num_features * num_features,\n",
        "        kernel_initializer=\"zeros\",\n",
        "        bias_initializer=bias,\n",
        "        activity_regularizer=reg,\n",
        "    )(x)\n",
        "    feat_T = layers.Reshape((num_features, num_features))(x)\n",
        "    # Apply affine transformation to input features\n",
        "    \n",
        "    return layers.Dot(axes=(2, 1))([inputs, feat_T])"
      ]
    },
    {
      "cell_type": "code",
      "execution_count": 8,
      "metadata": {
        "id": "765aPkAD_5vR",
        "outputId": "2829fa7c-50c0-42de-b883-b92a83b5406e",
        "colab": {
          "base_uri": "https://localhost:8080/"
        }
      },
      "outputs": [
        {
          "output_type": "stream",
          "name": "stdout",
          "text": [
            "Epoch 1/100\n",
            "19/19 [==============================] - 13s 173ms/step - loss: 90.8961 - MSE: 90.8961 - val_loss: 86.2751 - val_MSE: 86.2751\n",
            "Epoch 2/100\n",
            "19/19 [==============================] - 2s 114ms/step - loss: 87.8257 - MSE: 87.8257 - val_loss: 83.4837 - val_MSE: 83.4837\n",
            "Epoch 3/100\n",
            "19/19 [==============================] - 2s 114ms/step - loss: 85.3339 - MSE: 85.3339 - val_loss: 81.5071 - val_MSE: 81.5071\n",
            "Epoch 4/100\n",
            "19/19 [==============================] - 2s 114ms/step - loss: 83.4044 - MSE: 83.4044 - val_loss: 79.6319 - val_MSE: 79.6319\n",
            "Epoch 5/100\n",
            "19/19 [==============================] - 2s 113ms/step - loss: 81.5276 - MSE: 81.5276 - val_loss: 77.8506 - val_MSE: 77.8506\n",
            "Epoch 6/100\n",
            "19/19 [==============================] - 2s 114ms/step - loss: 79.6893 - MSE: 79.6893 - val_loss: 76.0425 - val_MSE: 76.0425\n",
            "Epoch 7/100\n",
            "19/19 [==============================] - 2s 113ms/step - loss: 77.8270 - MSE: 77.8270 - val_loss: 74.1460 - val_MSE: 74.1460\n",
            "Epoch 8/100\n",
            "19/19 [==============================] - 2s 114ms/step - loss: 75.8951 - MSE: 75.8951 - val_loss: 72.2120 - val_MSE: 72.2120\n",
            "Epoch 9/100\n",
            "19/19 [==============================] - 2s 114ms/step - loss: 73.7977 - MSE: 73.7977 - val_loss: 69.9943 - val_MSE: 69.9943\n",
            "Epoch 10/100\n",
            "19/19 [==============================] - 2s 114ms/step - loss: 71.4582 - MSE: 71.4582 - val_loss: 67.7091 - val_MSE: 67.7091\n",
            "Epoch 11/100\n",
            "19/19 [==============================] - 2s 113ms/step - loss: 69.1240 - MSE: 69.1240 - val_loss: 65.3735 - val_MSE: 65.3735\n",
            "Epoch 12/100\n",
            "19/19 [==============================] - 2s 112ms/step - loss: 66.7084 - MSE: 66.7084 - val_loss: 62.9780 - val_MSE: 62.9780\n",
            "Epoch 13/100\n",
            "19/19 [==============================] - 2s 114ms/step - loss: 64.2379 - MSE: 64.2379 - val_loss: 60.4714 - val_MSE: 60.4714\n",
            "Epoch 14/100\n",
            "19/19 [==============================] - 2s 114ms/step - loss: 61.6281 - MSE: 61.6281 - val_loss: 57.8654 - val_MSE: 57.8654\n",
            "Epoch 15/100\n",
            "19/19 [==============================] - 2s 115ms/step - loss: 58.8822 - MSE: 58.8822 - val_loss: 55.1234 - val_MSE: 55.1234\n",
            "Epoch 16/100\n",
            "19/19 [==============================] - 2s 126ms/step - loss: 56.0255 - MSE: 56.0255 - val_loss: 52.2566 - val_MSE: 52.2566\n",
            "Epoch 17/100\n",
            "19/19 [==============================] - 2s 115ms/step - loss: 53.0200 - MSE: 53.0200 - val_loss: 49.1811 - val_MSE: 49.1811\n",
            "Epoch 18/100\n",
            "19/19 [==============================] - 2s 114ms/step - loss: 49.8135 - MSE: 49.8135 - val_loss: 46.0042 - val_MSE: 46.0042\n",
            "Epoch 19/100\n",
            "19/19 [==============================] - 2s 114ms/step - loss: 46.5117 - MSE: 46.5117 - val_loss: 42.7052 - val_MSE: 42.7052\n",
            "Epoch 20/100\n",
            "19/19 [==============================] - 2s 114ms/step - loss: 43.0599 - MSE: 43.0599 - val_loss: 39.1393 - val_MSE: 39.1393\n",
            "Epoch 21/100\n",
            "19/19 [==============================] - 2s 112ms/step - loss: 39.2766 - MSE: 39.2766 - val_loss: 35.4001 - val_MSE: 35.4001\n",
            "Epoch 22/100\n",
            "19/19 [==============================] - 2s 116ms/step - loss: 35.4371 - MSE: 35.4371 - val_loss: 31.3904 - val_MSE: 31.3904\n",
            "Epoch 23/100\n",
            "19/19 [==============================] - 2s 114ms/step - loss: 31.3697 - MSE: 31.3697 - val_loss: 27.4148 - val_MSE: 27.4148\n",
            "Epoch 24/100\n",
            "19/19 [==============================] - 2s 114ms/step - loss: 27.0413 - MSE: 27.0413 - val_loss: 23.1167 - val_MSE: 23.1167\n",
            "Epoch 25/100\n",
            "19/19 [==============================] - 2s 116ms/step - loss: 22.4532 - MSE: 22.4532 - val_loss: 18.8373 - val_MSE: 18.8373\n",
            "Epoch 26/100\n",
            "19/19 [==============================] - 2s 114ms/step - loss: 18.1261 - MSE: 18.1261 - val_loss: 14.4403 - val_MSE: 14.4403\n",
            "Epoch 27/100\n",
            "19/19 [==============================] - 2s 115ms/step - loss: 13.7765 - MSE: 13.7765 - val_loss: 10.3466 - val_MSE: 10.3466\n",
            "Epoch 28/100\n",
            "19/19 [==============================] - 2s 114ms/step - loss: 10.6970 - MSE: 10.6970 - val_loss: 7.0328 - val_MSE: 7.0328\n",
            "Epoch 29/100\n",
            "19/19 [==============================] - 2s 121ms/step - loss: 7.8067 - MSE: 7.8067 - val_loss: 4.6450 - val_MSE: 4.6450\n",
            "Epoch 30/100\n",
            "19/19 [==============================] - 2s 125ms/step - loss: 6.0487 - MSE: 6.0487 - val_loss: 3.2788 - val_MSE: 3.2788\n",
            "Epoch 31/100\n",
            "19/19 [==============================] - 2s 125ms/step - loss: 5.0628 - MSE: 5.0628 - val_loss: 2.5617 - val_MSE: 2.5617\n",
            "Epoch 32/100\n",
            "19/19 [==============================] - 3s 133ms/step - loss: 4.0380 - MSE: 4.0380 - val_loss: 1.8676 - val_MSE: 1.8676\n",
            "Epoch 33/100\n",
            "19/19 [==============================] - 2s 128ms/step - loss: 3.1862 - MSE: 3.1862 - val_loss: 1.4080 - val_MSE: 1.4080\n",
            "Epoch 34/100\n",
            "19/19 [==============================] - 3s 135ms/step - loss: 2.7475 - MSE: 2.7475 - val_loss: 1.0769 - val_MSE: 1.0769\n",
            "Epoch 35/100\n",
            "19/19 [==============================] - 2s 127ms/step - loss: 2.0001 - MSE: 2.0001 - val_loss: 0.7972 - val_MSE: 0.7972\n",
            "Epoch 36/100\n",
            "19/19 [==============================] - 2s 132ms/step - loss: 1.5173 - MSE: 1.5173 - val_loss: 0.5863 - val_MSE: 0.5863\n",
            "Epoch 37/100\n",
            "19/19 [==============================] - 2s 130ms/step - loss: 1.3089 - MSE: 1.3089 - val_loss: 0.4664 - val_MSE: 0.4664\n",
            "Epoch 38/100\n",
            "19/19 [==============================] - 2s 128ms/step - loss: 1.0976 - MSE: 1.0976 - val_loss: 0.3774 - val_MSE: 0.3774\n",
            "Epoch 39/100\n",
            "19/19 [==============================] - 2s 124ms/step - loss: 0.9263 - MSE: 0.9263 - val_loss: 0.3156 - val_MSE: 0.3156\n",
            "Epoch 40/100\n",
            "19/19 [==============================] - 2s 124ms/step - loss: 0.6675 - MSE: 0.6675 - val_loss: 0.2763 - val_MSE: 0.2763\n",
            "Epoch 41/100\n",
            "19/19 [==============================] - 2s 127ms/step - loss: 0.5958 - MSE: 0.5958 - val_loss: 0.2612 - val_MSE: 0.2612\n",
            "Epoch 42/100\n",
            "19/19 [==============================] - 2s 123ms/step - loss: 0.6078 - MSE: 0.6078 - val_loss: 0.2472 - val_MSE: 0.2472\n",
            "Epoch 43/100\n",
            "19/19 [==============================] - 2s 125ms/step - loss: 0.5760 - MSE: 0.5760 - val_loss: 0.2365 - val_MSE: 0.2365\n",
            "Epoch 44/100\n",
            "19/19 [==============================] - 2s 116ms/step - loss: 0.4804 - MSE: 0.4804 - val_loss: 0.2289 - val_MSE: 0.2289\n",
            "Epoch 45/100\n",
            "19/19 [==============================] - 2s 115ms/step - loss: 0.5206 - MSE: 0.5206 - val_loss: 0.2185 - val_MSE: 0.2185\n",
            "Epoch 46/100\n",
            "19/19 [==============================] - 2s 115ms/step - loss: 0.5402 - MSE: 0.5402 - val_loss: 0.2080 - val_MSE: 0.2080\n",
            "Epoch 47/100\n",
            "19/19 [==============================] - 2s 114ms/step - loss: 0.3867 - MSE: 0.3867 - val_loss: 0.2057 - val_MSE: 0.2057\n",
            "Epoch 48/100\n",
            "19/19 [==============================] - 2s 115ms/step - loss: 0.3670 - MSE: 0.3670 - val_loss: 0.2021 - val_MSE: 0.2021\n",
            "Epoch 49/100\n",
            "19/19 [==============================] - 2s 115ms/step - loss: 0.3805 - MSE: 0.3805 - val_loss: 0.1976 - val_MSE: 0.1976\n",
            "Epoch 50/100\n",
            "19/19 [==============================] - 2s 116ms/step - loss: 0.3110 - MSE: 0.3110 - val_loss: 0.1973 - val_MSE: 0.1973\n",
            "Epoch 51/100\n",
            "19/19 [==============================] - 2s 114ms/step - loss: 0.2728 - MSE: 0.2728 - val_loss: 0.1976 - val_MSE: 0.1976\n",
            "Epoch 52/100\n",
            "19/19 [==============================] - 2s 114ms/step - loss: 0.3561 - MSE: 0.3561 - val_loss: 0.1954 - val_MSE: 0.1954\n",
            "Epoch 53/100\n",
            "19/19 [==============================] - 2s 115ms/step - loss: 0.2921 - MSE: 0.2921 - val_loss: 0.1921 - val_MSE: 0.1921\n",
            "Epoch 54/100\n",
            "19/19 [==============================] - 2s 115ms/step - loss: 0.2895 - MSE: 0.2895 - val_loss: 0.1909 - val_MSE: 0.1909\n",
            "Epoch 55/100\n",
            "19/19 [==============================] - 2s 115ms/step - loss: 0.2743 - MSE: 0.2743 - val_loss: 0.1853 - val_MSE: 0.1853\n",
            "Epoch 56/100\n",
            "19/19 [==============================] - 2s 113ms/step - loss: 0.2480 - MSE: 0.2480 - val_loss: 0.1871 - val_MSE: 0.1871\n",
            "Epoch 57/100\n",
            "19/19 [==============================] - 2s 114ms/step - loss: 0.2441 - MSE: 0.2441 - val_loss: 0.1868 - val_MSE: 0.1868\n",
            "Epoch 58/100\n",
            "19/19 [==============================] - 2s 113ms/step - loss: 0.2778 - MSE: 0.2778 - val_loss: 0.1830 - val_MSE: 0.1830\n",
            "Epoch 59/100\n",
            "19/19 [==============================] - 2s 115ms/step - loss: 0.2716 - MSE: 0.2716 - val_loss: 0.1797 - val_MSE: 0.1797\n",
            "Epoch 60/100\n",
            "19/19 [==============================] - 2s 115ms/step - loss: 0.2495 - MSE: 0.2495 - val_loss: 0.1775 - val_MSE: 0.1775\n",
            "Epoch 61/100\n",
            "19/19 [==============================] - 2s 115ms/step - loss: 0.2265 - MSE: 0.2265 - val_loss: 0.1771 - val_MSE: 0.1771\n",
            "Epoch 62/100\n",
            "19/19 [==============================] - 2s 115ms/step - loss: 0.2121 - MSE: 0.2121 - val_loss: 0.1800 - val_MSE: 0.1800\n",
            "Epoch 63/100\n",
            "19/19 [==============================] - 2s 116ms/step - loss: 0.2299 - MSE: 0.2299 - val_loss: 0.1785 - val_MSE: 0.1785\n",
            "Epoch 64/100\n",
            "19/19 [==============================] - 2s 114ms/step - loss: 0.2191 - MSE: 0.2191 - val_loss: 0.1721 - val_MSE: 0.1721\n",
            "Epoch 65/100\n",
            "19/19 [==============================] - 2s 115ms/step - loss: 0.1968 - MSE: 0.1968 - val_loss: 0.1807 - val_MSE: 0.1807\n",
            "Epoch 66/100\n",
            "19/19 [==============================] - 2s 114ms/step - loss: 0.2089 - MSE: 0.2089 - val_loss: 0.1768 - val_MSE: 0.1768\n",
            "Epoch 67/100\n",
            "19/19 [==============================] - 2s 123ms/step - loss: 0.2097 - MSE: 0.2097 - val_loss: 0.1732 - val_MSE: 0.1732\n",
            "Epoch 68/100\n",
            "19/19 [==============================] - 2s 115ms/step - loss: 0.1896 - MSE: 0.1896 - val_loss: 0.1753 - val_MSE: 0.1753\n",
            "Epoch 69/100\n",
            "19/19 [==============================] - 2s 114ms/step - loss: 0.1969 - MSE: 0.1969 - val_loss: 0.1731 - val_MSE: 0.1731\n",
            "Epoch 70/100\n",
            "19/19 [==============================] - 2s 117ms/step - loss: 0.1938 - MSE: 0.1938 - val_loss: 0.1776 - val_MSE: 0.1776\n",
            "Epoch 71/100\n",
            "19/19 [==============================] - 2s 120ms/step - loss: 0.1806 - MSE: 0.1806 - val_loss: 0.1682 - val_MSE: 0.1682\n",
            "Epoch 72/100\n",
            "19/19 [==============================] - 2s 125ms/step - loss: 0.1777 - MSE: 0.1777 - val_loss: 0.1714 - val_MSE: 0.1714\n",
            "Epoch 73/100\n",
            "19/19 [==============================] - 2s 128ms/step - loss: 0.1875 - MSE: 0.1875 - val_loss: 0.1731 - val_MSE: 0.1731\n",
            "Epoch 74/100\n",
            "19/19 [==============================] - 2s 118ms/step - loss: 0.1764 - MSE: 0.1764 - val_loss: 0.1805 - val_MSE: 0.1805\n",
            "Epoch 75/100\n",
            "19/19 [==============================] - 2s 115ms/step - loss: 0.1668 - MSE: 0.1668 - val_loss: 0.1776 - val_MSE: 0.1776\n",
            "Epoch 76/100\n",
            "19/19 [==============================] - 2s 114ms/step - loss: 0.1714 - MSE: 0.1714 - val_loss: 0.1732 - val_MSE: 0.1732\n",
            "Epoch 77/100\n",
            "19/19 [==============================] - 2s 115ms/step - loss: 0.1856 - MSE: 0.1856 - val_loss: 0.1719 - val_MSE: 0.1719\n",
            "Epoch 78/100\n",
            "19/19 [==============================] - 2s 114ms/step - loss: 0.1761 - MSE: 0.1761 - val_loss: 0.1693 - val_MSE: 0.1693\n",
            "Epoch 79/100\n",
            "19/19 [==============================] - 2s 115ms/step - loss: 0.1619 - MSE: 0.1619 - val_loss: 0.1763 - val_MSE: 0.1763\n",
            "Epoch 80/100\n",
            "19/19 [==============================] - 2s 114ms/step - loss: 0.1748 - MSE: 0.1748 - val_loss: 0.1779 - val_MSE: 0.1779\n",
            "Epoch 81/100\n",
            "19/19 [==============================] - 2s 122ms/step - loss: 0.1640 - MSE: 0.1640 - val_loss: 0.1724 - val_MSE: 0.1724\n",
            "Epoch 82/100\n",
            "19/19 [==============================] - 2s 115ms/step - loss: 0.1705 - MSE: 0.1705 - val_loss: 0.1734 - val_MSE: 0.1734\n",
            "Epoch 83/100\n",
            "19/19 [==============================] - 2s 115ms/step - loss: 0.1663 - MSE: 0.1663 - val_loss: 0.1700 - val_MSE: 0.1700\n",
            "Epoch 84/100\n",
            "19/19 [==============================] - 2s 116ms/step - loss: 0.1769 - MSE: 0.1769 - val_loss: 0.1648 - val_MSE: 0.1648\n",
            "Epoch 85/100\n",
            "19/19 [==============================] - 2s 114ms/step - loss: 0.1716 - MSE: 0.1716 - val_loss: 0.1682 - val_MSE: 0.1682\n",
            "Epoch 86/100\n",
            "19/19 [==============================] - 2s 114ms/step - loss: 0.1643 - MSE: 0.1643 - val_loss: 0.1669 - val_MSE: 0.1669\n",
            "Epoch 87/100\n",
            "19/19 [==============================] - 2s 117ms/step - loss: 0.1711 - MSE: 0.1711 - val_loss: 0.1643 - val_MSE: 0.1643\n",
            "Epoch 88/100\n",
            "19/19 [==============================] - 2s 114ms/step - loss: 0.1612 - MSE: 0.1612 - val_loss: 0.1704 - val_MSE: 0.1704\n",
            "Epoch 89/100\n",
            "19/19 [==============================] - 2s 115ms/step - loss: 0.1640 - MSE: 0.1640 - val_loss: 0.1672 - val_MSE: 0.1672\n",
            "Epoch 90/100\n",
            "19/19 [==============================] - 2s 115ms/step - loss: 0.1627 - MSE: 0.1627 - val_loss: 0.1724 - val_MSE: 0.1724\n",
            "Epoch 91/100\n",
            "19/19 [==============================] - 2s 115ms/step - loss: 0.1561 - MSE: 0.1561 - val_loss: 0.1700 - val_MSE: 0.1700\n",
            "Epoch 92/100\n",
            "19/19 [==============================] - 2s 116ms/step - loss: 0.1572 - MSE: 0.1572 - val_loss: 0.1731 - val_MSE: 0.1731\n",
            "Epoch 93/100\n",
            "19/19 [==============================] - 2s 116ms/step - loss: 0.1613 - MSE: 0.1613 - val_loss: 0.1601 - val_MSE: 0.1601\n",
            "Epoch 94/100\n",
            "19/19 [==============================] - 2s 123ms/step - loss: 0.1639 - MSE: 0.1639 - val_loss: 0.1656 - val_MSE: 0.1656\n",
            "Epoch 95/100\n",
            "19/19 [==============================] - 2s 128ms/step - loss: 0.1580 - MSE: 0.1580 - val_loss: 0.1677 - val_MSE: 0.1677\n",
            "Epoch 96/100\n",
            "19/19 [==============================] - 3s 136ms/step - loss: 0.1554 - MSE: 0.1554 - val_loss: 0.1621 - val_MSE: 0.1621\n",
            "Epoch 97/100\n",
            "19/19 [==============================] - 2s 125ms/step - loss: 0.1520 - MSE: 0.1520 - val_loss: 0.1735 - val_MSE: 0.1735\n",
            "Epoch 98/100\n",
            "19/19 [==============================] - 2s 127ms/step - loss: 0.1572 - MSE: 0.1572 - val_loss: 0.1708 - val_MSE: 0.1708\n",
            "Epoch 99/100\n",
            "19/19 [==============================] - 2s 128ms/step - loss: 0.1634 - MSE: 0.1634 - val_loss: 0.1650 - val_MSE: 0.1650\n",
            "Epoch 100/100\n",
            "19/19 [==============================] - 2s 125ms/step - loss: 0.1537 - MSE: 0.1537 - val_loss: 0.1613 - val_MSE: 0.1613\n"
          ]
        },
        {
          "output_type": "execute_result",
          "data": {
            "text/plain": [
              "<keras.callbacks.History at 0x7f685e206410>"
            ]
          },
          "metadata": {},
          "execution_count": 8
        }
      ],
      "source": [
        "y_train = np.float64(y_train)\n",
        "y_train_max = y_train.max()\n",
        "\n",
        "X_train_volume_max = X_train_volume.max()\n",
        "\n",
        "model.compile(\n",
        "    loss=\"MSE\",\n",
        "    optimizer=keras.optimizers.Adam(learning_rate=0.00001),\n",
        "    metrics=[\"MSE\"],\n",
        ")\n",
        "\n",
        "model.fit([X_train, np.log(X_train_volume)], np.log(y_train), batch_size = 8, epochs = 100, verbose = 1,validation_split=0.2)\n"
      ]
    },
    {
      "cell_type": "code",
      "execution_count": 9,
      "metadata": {
        "id": "2SBZORUO_5vT"
      },
      "outputs": [],
      "source": [
        "y_train_max = y_train.max()\n",
        "preds = model.predict([X_train, np.log(X_train_volume)])#*y_train_max"
      ]
    },
    {
      "cell_type": "code",
      "source": [
        "np.sum(((preds)-(np.log(y_train))))/len(preds)"
      ],
      "metadata": {
        "id": "Gp9BDJ66212y",
        "outputId": "fb5ad200-84b7-410a-fb37-68d2ca0a314f",
        "colab": {
          "base_uri": "https://localhost:8080/",
          "height": 166
        }
      },
      "execution_count": 1,
      "outputs": [
        {
          "output_type": "error",
          "ename": "NameError",
          "evalue": "ignored",
          "traceback": [
            "\u001b[0;31m---------------------------------------------------------------------------\u001b[0m",
            "\u001b[0;31mNameError\u001b[0m                                 Traceback (most recent call last)",
            "\u001b[0;32m<ipython-input-1-1072d8689564>\u001b[0m in \u001b[0;36m<module>\u001b[0;34m()\u001b[0m\n\u001b[0;32m----> 1\u001b[0;31m \u001b[0mnp\u001b[0m\u001b[0;34m.\u001b[0m\u001b[0msum\u001b[0m\u001b[0;34m(\u001b[0m\u001b[0;34m(\u001b[0m\u001b[0;34m(\u001b[0m\u001b[0mpreds\u001b[0m\u001b[0;34m)\u001b[0m\u001b[0;34m-\u001b[0m\u001b[0;34m(\u001b[0m\u001b[0mnp\u001b[0m\u001b[0;34m.\u001b[0m\u001b[0mlog\u001b[0m\u001b[0;34m(\u001b[0m\u001b[0my_train\u001b[0m\u001b[0;34m)\u001b[0m\u001b[0;34m)\u001b[0m\u001b[0;34m)\u001b[0m\u001b[0;34m)\u001b[0m\u001b[0;34m/\u001b[0m\u001b[0mlen\u001b[0m\u001b[0;34m(\u001b[0m\u001b[0mpreds\u001b[0m\u001b[0;34m)\u001b[0m\u001b[0;34m\u001b[0m\u001b[0;34m\u001b[0m\u001b[0m\n\u001b[0m",
            "\u001b[0;31mNameError\u001b[0m: name 'np' is not defined"
          ]
        }
      ]
    },
    {
      "cell_type": "code",
      "source": [
        "np.exp(preds)"
      ],
      "metadata": {
        "id": "fO-njwLL3Vpl",
        "outputId": "3c5a8176-ad1e-4d84-c281-a4970902d362",
        "colab": {
          "base_uri": "https://localhost:8080/"
        }
      },
      "execution_count": 14,
      "outputs": [
        {
          "output_type": "execute_result",
          "data": {
            "text/plain": [
              "array([[7.87043115e+03],\n",
              "       [2.47031973e+04],\n",
              "       [4.98157148e+04],\n",
              "       [5.74234229e+03],\n",
              "       [5.46663037e+03],\n",
              "       [3.95006152e+03],\n",
              "       [2.39162754e+04],\n",
              "       [6.92928271e+03],\n",
              "       [8.90610625e+04],\n",
              "       [3.27020361e+03],\n",
              "       [3.08263403e+03],\n",
              "       [6.14138135e+03],\n",
              "       [1.88391582e+04],\n",
              "       [1.19131807e+04],\n",
              "       [2.51163730e+04],\n",
              "       [1.11226318e+04],\n",
              "       [1.71669531e+03],\n",
              "       [7.69594453e+04],\n",
              "       [6.46361963e+03],\n",
              "       [5.49705664e+03],\n",
              "       [3.43621758e+04],\n",
              "       [2.28198086e+04],\n",
              "       [1.17278641e+02],\n",
              "       [1.36447168e+04],\n",
              "       [5.33147754e+03],\n",
              "       [5.38385449e+03],\n",
              "       [2.91393896e+03],\n",
              "       [7.73897314e+03],\n",
              "       [7.38452031e+04],\n",
              "       [4.13495195e+04],\n",
              "       [1.29137158e+04],\n",
              "       [5.52675049e+03],\n",
              "       [6.70803857e+03],\n",
              "       [2.09610596e+03],\n",
              "       [1.16563281e+04],\n",
              "       [9.48935156e+03],\n",
              "       [1.07746885e+04],\n",
              "       [7.35390332e+03],\n",
              "       [3.87554727e+04],\n",
              "       [1.22870088e+04],\n",
              "       [7.57197314e+03],\n",
              "       [3.59074634e+03],\n",
              "       [8.40825078e+04],\n",
              "       [1.14314531e+04],\n",
              "       [2.25093184e+04],\n",
              "       [3.20738809e+04],\n",
              "       [1.02858105e+03],\n",
              "       [1.22424697e+04],\n",
              "       [5.85092407e+02],\n",
              "       [4.47824844e+05],\n",
              "       [6.93928857e+03],\n",
              "       [1.56024443e+04],\n",
              "       [1.28542471e+04],\n",
              "       [5.54625781e+04],\n",
              "       [1.10028503e+03],\n",
              "       [1.62416469e+05],\n",
              "       [6.96409375e+04],\n",
              "       [9.63478027e+03],\n",
              "       [2.19081016e+04],\n",
              "       [3.64967712e+02],\n",
              "       [4.51412695e+04],\n",
              "       [2.22539941e+04],\n",
              "       [1.28474512e+03],\n",
              "       [5.61276709e+03],\n",
              "       [8.34323438e+03],\n",
              "       [1.48157422e+05],\n",
              "       [7.57188721e+03],\n",
              "       [1.07538855e+03],\n",
              "       [7.68608203e+03],\n",
              "       [8.68780371e+03],\n",
              "       [7.68724756e+03],\n",
              "       [6.26276025e+03],\n",
              "       [4.49447250e+05],\n",
              "       [2.61036953e+04],\n",
              "       [2.39229719e+05],\n",
              "       [5.88962656e+04],\n",
              "       [7.62201782e+02],\n",
              "       [2.80458832e+02],\n",
              "       [7.10011406e+04],\n",
              "       [2.21288340e+04],\n",
              "       [1.62848719e+05],\n",
              "       [3.43086029e+02],\n",
              "       [1.20516094e+04],\n",
              "       [9.03343323e+02],\n",
              "       [3.31601392e+03],\n",
              "       [5.31749854e+03],\n",
              "       [1.56754502e+04],\n",
              "       [7.07107324e+03],\n",
              "       [7.32101250e+04],\n",
              "       [2.98273672e+04],\n",
              "       [4.27178094e+05],\n",
              "       [1.11055566e+04],\n",
              "       [1.32262119e+04],\n",
              "       [1.98701343e+03],\n",
              "       [1.09642297e+05],\n",
              "       [5.30359131e+03],\n",
              "       [9.67300684e+03],\n",
              "       [1.75317875e+05],\n",
              "       [9.37813672e+03],\n",
              "       [9.99878125e+03],\n",
              "       [1.81595781e+04],\n",
              "       [3.16014434e+04],\n",
              "       [4.32985400e+03],\n",
              "       [4.93330597e+02],\n",
              "       [2.22489238e+04],\n",
              "       [3.81266172e+04],\n",
              "       [3.04709814e+03],\n",
              "       [9.06062500e+03],\n",
              "       [7.14278125e+03],\n",
              "       [1.44265094e+05],\n",
              "       [1.75542578e+05],\n",
              "       [7.02494434e+03],\n",
              "       [5.18690547e+04],\n",
              "       [1.84851892e+03],\n",
              "       [3.28638125e+04],\n",
              "       [1.33569502e+04],\n",
              "       [2.03979590e+04],\n",
              "       [2.60540312e+04],\n",
              "       [4.44190234e+03],\n",
              "       [7.03622852e+03],\n",
              "       [1.50050244e+04],\n",
              "       [2.42345645e+04],\n",
              "       [4.61588203e+04],\n",
              "       [1.78603422e+05],\n",
              "       [3.76676782e+03],\n",
              "       [8.61345605e+03],\n",
              "       [7.10386641e+04],\n",
              "       [1.53084883e+04],\n",
              "       [5.18615430e+04],\n",
              "       [5.12677246e+03],\n",
              "       [1.56969014e+04],\n",
              "       [1.06928223e+03],\n",
              "       [1.90193625e+05],\n",
              "       [2.38230566e+04],\n",
              "       [5.00286475e+03],\n",
              "       [4.28895625e+04],\n",
              "       [3.32214062e+04],\n",
              "       [4.69309387e+02],\n",
              "       [1.20268213e+04],\n",
              "       [5.45867773e+04],\n",
              "       [1.35645098e+04],\n",
              "       [2.06163428e+03],\n",
              "       [3.50659973e+02],\n",
              "       [2.65149829e+03],\n",
              "       [3.97330703e+04],\n",
              "       [2.39145547e+05],\n",
              "       [2.14943896e+03],\n",
              "       [2.00444934e+03],\n",
              "       [5.98153809e+03],\n",
              "       [1.26091465e+04],\n",
              "       [6.77902441e+03],\n",
              "       [1.74548291e+03],\n",
              "       [2.70894873e+03],\n",
              "       [4.23456797e+04],\n",
              "       [1.25143506e+04],\n",
              "       [7.74443281e+04],\n",
              "       [2.28812617e+04],\n",
              "       [3.10798804e+03],\n",
              "       [6.18854541e+03],\n",
              "       [9.20988037e+02],\n",
              "       [3.67740078e+04],\n",
              "       [8.85486875e+04],\n",
              "       [9.68299766e+04],\n",
              "       [1.56081289e+04],\n",
              "       [5.59362646e+03],\n",
              "       [2.19083945e+04],\n",
              "       [2.20538340e+04],\n",
              "       [1.60363721e+03],\n",
              "       [1.00083496e+04],\n",
              "       [1.96656555e+03],\n",
              "       [2.68276758e+04],\n",
              "       [6.52389922e+04],\n",
              "       [2.47736895e+04],\n",
              "       [6.24259912e+03],\n",
              "       [3.19736445e+04],\n",
              "       [1.54549590e+04],\n",
              "       [1.35952875e+05],\n",
              "       [1.55752979e+04],\n",
              "       [1.08632141e+03],\n",
              "       [1.29703266e+05],\n",
              "       [6.92165078e+04],\n",
              "       [1.43131426e+04],\n",
              "       [6.69618848e+03],\n",
              "       [1.56152910e+04],\n",
              "       [3.14575775e+02],\n",
              "       [1.16646347e+02],\n",
              "       [5.48465391e+04],\n",
              "       [1.46324199e+04]], dtype=float32)"
            ]
          },
          "metadata": {},
          "execution_count": 14
        }
      ]
    },
    {
      "cell_type": "code",
      "execution_count": 15,
      "metadata": {
        "id": "Q__hxu6g_5vU",
        "outputId": "a4fd89ae-3c01-4c37-bfe3-48b138a828c2",
        "colab": {
          "base_uri": "https://localhost:8080/"
        }
      },
      "outputs": [
        {
          "output_type": "execute_result",
          "data": {
            "text/plain": [
              "array([1.77900e+04, 5.95770e+04, 4.92700e+04, 8.83500e+03, 6.03500e+03,\n",
              "       4.37000e+03, 3.31020e+04, 5.99600e+03, 9.73090e+04, 2.56400e+03,\n",
              "       4.73700e+03, 6.96500e+03, 3.10130e+04, 1.37360e+04, 1.15430e+04,\n",
              "       7.54400e+03, 1.36500e+03, 6.75540e+04, 9.44700e+03, 3.54000e+03,\n",
              "       4.89190e+04, 1.95850e+04, 1.71000e+02, 7.86300e+03, 3.83800e+03,\n",
              "       6.57200e+03, 5.51800e+03, 9.58800e+03, 6.42140e+04, 5.96900e+04,\n",
              "       1.31260e+04, 4.38500e+03, 8.71600e+03, 1.99300e+03, 1.15240e+04,\n",
              "       1.11980e+04, 1.41810e+04, 5.38200e+03, 4.07120e+04, 1.28960e+04,\n",
              "       9.47500e+03, 3.51300e+03, 5.78600e+04, 1.48020e+04, 1.43660e+04,\n",
              "       3.24590e+04, 1.22200e+03, 3.58310e+04, 6.45000e+02, 2.70326e+05,\n",
              "       4.19700e+03, 1.14450e+04, 1.69310e+04, 6.18070e+04, 9.44000e+02,\n",
              "       9.26500e+04, 8.70320e+04, 6.00700e+03, 1.37260e+04, 3.50000e+02,\n",
              "       4.42070e+04, 1.39320e+04, 1.05800e+03, 7.27800e+03, 1.11230e+04,\n",
              "       1.30809e+05, 6.98400e+03, 9.36000e+02, 8.43100e+03, 1.09690e+04,\n",
              "       8.84000e+03, 5.43500e+03, 2.90400e+05, 2.46690e+04, 1.30346e+05,\n",
              "       1.33696e+05, 9.13000e+02, 6.18000e+02, 1.79864e+05, 3.27570e+04,\n",
              "       9.25490e+04, 4.58000e+02, 2.02980e+04, 8.64000e+02, 2.50100e+03,\n",
              "       3.28900e+03, 1.17680e+04, 8.48300e+03, 3.39430e+04, 3.16340e+04,\n",
              "       2.54978e+05, 7.54100e+03, 1.68160e+04, 4.42000e+03, 1.40686e+05,\n",
              "       1.02620e+04, 6.07100e+03, 1.18752e+05, 1.27320e+04, 1.14130e+04,\n",
              "       1.98650e+04, 3.21270e+04, 5.53100e+03, 5.91000e+02, 1.41140e+04,\n",
              "       4.68500e+04, 1.05580e+04, 1.22920e+04, 8.77000e+03, 6.20670e+04,\n",
              "       1.18778e+05, 5.38400e+03, 4.97120e+04, 1.77500e+03, 2.98430e+04,\n",
              "       9.37300e+03, 3.40560e+04, 2.59580e+04, 7.26200e+03, 5.26300e+03,\n",
              "       1.67830e+04, 1.78540e+04, 3.67520e+04, 1.17421e+05, 2.45500e+03,\n",
              "       1.39690e+04, 1.79815e+05, 1.78840e+04, 3.17600e+04, 5.76500e+03,\n",
              "       1.99980e+04, 1.08200e+03, 1.28674e+05, 3.54170e+04, 4.51900e+03,\n",
              "       3.46880e+04, 3.27220e+04, 4.17000e+02, 2.62980e+04, 5.03800e+04,\n",
              "       9.33500e+03, 1.44400e+03, 4.67000e+02, 2.31900e+03, 4.48950e+04,\n",
              "       1.30217e+05, 2.03100e+03, 1.44800e+03, 9.47500e+03, 1.10670e+04,\n",
              "       4.85000e+03, 1.71700e+03, 7.92600e+03, 3.44350e+04, 7.12600e+03,\n",
              "       6.00230e+04, 2.45680e+04, 2.06800e+03, 5.45200e+03, 9.83000e+02,\n",
              "       3.13980e+04, 5.84800e+04, 5.60700e+04, 1.84990e+04, 4.63500e+03,\n",
              "       1.37170e+04, 2.00380e+04, 1.78600e+03, 5.60000e+03, 2.39800e+03,\n",
              "       1.37610e+04, 8.46910e+04, 1.05800e+04, 6.77800e+03, 3.19340e+04,\n",
              "       1.25690e+04, 1.06833e+05, 9.81100e+03, 8.79000e+02, 5.80520e+04,\n",
              "       1.00902e+05, 1.63710e+04, 9.01100e+03, 1.97570e+04, 4.15000e+02,\n",
              "       1.70000e+02, 3.29900e+04, 1.79150e+04])"
            ]
          },
          "metadata": {},
          "execution_count": 15
        }
      ],
      "source": [
        "y_train"
      ]
    }
  ],
  "metadata": {
    "accelerator": "GPU",
    "colab": {
      "name": "mppd.ipynb",
      "provenance": []
    },
    "interpreter": {
      "hash": "50ffb7d2e1c20b3fce74969edadf992c5e2c62f97786e5c092ebf6cc72a542c6"
    },
    "kernelspec": {
      "display_name": "Python 3.8.3 64-bit ('MPPE': conda)",
      "name": "python3"
    },
    "language_info": {
      "codemirror_mode": {
        "name": "ipython",
        "version": 3
      },
      "file_extension": ".py",
      "mimetype": "text/x-python",
      "name": "python",
      "nbconvert_exporter": "python",
      "pygments_lexer": "ipython3",
      "version": "3.8.3"
    },
    "orig_nbformat": 4
  },
  "nbformat": 4,
  "nbformat_minor": 0
}